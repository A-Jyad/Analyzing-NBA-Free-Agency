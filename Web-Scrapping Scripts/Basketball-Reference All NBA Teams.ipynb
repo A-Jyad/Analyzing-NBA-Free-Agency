{
  "cells": [
    {
      "metadata": {
        "trusted": true
      },
      "cell_type": "code",
      "source": "import requests\nimport pandas as pd\nimport re\nfrom bs4 import BeautifulSoup\n\nclass All_NBA_Team:\n    def __init__(self, link):\n        self.link = link\n        self.request = requests.get(self.link)\n        self.soup = BeautifulSoup(self.request.text, 'html.parser')\n        self.results = self.soup.find_all('tr')[1:]\n    def Create_Table(self):\n        Year = []\n        Team = []\n        Player = []\n        for result in self.results:\n            Year += [result.contents[0].text[0:2] + result.contents[0].text[-2:]]*5\n            Team += [result.contents[2].text]*5\n            Player += [result.contents[3].text[:-2]]\n            Player += [result.contents[4].text[:-2]]\n            Player += [result.contents[5].text[:-2]]\n            Player += [result.contents[6].text[:-2]]\n            Player += [result.contents[7].text[:-2]]\n        Data = pd.DataFrame({'Year' : Year, 'Team' : Team, 'Player' : Player})\n        return(Data)",
      "execution_count": 62,
      "outputs": []
    },
    {
      "metadata": {
        "trusted": true
      },
      "cell_type": "code",
      "source": "allnba = All_NBA_Team('https://www.basketball-reference.com/awards/all_league.html').Create_Table()\nallnba.drop(allnba[allnba['Year'] == ''].index, inplace = True)\nallnba.replace('1900', '2000', inplace = True)\nallnba.to_csv('Basketball-Reference All NBA Teams.csv')",
      "execution_count": 63,
      "outputs": []
    },
    {
      "metadata": {
        "trusted": true
      },
      "cell_type": "code",
      "source": "allrookie = All_NBA_Team('https://www.basketball-reference.com/awards/all_rookie.html').Create_Table()\nallrookie.drop(allrookie[allrookie['Year'] == ''].index, inplace = True)\nallnba.replace('1900', '2000', inplace = True)\nallrookie.to_csv('Basketball-Reference All NBA Rookie Teams.csv')",
      "execution_count": 58,
      "outputs": []
    },
    {
      "metadata": {
        "trusted": true
      },
      "cell_type": "code",
      "source": "alldefensive = All_NBA_Team('https://www.basketball-reference.com/awards/all_defense.html').Create_Table()\nalldefensive.drop(alldefensive[alldefensive['Year'] == ''].index, inplace = True)\nallnba.replace('1900', '2000', inplace = True)\nalldefensive.to_csv('Basketball-Reference All NBA Defensive Teams.csv')",
      "execution_count": 59,
      "outputs": []
    },
    {
      "metadata": {
        "trusted": true
      },
      "cell_type": "code",
      "source": "",
      "execution_count": null,
      "outputs": []
    }
  ],
  "metadata": {
    "kernelspec": {
      "name": "python36",
      "display_name": "Python 3.6",
      "language": "python"
    },
    "language_info": {
      "mimetype": "text/x-python",
      "nbconvert_exporter": "python",
      "name": "python",
      "pygments_lexer": "ipython3",
      "version": "3.6.6",
      "file_extension": ".py",
      "codemirror_mode": {
        "version": 3,
        "name": "ipython"
      }
    }
  },
  "nbformat": 4,
  "nbformat_minor": 2
}