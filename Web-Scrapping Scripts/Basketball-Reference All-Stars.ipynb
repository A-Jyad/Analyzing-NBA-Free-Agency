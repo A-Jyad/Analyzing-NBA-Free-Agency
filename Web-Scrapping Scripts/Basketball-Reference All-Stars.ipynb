{
  "cells": [
    {
      "metadata": {
        "trusted": true
      },
      "cell_type": "code",
      "source": "import requests\nimport pandas as pd\nimport re\nfrom bs4 import BeautifulSoup\n\nclass NBA_All_Stars:\n    def __init__(self, link):\n        self.link = link\n        self.request = requests.get(self.link)\n        self.soup = BeautifulSoup(self.request.text, 'html.parser')\n        self.results = self.soup.find_all('tr')[6:]\n        try:\n            self.results1 = self.soup.find_all('ul', attrs = {'class' : \"page_index\"})[0].find_all('a')\n        except:\n            pass\n    def Create_Table(self):\n        Player = []\n        for result in self.results:\n            Player += [result.contents[0].text] if (result.contents[0] != '\\n') else []\n        try:    \n            for result in self.results1:\n                Player += [result.contents[0]]\n        except:\n            pass\n        Player.remove('Team Totals')\n        Player.remove('Team Totals')\n        Data = pd.DataFrame(Player, columns = ['Player'])\n        Year = int(self.link[-9:-5])\n        Data['Year'] = Year\n        return(Data)\n    \na = 'https://www.basketball-reference.com/allstar/NBA_1998.html'\nc = []\nfor i in range(2000, 2020):\n    i = str(i)\n    c += [a.replace('1998', i)]\n\ntable = NBA_All_Stars('https://www.basketball-reference.com/allstar/NBA_1998.html').Create_Table()\nfor i, k in enumerate(c):\n    table = table.append(Salary_Data(k).Create_Table())",
      "execution_count": 38,
      "outputs": []
    },
    {
      "metadata": {
        "trusted": true
      },
      "cell_type": "code",
      "source": "table.reset_index(drop = True, inplace = True)",
      "execution_count": 39,
      "outputs": []
    },
    {
      "metadata": {
        "trusted": true
      },
      "cell_type": "code",
      "source": "table.to_csv('Basketball-Reference All-Stars.csv', index = False)",
      "execution_count": 40,
      "outputs": []
    },
    {
      "metadata": {
        "trusted": true
      },
      "cell_type": "code",
      "source": "",
      "execution_count": null,
      "outputs": []
    }
  ],
  "metadata": {
    "kernelspec": {
      "name": "python36",
      "display_name": "Python 3.6",
      "language": "python"
    },
    "language_info": {
      "mimetype": "text/x-python",
      "nbconvert_exporter": "python",
      "name": "python",
      "pygments_lexer": "ipython3",
      "version": "3.6.6",
      "file_extension": ".py",
      "codemirror_mode": {
        "version": 3,
        "name": "ipython"
      }
    }
  },
  "nbformat": 4,
  "nbformat_minor": 2
}