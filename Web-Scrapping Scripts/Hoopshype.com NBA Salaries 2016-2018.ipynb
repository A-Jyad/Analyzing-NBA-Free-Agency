{
  "cells": [
    {
      "metadata": {
        "trusted": true
      },
      "cell_type": "code",
      "source": "import requests\nimport pandas as pd\nimport re\nfrom bs4 import BeautifulSoup\n\nclass Salary_Data:\n    def __init__(self, link):\n        self.link = link\n        self.request = requests.get(self.link)\n        self.soup = BeautifulSoup(self.request.text, 'html.parser')\n        self.results = self.soup.find_all('tr')[1:]\n        \n    def Create_Table(self):\n        records = []\n        for result in self.results:\n            Player = re.compile('[\\n\\t]').sub('', result.contents[3].text)\n            Actual_Salary = int(re.compile('[$,\\n\\t]').sub('', result.contents[5].text))\n            Adjusted_Salary = int(re.compile('[$,\\n\\t]').sub('', result.contents[7].text))\n            records.append((Player, Actual_Salary, Adjusted_Salary))\n        Data = pd.DataFrame(records, columns = ['Player', 'Actual_Salary', 'Adjusted_Salary'])\n        Year = int(self.link[-10:-6])\n        Data['Year'] = Year\n        return(Data)\n    \na = 'https://hoopshype.com/salaries/players/2016-2017/'\nc = []\nfor i in range(2018, 2020):\n    j = str(i-1)\n    i = str(i)\n    c += [a.replace('2017', i).replace('2016', j)]\n\ntable = Salary_Data('https://hoopshype.com/salaries/players/2016-2017/').Create_Table()\nfor i, k in enumerate(c):\n    table = table.append(Salary_Data(k).Create_Table())",
      "execution_count": 30,
      "outputs": []
    },
    {
      "metadata": {
        "trusted": true
      },
      "cell_type": "code",
      "source": "table.to_csv('Hoopshype.com NBA Salaries 2016-2018.csv')",
      "execution_count": 31,
      "outputs": []
    },
    {
      "metadata": {
        "trusted": true
      },
      "cell_type": "code",
      "source": "",
      "execution_count": null,
      "outputs": []
    }
  ],
  "metadata": {
    "kernelspec": {
      "name": "python36",
      "display_name": "Python 3.6",
      "language": "python"
    },
    "language_info": {
      "mimetype": "text/x-python",
      "nbconvert_exporter": "python",
      "name": "python",
      "pygments_lexer": "ipython3",
      "version": "3.6.6",
      "file_extension": ".py",
      "codemirror_mode": {
        "version": 3,
        "name": "ipython"
      }
    }
  },
  "nbformat": 4,
  "nbformat_minor": 2
}