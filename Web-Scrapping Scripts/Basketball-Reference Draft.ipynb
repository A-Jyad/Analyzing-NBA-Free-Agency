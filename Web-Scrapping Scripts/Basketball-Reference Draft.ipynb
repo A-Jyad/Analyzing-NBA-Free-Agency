{
  "cells": [
    {
      "metadata": {
        "trusted": true
      },
      "cell_type": "code",
      "source": "import requests\nimport pandas as pd\nimport re\nfrom bs4 import BeautifulSoup",
      "execution_count": 1,
      "outputs": []
    },
    {
      "metadata": {
        "trusted": true
      },
      "cell_type": "code",
      "source": "class Salary_Data:\n    def __init__(self, link):\n        self.link = link\n        self.request = requests.get(self.link)\n        self.soup = BeautifulSoup(self.request.text, 'html.parser')\n        self.results = self.soup.find_all('tr')[2:]\n        \n    def Create_Table(self):\n        records = []\n        for result in self.results:\n            try:\n                Pick = result.contents[1].text\n                Player = result.contents[3].text\n                College = result.contents[4].text\n                records.append((Pick, Player, College))\n            except:\n                pass\n        Data = pd.DataFrame(records, columns = ['Pick', 'Player', 'College'])\n        Year = int(self.link[-9:-5])\n        Data['Year'] = Year\n        return(Data)\n    \na = 'https://www.basketball-reference.com/draft/NBA_1991.html'\nc = []\nfor i in range(1992, 2020):\n    i = str(i)\n    c += [a.replace('1991', i)]\n    \ntable = Salary_Data('https://www.basketball-reference.com/draft/NBA_1991.html').Create_Table()\nfor i, k in enumerate(c):\n    table = table.append(Salary_Data(k).Create_Table())",
      "execution_count": 26,
      "outputs": []
    },
    {
      "metadata": {
        "trusted": true
      },
      "cell_type": "code",
      "source": "table.to_csv('Basketball-Reference Draft.csv')",
      "execution_count": 30,
      "outputs": []
    },
    {
      "metadata": {
        "trusted": true
      },
      "cell_type": "code",
      "source": "",
      "execution_count": null,
      "outputs": []
    }
  ],
  "metadata": {
    "kernelspec": {
      "name": "python36",
      "display_name": "Python 3.6",
      "language": "python"
    },
    "language_info": {
      "mimetype": "text/x-python",
      "nbconvert_exporter": "python",
      "name": "python",
      "pygments_lexer": "ipython3",
      "version": "3.6.6",
      "file_extension": ".py",
      "codemirror_mode": {
        "version": 3,
        "name": "ipython"
      }
    }
  },
  "nbformat": 4,
  "nbformat_minor": 2
}