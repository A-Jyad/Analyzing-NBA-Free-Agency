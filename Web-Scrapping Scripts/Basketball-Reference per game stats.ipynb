{
  "cells": [
    {
      "metadata": {
        "trusted": true
      },
      "cell_type": "code",
      "source": "import requests\nimport pandas as pd\nimport re\nfrom bs4 import BeautifulSoup\n\nclass Salary_Data:\n    def __init__(self, link):\n        self.link = link\n        self.request = requests.get(self.link)\n        self.soup = BeautifulSoup(self.request.text, 'html.parser')\n        self.results = self.soup.find_all('tr', attrs = {'class' : ['full_table', 'italic_text partial_table']})\n        \n    def Create_Table(self):\n        records = []\n        for result in self.results:\n            Player = result.contents[1].text\n            Pos = result.contents[2].text\n            Age = result.contents[3].text\n            Tm = result.contents[4].text\n            G = result.contents[5].text\n            GS = result.contents[6].text\n            MP = result.contents[7].text\n            FG = result.contents[8].text\n            FGA = result.contents[9].text\n            FGP = result.contents[10].text\n            TP = result.contents[11].text\n            TPA = result.contents[12].text\n            TPP = result.contents[13].text\n            TTP = result.contents[14].text\n            TTPA = result.contents[15].text\n            TTPP = result.contents[16].text\n            eFG = result.contents[17].text \n            FT = result.contents[18].text\n            FTA = result.contents[19].text\n            FTP = result.contents[20].text\n            ORB = result.contents[21].text\n            DRB = result.contents[22].text\n            TRB = result.contents[23].text\n            AST = result.contents[24].text\n            STL = result.contents[25].text\n            BLK = result.contents[26].text\n            TOV = result.contents[27].text\n            PF = result.contents[28].text\n            PTS = result.contents[29].text\n            records.append((Player, Pos, Age, Tm, G, GS, MP, FG, FGA, FGP, TP, TPA, TPP, TTP, TTPA, TTPP, eFG, FT, FTA, FTP,\n                            ORB, DRB, TRB, AST, STL, BLK, TOV, PF, PTS))\n        Data = pd.DataFrame(records, columns = ['Player', 'Pos', 'Age', 'Tm', 'G', 'GS', 'MP', 'FG', 'FGA', 'FG%', \n                                                '3P', '3PA', '3P%', '2P', '2PA', '2P%', 'eFT%', 'FT', 'FTA', 'FT%', 'ORB',\n                                                'DRB', 'TRB', 'AST', 'STL', 'BLK', 'TOV', 'PF', 'PTS'])\n        Year = int(self.link[-18:-14])\n        Data['Year'] = Year\n        return(Data)\n    \na = 'https://www.basketball-reference.com/leagues/NBA_2017_per_game.html'\nc = []\nfor i in range(2017, 2020):\n    i = str(i)\n    c += [a.replace('2017', i)]\n    \nc.pop(0)\n\ntable = Salary_Data('https://www.basketball-reference.com/leagues/NBA_2017_per_game.html').Create_Table()\nfor i, k in enumerate(c):\n    table = table.append(Salary_Data(k).Create_Table())",
      "execution_count": 7,
      "outputs": []
    },
    {
      "metadata": {
        "trusted": true
      },
      "cell_type": "code",
      "source": "table.reset_index(drop = True, inplace = True)",
      "execution_count": 9,
      "outputs": []
    },
    {
      "metadata": {
        "trusted": true
      },
      "cell_type": "code",
      "source": "table.to_csv('Basketball-Reference per game stats 2017-19.csv', index = False)",
      "execution_count": 11,
      "outputs": []
    },
    {
      "metadata": {
        "trusted": true
      },
      "cell_type": "code",
      "source": "",
      "execution_count": null,
      "outputs": []
    }
  ],
  "metadata": {
    "kernelspec": {
      "name": "python36",
      "display_name": "Python 3.6",
      "language": "python"
    },
    "language_info": {
      "mimetype": "text/x-python",
      "nbconvert_exporter": "python",
      "name": "python",
      "pygments_lexer": "ipython3",
      "version": "3.6.6",
      "file_extension": ".py",
      "codemirror_mode": {
        "version": 3,
        "name": "ipython"
      }
    }
  },
  "nbformat": 4,
  "nbformat_minor": 2
}