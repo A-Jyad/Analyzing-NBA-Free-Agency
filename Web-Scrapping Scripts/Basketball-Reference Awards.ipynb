{
  "cells": [
    {
      "metadata": {
        "trusted": true
      },
      "cell_type": "code",
      "source": "import requests\nimport pandas as pd\nimport re\nfrom bs4 import BeautifulSoup\n\nclass Awards:\n    def __init__(self, link):\n        self.link = link\n        self.request = requests.get(self.link)\n        self.soup = BeautifulSoup(self.request.text, 'html.parser')\n        self.results = self.soup.find_all('tr')[2:]\n    def Create_Table(self):\n        Year = []\n        Player = []\n        for result in self.results:\n            try:\n                Year += [int(result.contents[0].text[0:2] + result.contents[0].text[-2:])]\n                Player += [result.contents[2].text] if result.contents[2].text[-5:] != '(Tie)' else [result.contents[2].text[:-5]]\n            except:\n                pass\n        Data = pd.DataFrame({'Year' : Year, 'Player' : Player})\n        return(Data)",
      "execution_count": 46,
      "outputs": []
    },
    {
      "metadata": {
        "trusted": true
      },
      "cell_type": "code",
      "source": "mvp = Awards('https://www.basketball-reference.com/awards/mvp.html').Create_Table()\nmvp['MVP'] = 1",
      "execution_count": 47,
      "outputs": []
    },
    {
      "metadata": {
        "trusted": true
      },
      "cell_type": "code",
      "source": "roy = Awards('https://www.basketball-reference.com/awards/roy.html').Create_Table()\nroy['Rookie of Year'] = 1",
      "execution_count": 48,
      "outputs": []
    },
    {
      "metadata": {
        "trusted": true
      },
      "cell_type": "code",
      "source": "dpoy = Awards('https://www.basketball-reference.com/awards/dpoy.html').Create_Table()\ndpoy['DPOY'] = 1",
      "execution_count": 49,
      "outputs": []
    },
    {
      "metadata": {
        "trusted": true
      },
      "cell_type": "code",
      "source": "smoy = Awards('https://www.basketball-reference.com/awards/smoy.html').Create_Table()\nsmoy['6th man of Year'] = 1",
      "execution_count": 50,
      "outputs": []
    },
    {
      "metadata": {
        "trusted": true
      },
      "cell_type": "code",
      "source": "mip = Awards('https://www.basketball-reference.com/awards/mip.html').Create_Table()\nmip['Most Improved'] = 1",
      "execution_count": 51,
      "outputs": []
    },
    {
      "metadata": {
        "trusted": true
      },
      "cell_type": "code",
      "source": "finals_mvp = Awards('https://www.basketball-reference.com/awards/finals_mvp.html').Create_Table()\nfinals_mvp['Finals MVP'] = 1",
      "execution_count": 52,
      "outputs": []
    },
    {
      "metadata": {
        "trusted": true
      },
      "cell_type": "code",
      "source": "awards = mvp.merge(roy, how = 'outer')\nawards = awards.merge(roy, how = 'outer')\nawards = awards.merge(dpoy, how = 'outer')\nawards = awards.merge(smoy, how = 'outer')\nawards = awards.merge(mip, how = 'outer')\nawards = awards.merge(finals_mvp, how = 'outer')",
      "execution_count": 53,
      "outputs": []
    },
    {
      "metadata": {
        "trusted": true
      },
      "cell_type": "code",
      "source": "awards.replace(1900, 2000, inplace = True)\nawards.sort_values('Year', inplace = True)",
      "execution_count": 54,
      "outputs": []
    },
    {
      "metadata": {
        "trusted": true
      },
      "cell_type": "code",
      "source": "awards.to_csv('Basketball-Reference Awards.csv')",
      "execution_count": 56,
      "outputs": []
    },
    {
      "metadata": {
        "trusted": true
      },
      "cell_type": "code",
      "source": "",
      "execution_count": null,
      "outputs": []
    }
  ],
  "metadata": {
    "kernelspec": {
      "name": "python36",
      "display_name": "Python 3.6",
      "language": "python"
    },
    "language_info": {
      "mimetype": "text/x-python",
      "nbconvert_exporter": "python",
      "name": "python",
      "pygments_lexer": "ipython3",
      "version": "3.6.6",
      "file_extension": ".py",
      "codemirror_mode": {
        "version": 3,
        "name": "ipython"
      }
    }
  },
  "nbformat": 4,
  "nbformat_minor": 2
}