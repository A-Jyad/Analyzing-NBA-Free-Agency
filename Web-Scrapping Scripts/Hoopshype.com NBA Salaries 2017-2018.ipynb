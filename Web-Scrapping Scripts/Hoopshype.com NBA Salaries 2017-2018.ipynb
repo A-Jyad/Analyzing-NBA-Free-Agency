{
  "cells": [
    {
      "metadata": {
        "trusted": true
      },
      "cell_type": "code",
      "source": "import requests\nimport pandas as pd\nimport re\nfrom bs4 import BeautifulSoup\n\nclass Salary_Data:\n    def __init__(self, link):\n        self.link = link\n        self.request = requests.get(self.link)\n        self.soup = BeautifulSoup(self.request.text, 'html.parser')\n        self.results = self.soup.find_all('tr')[1:]\n        \n    def Create_Table(self):\n        records = []\n        for result in self.results:\n            Player = re.compile('[\\n\\t]').sub('', result.contents[3].text)\n            Actual_Salary = int(re.compile('[$,\\n\\t]').sub('', result.contents[5].text))\n            Adjusted_Salary = int(re.compile('[$,\\n\\t]').sub('', result.contents[7].text))\n            records.append((Player, Actual_Salary, Adjusted_Salary))\n        Data = pd.DataFrame(records, columns = ['Player', 'Actual_Salary', 'Adjusted_Salary'])\n        Year = int(self.link[-10:-6])\n        Data['Year'] = Year\n        return(Data)\n    \na = 'https://hoopshype.com/salaries/players/2017-2018/'\nc = []\nfor i in range(2018, 2020):\n    j = str(i-1)\n    i = str(i)\n    c += [a.replace('2018', i).replace('2017', j)]\n    \nc.pop(0)\n\ntable = Salary_Data('https://hoopshype.com/salaries/players/2017-2018/').Create_Table()\nfor i, k in enumerate(c):\n    table = table.append(Salary_Data(k).Create_Table())",
      "execution_count": 21,
      "outputs": []
    },
    {
      "metadata": {
        "trusted": true
      },
      "cell_type": "code",
      "source": "table.to_csv('Hoopshype.com NBA Salaries 2017-2018.csv')",
      "execution_count": 22,
      "outputs": []
    },
    {
      "metadata": {
        "trusted": true
      },
      "cell_type": "code",
      "source": "table[table['Player'] == 'Stephen Curry']",
      "execution_count": 23,
      "outputs": [
        {
          "output_type": "execute_result",
          "execution_count": 23,
          "data": {
            "text/html": "<div>\n<style scoped>\n    .dataframe tbody tr th:only-of-type {\n        vertical-align: middle;\n    }\n\n    .dataframe tbody tr th {\n        vertical-align: top;\n    }\n\n    .dataframe thead th {\n        text-align: right;\n    }\n</style>\n<table border=\"1\" class=\"dataframe\">\n  <thead>\n    <tr style=\"text-align: right;\">\n      <th></th>\n      <th>Player</th>\n      <th>Actual_Salary</th>\n      <th>Adjusted_Salary</th>\n      <th>Year</th>\n    </tr>\n  </thead>\n  <tbody>\n    <tr>\n      <th>0</th>\n      <td>Stephen Curry</td>\n      <td>34682550</td>\n      <td>36266630</td>\n      <td>2017</td>\n    </tr>\n    <tr>\n      <th>0</th>\n      <td>Stephen Curry</td>\n      <td>37457154</td>\n      <td>38074629</td>\n      <td>2018</td>\n    </tr>\n  </tbody>\n</table>\n</div>",
            "text/plain": "          Player  Actual_Salary  Adjusted_Salary  Year\n0  Stephen Curry       34682550         36266630  2017\n0  Stephen Curry       37457154         38074629  2018"
          },
          "metadata": {}
        }
      ]
    },
    {
      "metadata": {
        "trusted": true
      },
      "cell_type": "code",
      "source": "c",
      "execution_count": 20,
      "outputs": [
        {
          "output_type": "execute_result",
          "execution_count": 20,
          "data": {
            "text/plain": "['https://hoopshype.com/salaries/players/2017-2018/',\n 'https://hoopshype.com/salaries/players/2018-2019/']"
          },
          "metadata": {}
        }
      ]
    },
    {
      "metadata": {
        "trusted": true
      },
      "cell_type": "code",
      "source": "",
      "execution_count": null,
      "outputs": []
    }
  ],
  "metadata": {
    "kernelspec": {
      "name": "python36",
      "display_name": "Python 3.6",
      "language": "python"
    },
    "language_info": {
      "mimetype": "text/x-python",
      "nbconvert_exporter": "python",
      "name": "python",
      "pygments_lexer": "ipython3",
      "version": "3.6.6",
      "file_extension": ".py",
      "codemirror_mode": {
        "version": 3,
        "name": "ipython"
      }
    }
  },
  "nbformat": 4,
  "nbformat_minor": 2
}