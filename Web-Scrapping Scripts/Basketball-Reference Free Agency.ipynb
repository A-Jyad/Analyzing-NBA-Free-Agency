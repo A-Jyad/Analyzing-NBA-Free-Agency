{
  "cells": [
    {
      "metadata": {
        "trusted": true
      },
      "cell_type": "code",
      "source": "import requests\nimport pandas as pd\nimport re\nfrom bs4 import BeautifulSoup\n\nclass Free_Agency:\n    def __init__(self, link):\n        self.link = link\n        self.request = requests.get(self.link)\n        self.soup = BeautifulSoup(self.request.text, 'html.parser')\n        self.results = self.soup.find_all('tr')[1:]\n    def Create_Table(self):\n        Player = []\n        Stats = []\n        Terms = []\n        for result in self.results:\n            Player += [result.contents[1].text] if (result.contents[1].text != 'Rk') else []\n            try:\n                Stats += [result.contents[6].text]\n            except:\n                pass\n            Terms += [result.contents[9].text] if (result.contents[9].text != 'Type') else []\n        Data = pd.DataFrame({'Player' : Player, 'Stats' : Stats, 'Terms' : Terms})\n        Year = int(self.link[-4:])\n        Data['Year'] = Year\n        return(Data)\n    \na = 'https://www.basketball-reference.com/friv/free_agents.cgi?year=2017'\nc = []\nfor i in range(2018, 2020):\n    i = str(i)\n    c += [a.replace('2017', i)]\n\ntable = Free_Agency('https://www.basketball-reference.com/friv/free_agents.cgi?year=2017').Create_Table()\nfor i, k in enumerate(c):\n    table = table.append(Free_Agency(k).Create_Table())",
      "execution_count": 48,
      "outputs": []
    },
    {
      "metadata": {
        "trusted": true
      },
      "cell_type": "code",
      "source": "table.drop(table[table['Stats'] == 'Did not play'].index, inplace = True)\ntable.drop(table[table['Terms'] == ''].index, inplace = True)\ntable.drop(table[table['Terms'].str[:23] == 'Will reportedly play in'].index, inplace = True)",
      "execution_count": 49,
      "outputs": []
    },
    {
      "metadata": {
        "trusted": true
      },
      "cell_type": "code",
      "source": "table.to_csv('Basketball-Reference Free Agency.csv')",
      "execution_count": 50,
      "outputs": []
    },
    {
      "metadata": {
        "trusted": true
      },
      "cell_type": "code",
      "source": "table.shape",
      "execution_count": 51,
      "outputs": [
        {
          "output_type": "execute_result",
          "execution_count": 51,
          "data": {
            "text/plain": "(289, 4)"
          },
          "metadata": {}
        }
      ]
    },
    {
      "metadata": {
        "trusted": true
      },
      "cell_type": "code",
      "source": "",
      "execution_count": null,
      "outputs": []
    }
  ],
  "metadata": {
    "kernelspec": {
      "name": "python36",
      "display_name": "Python 3.6",
      "language": "python"
    },
    "language_info": {
      "mimetype": "text/x-python",
      "nbconvert_exporter": "python",
      "name": "python",
      "pygments_lexer": "ipython3",
      "version": "3.6.6",
      "file_extension": ".py",
      "codemirror_mode": {
        "version": 3,
        "name": "ipython"
      }
    }
  },
  "nbformat": 4,
  "nbformat_minor": 2
}