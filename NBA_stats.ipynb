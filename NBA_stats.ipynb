{
  "cells": [
    {
      "metadata": {
        "trusted": true
      },
      "cell_type": "code",
      "source": "import pandas as pd\nimport numpy as np\nimport matplotlib.pyplot as plt\nimport seaborn as sns\n\npd.set_option(\"display.max_columns\", None)",
      "execution_count": 1,
      "outputs": []
    },
    {
      "metadata": {
        "trusted": true
      },
      "cell_type": "code",
      "source": "stats = pd.read_csv('Web-Scrapping Scripts/Basketball-Reference per game stats 2012-19.csv')\nstats = stats[stats['Year'] >= 2016]\nprint(stats.shape)\nstats.head()",
      "execution_count": 2,
      "outputs": [
        {
          "output_type": "stream",
          "text": "(2545, 30)\n",
          "name": "stdout"
        },
        {
          "output_type": "execute_result",
          "execution_count": 2,
          "data": {
            "text/html": "<div>\n<style scoped>\n    .dataframe tbody tr th:only-of-type {\n        vertical-align: middle;\n    }\n\n    .dataframe tbody tr th {\n        vertical-align: top;\n    }\n\n    .dataframe thead th {\n        text-align: right;\n    }\n</style>\n<table border=\"1\" class=\"dataframe\">\n  <thead>\n    <tr style=\"text-align: right;\">\n      <th></th>\n      <th>Player</th>\n      <th>Pos</th>\n      <th>Age</th>\n      <th>Tm</th>\n      <th>G</th>\n      <th>GS</th>\n      <th>MP</th>\n      <th>FG</th>\n      <th>FGA</th>\n      <th>FG%</th>\n      <th>3P</th>\n      <th>3PA</th>\n      <th>3P%</th>\n      <th>2P</th>\n      <th>2PA</th>\n      <th>2P%</th>\n      <th>eFT%</th>\n      <th>FT</th>\n      <th>FTA</th>\n      <th>FT%</th>\n      <th>ORB</th>\n      <th>DRB</th>\n      <th>TRB</th>\n      <th>AST</th>\n      <th>STL</th>\n      <th>BLK</th>\n      <th>TOV</th>\n      <th>PF</th>\n      <th>PTS</th>\n      <th>Year</th>\n    </tr>\n  </thead>\n  <tbody>\n    <tr>\n      <th>2386</th>\n      <td>Quincy Acy</td>\n      <td>PF</td>\n      <td>25</td>\n      <td>SAC</td>\n      <td>59</td>\n      <td>29</td>\n      <td>14.8</td>\n      <td>2.0</td>\n      <td>3.6</td>\n      <td>0.556</td>\n      <td>0.3</td>\n      <td>0.8</td>\n      <td>0.388</td>\n      <td>1.7</td>\n      <td>2.8</td>\n      <td>0.606</td>\n      <td>0.600</td>\n      <td>0.8</td>\n      <td>1.2</td>\n      <td>0.735</td>\n      <td>1.1</td>\n      <td>2.1</td>\n      <td>3.2</td>\n      <td>0.5</td>\n      <td>0.5</td>\n      <td>0.4</td>\n      <td>0.5</td>\n      <td>1.7</td>\n      <td>5.2</td>\n      <td>2016</td>\n    </tr>\n    <tr>\n      <th>2387</th>\n      <td>Jordan Adams</td>\n      <td>SG</td>\n      <td>21</td>\n      <td>MEM</td>\n      <td>2</td>\n      <td>0</td>\n      <td>7.5</td>\n      <td>1.0</td>\n      <td>3.0</td>\n      <td>0.333</td>\n      <td>0.0</td>\n      <td>0.5</td>\n      <td>0.000</td>\n      <td>1.0</td>\n      <td>2.5</td>\n      <td>0.400</td>\n      <td>0.333</td>\n      <td>1.5</td>\n      <td>2.5</td>\n      <td>0.600</td>\n      <td>0.0</td>\n      <td>1.0</td>\n      <td>1.0</td>\n      <td>1.5</td>\n      <td>1.5</td>\n      <td>0.0</td>\n      <td>1.0</td>\n      <td>1.0</td>\n      <td>3.5</td>\n      <td>2016</td>\n    </tr>\n    <tr>\n      <th>2388</th>\n      <td>Steven Adams</td>\n      <td>C</td>\n      <td>22</td>\n      <td>OKC</td>\n      <td>80</td>\n      <td>80</td>\n      <td>25.2</td>\n      <td>3.3</td>\n      <td>5.3</td>\n      <td>0.613</td>\n      <td>0.0</td>\n      <td>0.0</td>\n      <td>NaN</td>\n      <td>3.3</td>\n      <td>5.3</td>\n      <td>0.613</td>\n      <td>0.613</td>\n      <td>1.4</td>\n      <td>2.5</td>\n      <td>0.582</td>\n      <td>2.7</td>\n      <td>3.9</td>\n      <td>6.7</td>\n      <td>0.8</td>\n      <td>0.5</td>\n      <td>1.1</td>\n      <td>1.1</td>\n      <td>2.8</td>\n      <td>8.0</td>\n      <td>2016</td>\n    </tr>\n    <tr>\n      <th>2389</th>\n      <td>Arron Afflalo</td>\n      <td>SG</td>\n      <td>30</td>\n      <td>NYK</td>\n      <td>71</td>\n      <td>57</td>\n      <td>33.4</td>\n      <td>5.0</td>\n      <td>11.3</td>\n      <td>0.443</td>\n      <td>1.3</td>\n      <td>3.4</td>\n      <td>0.382</td>\n      <td>3.7</td>\n      <td>7.9</td>\n      <td>0.469</td>\n      <td>0.500</td>\n      <td>1.5</td>\n      <td>1.8</td>\n      <td>0.840</td>\n      <td>0.3</td>\n      <td>3.4</td>\n      <td>3.7</td>\n      <td>2.0</td>\n      <td>0.4</td>\n      <td>0.1</td>\n      <td>1.2</td>\n      <td>2.0</td>\n      <td>12.8</td>\n      <td>2016</td>\n    </tr>\n    <tr>\n      <th>2390</th>\n      <td>Alexis Ajinça</td>\n      <td>C</td>\n      <td>27</td>\n      <td>NOP</td>\n      <td>59</td>\n      <td>17</td>\n      <td>14.6</td>\n      <td>2.5</td>\n      <td>5.3</td>\n      <td>0.476</td>\n      <td>0.0</td>\n      <td>0.0</td>\n      <td>0.000</td>\n      <td>2.5</td>\n      <td>5.3</td>\n      <td>0.478</td>\n      <td>0.476</td>\n      <td>0.9</td>\n      <td>1.1</td>\n      <td>0.839</td>\n      <td>1.3</td>\n      <td>3.3</td>\n      <td>4.6</td>\n      <td>0.5</td>\n      <td>0.3</td>\n      <td>0.6</td>\n      <td>0.9</td>\n      <td>2.3</td>\n      <td>6.0</td>\n      <td>2016</td>\n    </tr>\n  </tbody>\n</table>\n</div>",
            "text/plain": "             Player Pos  Age   Tm   G  GS    MP   FG   FGA    FG%   3P  3PA  \\\n2386     Quincy Acy  PF   25  SAC  59  29  14.8  2.0   3.6  0.556  0.3  0.8   \n2387   Jordan Adams  SG   21  MEM   2   0   7.5  1.0   3.0  0.333  0.0  0.5   \n2388   Steven Adams   C   22  OKC  80  80  25.2  3.3   5.3  0.613  0.0  0.0   \n2389  Arron Afflalo  SG   30  NYK  71  57  33.4  5.0  11.3  0.443  1.3  3.4   \n2390  Alexis Ajinça   C   27  NOP  59  17  14.6  2.5   5.3  0.476  0.0  0.0   \n\n        3P%   2P  2PA    2P%   eFT%   FT  FTA    FT%  ORB  DRB  TRB  AST  STL  \\\n2386  0.388  1.7  2.8  0.606  0.600  0.8  1.2  0.735  1.1  2.1  3.2  0.5  0.5   \n2387  0.000  1.0  2.5  0.400  0.333  1.5  2.5  0.600  0.0  1.0  1.0  1.5  1.5   \n2388    NaN  3.3  5.3  0.613  0.613  1.4  2.5  0.582  2.7  3.9  6.7  0.8  0.5   \n2389  0.382  3.7  7.9  0.469  0.500  1.5  1.8  0.840  0.3  3.4  3.7  2.0  0.4   \n2390  0.000  2.5  5.3  0.478  0.476  0.9  1.1  0.839  1.3  3.3  4.6  0.5  0.3   \n\n      BLK  TOV   PF   PTS  Year  \n2386  0.4  0.5  1.7   5.2  2016  \n2387  0.0  1.0  1.0   3.5  2016  \n2388  1.1  1.1  2.8   8.0  2016  \n2389  0.1  1.2  2.0  12.8  2016  \n2390  0.6  0.9  2.3   6.0  2016  "
          },
          "metadata": {}
        }
      ]
    },
    {
      "metadata": {},
      "cell_type": "markdown",
      "source": "# Data Cleaning "
    },
    {
      "metadata": {},
      "cell_type": "markdown",
      "source": "Due to trades, some players have multiple entries. The 'Tm' features highlights which team the player has played for. TOT indicates the combined stats in one season while the other entries are stats for the respective teams they played in. We will consider the stats of the entire season. We will also be considering only players who have played at least 15 games."
    },
    {
      "metadata": {
        "trusted": true
      },
      "cell_type": "code",
      "source": "#Replacing TOT with the last team played\nfor y in [2016, 2017, 2018, 2019]:\n    dup = []\n    for i, k in enumerate(stats[stats['Year'] == y]['Player']):\n        dup += [k] if stats.loc[stats['Year'] == y, 'Tm'].reset_index(drop = True)[i] == 'TOT' else []\n\n    for j in dup:\n        index = list(stats.loc[(stats['Player'] == j) & (stats['Year'] == y), 'Tm'].index)\n        stats.loc[index[0], 'Tm'] = stats.loc[index[-1], 'Tm']\n        \nstats.drop_duplicates(['Player', 'Year'], keep = 'first', inplace = True)",
      "execution_count": 3,
      "outputs": []
    },
    {
      "metadata": {
        "trusted": true
      },
      "cell_type": "code",
      "source": "#Dropping players who played less than 15 games\nstats.reset_index(drop = True, inplace = True)",
      "execution_count": 4,
      "outputs": []
    },
    {
      "metadata": {
        "trusted": true
      },
      "cell_type": "code",
      "source": "!pip install unidecode",
      "execution_count": 5,
      "outputs": [
        {
          "output_type": "stream",
          "text": "Requirement already satisfied: unidecode in /home/nbuser/anaconda3_501/lib/python3.6/site-packages (1.1.1)\n\u001b[33mWARNING: You are using pip version 19.3.1; however, version 20.1.1 is available.\nYou should consider upgrading via the 'pip install --upgrade pip' command.\u001b[0m\n",
          "name": "stdout"
        }
      ]
    },
    {
      "metadata": {
        "trusted": true
      },
      "cell_type": "code",
      "source": "import unidecode\nfor j in stats['Player'].unique():\n    stats.replace(j, unidecode.unidecode(j), inplace = True)",
      "execution_count": 6,
      "outputs": []
    },
    {
      "metadata": {
        "trusted": true
      },
      "cell_type": "code",
      "source": "stats['Player'] = stats['Player'].str.replace('.', '')",
      "execution_count": 7,
      "outputs": []
    },
    {
      "metadata": {
        "trusted": true
      },
      "cell_type": "code",
      "source": "stats.shape",
      "execution_count": 8,
      "outputs": [
        {
          "output_type": "execute_result",
          "execution_count": 8,
          "data": {
            "text/plain": "(2032, 30)"
          },
          "metadata": {}
        }
      ]
    },
    {
      "metadata": {},
      "cell_type": "markdown",
      "source": "# Missing Data:"
    },
    {
      "metadata": {
        "trusted": true
      },
      "cell_type": "code",
      "source": "stats.isnull().sum()[stats.isnull().sum() > 0]",
      "execution_count": 9,
      "outputs": [
        {
          "output_type": "execute_result",
          "execution_count": 9,
          "data": {
            "text/plain": "FG%       9\n3P%     164\n2P%      28\neFT%      9\nFT%      95\ndtype: int64"
          },
          "metadata": {}
        }
      ]
    },
    {
      "metadata": {
        "trusted": true
      },
      "cell_type": "code",
      "source": "stats[['3P', '3PA', '3P%']][stats['3P%'].isnull()].describe()",
      "execution_count": 10,
      "outputs": [
        {
          "output_type": "execute_result",
          "execution_count": 10,
          "data": {
            "text/html": "<div>\n<style scoped>\n    .dataframe tbody tr th:only-of-type {\n        vertical-align: middle;\n    }\n\n    .dataframe tbody tr th {\n        vertical-align: top;\n    }\n\n    .dataframe thead th {\n        text-align: right;\n    }\n</style>\n<table border=\"1\" class=\"dataframe\">\n  <thead>\n    <tr style=\"text-align: right;\">\n      <th></th>\n      <th>3P</th>\n      <th>3PA</th>\n      <th>3P%</th>\n    </tr>\n  </thead>\n  <tbody>\n    <tr>\n      <th>count</th>\n      <td>164.0</td>\n      <td>164.0</td>\n      <td>0.0</td>\n    </tr>\n    <tr>\n      <th>mean</th>\n      <td>0.0</td>\n      <td>0.0</td>\n      <td>NaN</td>\n    </tr>\n    <tr>\n      <th>std</th>\n      <td>0.0</td>\n      <td>0.0</td>\n      <td>NaN</td>\n    </tr>\n    <tr>\n      <th>min</th>\n      <td>0.0</td>\n      <td>0.0</td>\n      <td>NaN</td>\n    </tr>\n    <tr>\n      <th>25%</th>\n      <td>0.0</td>\n      <td>0.0</td>\n      <td>NaN</td>\n    </tr>\n    <tr>\n      <th>50%</th>\n      <td>0.0</td>\n      <td>0.0</td>\n      <td>NaN</td>\n    </tr>\n    <tr>\n      <th>75%</th>\n      <td>0.0</td>\n      <td>0.0</td>\n      <td>NaN</td>\n    </tr>\n    <tr>\n      <th>max</th>\n      <td>0.0</td>\n      <td>0.0</td>\n      <td>NaN</td>\n    </tr>\n  </tbody>\n</table>\n</div>",
            "text/plain": "          3P    3PA  3P%\ncount  164.0  164.0  0.0\nmean     0.0    0.0  NaN\nstd      0.0    0.0  NaN\nmin      0.0    0.0  NaN\n25%      0.0    0.0  NaN\n50%      0.0    0.0  NaN\n75%      0.0    0.0  NaN\nmax      0.0    0.0  NaN"
          },
          "metadata": {}
        }
      ]
    },
    {
      "metadata": {
        "trusted": true
      },
      "cell_type": "code",
      "source": "stats[['2P', '2PA', '2P%']][stats['2P%'].isnull()].describe()",
      "execution_count": 11,
      "outputs": [
        {
          "output_type": "execute_result",
          "execution_count": 11,
          "data": {
            "text/html": "<div>\n<style scoped>\n    .dataframe tbody tr th:only-of-type {\n        vertical-align: middle;\n    }\n\n    .dataframe tbody tr th {\n        vertical-align: top;\n    }\n\n    .dataframe thead th {\n        text-align: right;\n    }\n</style>\n<table border=\"1\" class=\"dataframe\">\n  <thead>\n    <tr style=\"text-align: right;\">\n      <th></th>\n      <th>2P</th>\n      <th>2PA</th>\n      <th>2P%</th>\n    </tr>\n  </thead>\n  <tbody>\n    <tr>\n      <th>count</th>\n      <td>28.0</td>\n      <td>28.0</td>\n      <td>0.0</td>\n    </tr>\n    <tr>\n      <th>mean</th>\n      <td>0.0</td>\n      <td>0.0</td>\n      <td>NaN</td>\n    </tr>\n    <tr>\n      <th>std</th>\n      <td>0.0</td>\n      <td>0.0</td>\n      <td>NaN</td>\n    </tr>\n    <tr>\n      <th>min</th>\n      <td>0.0</td>\n      <td>0.0</td>\n      <td>NaN</td>\n    </tr>\n    <tr>\n      <th>25%</th>\n      <td>0.0</td>\n      <td>0.0</td>\n      <td>NaN</td>\n    </tr>\n    <tr>\n      <th>50%</th>\n      <td>0.0</td>\n      <td>0.0</td>\n      <td>NaN</td>\n    </tr>\n    <tr>\n      <th>75%</th>\n      <td>0.0</td>\n      <td>0.0</td>\n      <td>NaN</td>\n    </tr>\n    <tr>\n      <th>max</th>\n      <td>0.0</td>\n      <td>0.0</td>\n      <td>NaN</td>\n    </tr>\n  </tbody>\n</table>\n</div>",
            "text/plain": "         2P   2PA  2P%\ncount  28.0  28.0  0.0\nmean    0.0   0.0  NaN\nstd     0.0   0.0  NaN\nmin     0.0   0.0  NaN\n25%     0.0   0.0  NaN\n50%     0.0   0.0  NaN\n75%     0.0   0.0  NaN\nmax     0.0   0.0  NaN"
          },
          "metadata": {}
        }
      ]
    },
    {
      "metadata": {
        "trusted": true
      },
      "cell_type": "code",
      "source": "stats[['FT', 'FTA', 'FT%']][stats['FT%'].isnull()].describe()",
      "execution_count": 12,
      "outputs": [
        {
          "output_type": "execute_result",
          "execution_count": 12,
          "data": {
            "text/html": "<div>\n<style scoped>\n    .dataframe tbody tr th:only-of-type {\n        vertical-align: middle;\n    }\n\n    .dataframe tbody tr th {\n        vertical-align: top;\n    }\n\n    .dataframe thead th {\n        text-align: right;\n    }\n</style>\n<table border=\"1\" class=\"dataframe\">\n  <thead>\n    <tr style=\"text-align: right;\">\n      <th></th>\n      <th>FT</th>\n      <th>FTA</th>\n      <th>FT%</th>\n    </tr>\n  </thead>\n  <tbody>\n    <tr>\n      <th>count</th>\n      <td>95.0</td>\n      <td>95.0</td>\n      <td>0.0</td>\n    </tr>\n    <tr>\n      <th>mean</th>\n      <td>0.0</td>\n      <td>0.0</td>\n      <td>NaN</td>\n    </tr>\n    <tr>\n      <th>std</th>\n      <td>0.0</td>\n      <td>0.0</td>\n      <td>NaN</td>\n    </tr>\n    <tr>\n      <th>min</th>\n      <td>0.0</td>\n      <td>0.0</td>\n      <td>NaN</td>\n    </tr>\n    <tr>\n      <th>25%</th>\n      <td>0.0</td>\n      <td>0.0</td>\n      <td>NaN</td>\n    </tr>\n    <tr>\n      <th>50%</th>\n      <td>0.0</td>\n      <td>0.0</td>\n      <td>NaN</td>\n    </tr>\n    <tr>\n      <th>75%</th>\n      <td>0.0</td>\n      <td>0.0</td>\n      <td>NaN</td>\n    </tr>\n    <tr>\n      <th>max</th>\n      <td>0.0</td>\n      <td>0.0</td>\n      <td>NaN</td>\n    </tr>\n  </tbody>\n</table>\n</div>",
            "text/plain": "         FT   FTA  FT%\ncount  95.0  95.0  0.0\nmean    0.0   0.0  NaN\nstd     0.0   0.0  NaN\nmin     0.0   0.0  NaN\n25%     0.0   0.0  NaN\n50%     0.0   0.0  NaN\n75%     0.0   0.0  NaN\nmax     0.0   0.0  NaN"
          },
          "metadata": {}
        }
      ]
    },
    {
      "metadata": {},
      "cell_type": "markdown",
      "source": "NAN because is all 0"
    },
    {
      "metadata": {
        "trusted": true
      },
      "cell_type": "markdown",
      "source": "# NBA All Stars"
    },
    {
      "metadata": {
        "trusted": true
      },
      "cell_type": "code",
      "source": "allstar = pd.read_csv('Web-Scrapping Scripts/Basketball-Reference All-Stars.csv')\nallstar.head()",
      "execution_count": 13,
      "outputs": [
        {
          "output_type": "execute_result",
          "execution_count": 13,
          "data": {
            "text/html": "<div>\n<style scoped>\n    .dataframe tbody tr th:only-of-type {\n        vertical-align: middle;\n    }\n\n    .dataframe tbody tr th {\n        vertical-align: top;\n    }\n\n    .dataframe thead th {\n        text-align: right;\n    }\n</style>\n<table border=\"1\" class=\"dataframe\">\n  <thead>\n    <tr style=\"text-align: right;\">\n      <th></th>\n      <th>Player</th>\n      <th>Year</th>\n    </tr>\n  </thead>\n  <tbody>\n    <tr>\n      <th>0</th>\n      <td>Isiah Thomas</td>\n      <td>1986</td>\n    </tr>\n    <tr>\n      <th>1</th>\n      <td>Larry Bird</td>\n      <td>1986</td>\n    </tr>\n    <tr>\n      <th>2</th>\n      <td>Moses Malone</td>\n      <td>1986</td>\n    </tr>\n    <tr>\n      <th>3</th>\n      <td>Sidney Moncrief</td>\n      <td>1986</td>\n    </tr>\n    <tr>\n      <th>4</th>\n      <td>Julius Erving</td>\n      <td>1986</td>\n    </tr>\n  </tbody>\n</table>\n</div>",
            "text/plain": "            Player  Year\n0     Isiah Thomas  1986\n1       Larry Bird  1986\n2     Moses Malone  1986\n3  Sidney Moncrief  1986\n4    Julius Erving  1986"
          },
          "metadata": {}
        }
      ]
    },
    {
      "metadata": {
        "trusted": true
      },
      "cell_type": "code",
      "source": "allstar['All Star'] = 1\nallstar['Total All Star'] = 1",
      "execution_count": 14,
      "outputs": []
    },
    {
      "metadata": {
        "trusted": true
      },
      "cell_type": "code",
      "source": "stats = stats.merge(allstar, on = ['Player', 'Year'], how = 'outer').fillna(0).sort_values('Year')\nfor i in stats['Player'].unique():\n    stats.loc[stats['Player'] == i, 'Total All Star'] = stats.loc[stats['Player'] == i, 'Total All Star'].cumsum()\nstats = stats[stats['Year'] >= 2016]",
      "execution_count": 15,
      "outputs": []
    },
    {
      "metadata": {
        "trusted": true
      },
      "cell_type": "code",
      "source": "print(stats.shape)\nstats.head()",
      "execution_count": 16,
      "outputs": [
        {
          "output_type": "stream",
          "text": "(2037, 32)\n",
          "name": "stdout"
        },
        {
          "output_type": "execute_result",
          "execution_count": 16,
          "data": {
            "text/html": "<div>\n<style scoped>\n    .dataframe tbody tr th:only-of-type {\n        vertical-align: middle;\n    }\n\n    .dataframe tbody tr th {\n        vertical-align: top;\n    }\n\n    .dataframe thead th {\n        text-align: right;\n    }\n</style>\n<table border=\"1\" class=\"dataframe\">\n  <thead>\n    <tr style=\"text-align: right;\">\n      <th></th>\n      <th>Player</th>\n      <th>Pos</th>\n      <th>Age</th>\n      <th>Tm</th>\n      <th>G</th>\n      <th>GS</th>\n      <th>MP</th>\n      <th>FG</th>\n      <th>FGA</th>\n      <th>FG%</th>\n      <th>3P</th>\n      <th>3PA</th>\n      <th>3P%</th>\n      <th>2P</th>\n      <th>2PA</th>\n      <th>2P%</th>\n      <th>eFT%</th>\n      <th>FT</th>\n      <th>FTA</th>\n      <th>FT%</th>\n      <th>ORB</th>\n      <th>DRB</th>\n      <th>TRB</th>\n      <th>AST</th>\n      <th>STL</th>\n      <th>BLK</th>\n      <th>TOV</th>\n      <th>PF</th>\n      <th>PTS</th>\n      <th>Year</th>\n      <th>All Star</th>\n      <th>Total All Star</th>\n    </tr>\n  </thead>\n  <tbody>\n    <tr>\n      <th>2816</th>\n      <td>Kobe Bryant</td>\n      <td>0</td>\n      <td>0.0</td>\n      <td>0</td>\n      <td>0.0</td>\n      <td>0.0</td>\n      <td>0.0</td>\n      <td>0.0</td>\n      <td>0.0</td>\n      <td>0.000</td>\n      <td>0.0</td>\n      <td>0.0</td>\n      <td>0.000</td>\n      <td>0.0</td>\n      <td>0.0</td>\n      <td>0.000</td>\n      <td>0.000</td>\n      <td>0.0</td>\n      <td>0.0</td>\n      <td>0.000</td>\n      <td>0.0</td>\n      <td>0.0</td>\n      <td>0.0</td>\n      <td>0.0</td>\n      <td>0.0</td>\n      <td>0.0</td>\n      <td>0.0</td>\n      <td>0.0</td>\n      <td>0.0</td>\n      <td>2016</td>\n      <td>1.0</td>\n      <td>18.0</td>\n    </tr>\n    <tr>\n      <th>0</th>\n      <td>Quincy Acy</td>\n      <td>PF</td>\n      <td>25.0</td>\n      <td>SAC</td>\n      <td>59.0</td>\n      <td>29.0</td>\n      <td>14.8</td>\n      <td>2.0</td>\n      <td>3.6</td>\n      <td>0.556</td>\n      <td>0.3</td>\n      <td>0.8</td>\n      <td>0.388</td>\n      <td>1.7</td>\n      <td>2.8</td>\n      <td>0.606</td>\n      <td>0.600</td>\n      <td>0.8</td>\n      <td>1.2</td>\n      <td>0.735</td>\n      <td>1.1</td>\n      <td>2.1</td>\n      <td>3.2</td>\n      <td>0.5</td>\n      <td>0.5</td>\n      <td>0.4</td>\n      <td>0.5</td>\n      <td>1.7</td>\n      <td>5.2</td>\n      <td>2016</td>\n      <td>0.0</td>\n      <td>0.0</td>\n    </tr>\n    <tr>\n      <th>240</th>\n      <td>DeAndre Jordan</td>\n      <td>C</td>\n      <td>27.0</td>\n      <td>LAC</td>\n      <td>77.0</td>\n      <td>77.0</td>\n      <td>33.7</td>\n      <td>4.6</td>\n      <td>6.6</td>\n      <td>0.703</td>\n      <td>0.0</td>\n      <td>0.0</td>\n      <td>0.000</td>\n      <td>4.6</td>\n      <td>6.6</td>\n      <td>0.704</td>\n      <td>0.703</td>\n      <td>3.5</td>\n      <td>8.0</td>\n      <td>0.430</td>\n      <td>3.5</td>\n      <td>10.3</td>\n      <td>13.8</td>\n      <td>1.2</td>\n      <td>0.7</td>\n      <td>2.3</td>\n      <td>1.4</td>\n      <td>2.7</td>\n      <td>12.7</td>\n      <td>2016</td>\n      <td>0.0</td>\n      <td>0.0</td>\n    </tr>\n    <tr>\n      <th>325</th>\n      <td>Raul Neto</td>\n      <td>PG</td>\n      <td>23.0</td>\n      <td>UTA</td>\n      <td>81.0</td>\n      <td>53.0</td>\n      <td>18.5</td>\n      <td>2.2</td>\n      <td>5.2</td>\n      <td>0.431</td>\n      <td>0.8</td>\n      <td>2.0</td>\n      <td>0.395</td>\n      <td>1.4</td>\n      <td>3.2</td>\n      <td>0.453</td>\n      <td>0.507</td>\n      <td>0.6</td>\n      <td>0.9</td>\n      <td>0.743</td>\n      <td>0.2</td>\n      <td>1.3</td>\n      <td>1.5</td>\n      <td>2.1</td>\n      <td>0.8</td>\n      <td>0.0</td>\n      <td>1.3</td>\n      <td>1.5</td>\n      <td>5.9</td>\n      <td>2016</td>\n      <td>0.0</td>\n      <td>0.0</td>\n    </tr>\n    <tr>\n      <th>324</th>\n      <td>Jameer Nelson</td>\n      <td>PG</td>\n      <td>33.0</td>\n      <td>DEN</td>\n      <td>39.0</td>\n      <td>15.0</td>\n      <td>26.6</td>\n      <td>2.9</td>\n      <td>7.9</td>\n      <td>0.368</td>\n      <td>1.1</td>\n      <td>3.7</td>\n      <td>0.299</td>\n      <td>1.8</td>\n      <td>4.2</td>\n      <td>0.429</td>\n      <td>0.438</td>\n      <td>0.8</td>\n      <td>0.9</td>\n      <td>0.857</td>\n      <td>0.5</td>\n      <td>2.5</td>\n      <td>2.9</td>\n      <td>4.9</td>\n      <td>0.6</td>\n      <td>0.1</td>\n      <td>1.7</td>\n      <td>2.6</td>\n      <td>7.7</td>\n      <td>2016</td>\n      <td>0.0</td>\n      <td>1.0</td>\n    </tr>\n  </tbody>\n</table>\n</div>",
            "text/plain": "              Player Pos   Age   Tm     G    GS    MP   FG  FGA    FG%   3P  \\\n2816     Kobe Bryant   0   0.0    0   0.0   0.0   0.0  0.0  0.0  0.000  0.0   \n0         Quincy Acy  PF  25.0  SAC  59.0  29.0  14.8  2.0  3.6  0.556  0.3   \n240   DeAndre Jordan   C  27.0  LAC  77.0  77.0  33.7  4.6  6.6  0.703  0.0   \n325        Raul Neto  PG  23.0  UTA  81.0  53.0  18.5  2.2  5.2  0.431  0.8   \n324    Jameer Nelson  PG  33.0  DEN  39.0  15.0  26.6  2.9  7.9  0.368  1.1   \n\n      3PA    3P%   2P  2PA    2P%   eFT%   FT  FTA    FT%  ORB   DRB   TRB  \\\n2816  0.0  0.000  0.0  0.0  0.000  0.000  0.0  0.0  0.000  0.0   0.0   0.0   \n0     0.8  0.388  1.7  2.8  0.606  0.600  0.8  1.2  0.735  1.1   2.1   3.2   \n240   0.0  0.000  4.6  6.6  0.704  0.703  3.5  8.0  0.430  3.5  10.3  13.8   \n325   2.0  0.395  1.4  3.2  0.453  0.507  0.6  0.9  0.743  0.2   1.3   1.5   \n324   3.7  0.299  1.8  4.2  0.429  0.438  0.8  0.9  0.857  0.5   2.5   2.9   \n\n      AST  STL  BLK  TOV   PF   PTS  Year  All Star  Total All Star  \n2816  0.0  0.0  0.0  0.0  0.0   0.0  2016       1.0            18.0  \n0     0.5  0.5  0.4  0.5  1.7   5.2  2016       0.0             0.0  \n240   1.2  0.7  2.3  1.4  2.7  12.7  2016       0.0             0.0  \n325   2.1  0.8  0.0  1.3  1.5   5.9  2016       0.0             0.0  \n324   4.9  0.6  0.1  1.7  2.6   7.7  2016       0.0             1.0  "
          },
          "metadata": {}
        }
      ]
    },
    {
      "metadata": {},
      "cell_type": "markdown",
      "source": "# NBA Awards"
    },
    {
      "metadata": {
        "trusted": true
      },
      "cell_type": "code",
      "source": "awards = pd.read_csv('Web-Scrapping Scripts/Basketball-Reference Awards.csv')\nawards.head()",
      "execution_count": 17,
      "outputs": [
        {
          "output_type": "execute_result",
          "execution_count": 17,
          "data": {
            "text/html": "<div>\n<style scoped>\n    .dataframe tbody tr th:only-of-type {\n        vertical-align: middle;\n    }\n\n    .dataframe tbody tr th {\n        vertical-align: top;\n    }\n\n    .dataframe thead th {\n        text-align: right;\n    }\n</style>\n<table border=\"1\" class=\"dataframe\">\n  <thead>\n    <tr style=\"text-align: right;\">\n      <th></th>\n      <th>Unnamed: 0</th>\n      <th>Year</th>\n      <th>Player</th>\n      <th>MVP</th>\n      <th>Rookie of Year</th>\n      <th>DPOY</th>\n      <th>6th man of Year</th>\n      <th>Most Improved</th>\n      <th>Finals MVP</th>\n    </tr>\n  </thead>\n  <tbody>\n    <tr>\n      <th>0</th>\n      <td>141</td>\n      <td>1953</td>\n      <td>Monk Meineke</td>\n      <td>NaN</td>\n      <td>1.0</td>\n      <td>NaN</td>\n      <td>NaN</td>\n      <td>NaN</td>\n      <td>NaN</td>\n    </tr>\n    <tr>\n      <th>1</th>\n      <td>140</td>\n      <td>1954</td>\n      <td>Ray Felix</td>\n      <td>NaN</td>\n      <td>1.0</td>\n      <td>NaN</td>\n      <td>NaN</td>\n      <td>NaN</td>\n      <td>NaN</td>\n    </tr>\n    <tr>\n      <th>2</th>\n      <td>139</td>\n      <td>1955</td>\n      <td>Bob Pettit</td>\n      <td>NaN</td>\n      <td>1.0</td>\n      <td>NaN</td>\n      <td>NaN</td>\n      <td>NaN</td>\n      <td>NaN</td>\n    </tr>\n    <tr>\n      <th>3</th>\n      <td>63</td>\n      <td>1956</td>\n      <td>Bob Pettit</td>\n      <td>1.0</td>\n      <td>NaN</td>\n      <td>NaN</td>\n      <td>NaN</td>\n      <td>NaN</td>\n      <td>NaN</td>\n    </tr>\n    <tr>\n      <th>4</th>\n      <td>138</td>\n      <td>1956</td>\n      <td>Maurice Stokes</td>\n      <td>NaN</td>\n      <td>1.0</td>\n      <td>NaN</td>\n      <td>NaN</td>\n      <td>NaN</td>\n      <td>NaN</td>\n    </tr>\n  </tbody>\n</table>\n</div>",
            "text/plain": "   Unnamed: 0  Year          Player  MVP  Rookie of Year  DPOY  \\\n0         141  1953    Monk Meineke  NaN             1.0   NaN   \n1         140  1954       Ray Felix  NaN             1.0   NaN   \n2         139  1955      Bob Pettit  NaN             1.0   NaN   \n3          63  1956      Bob Pettit  1.0             NaN   NaN   \n4         138  1956  Maurice Stokes  NaN             1.0   NaN   \n\n   6th man of Year  Most Improved  Finals MVP  \n0              NaN            NaN         NaN  \n1              NaN            NaN         NaN  \n2              NaN            NaN         NaN  \n3              NaN            NaN         NaN  \n4              NaN            NaN         NaN  "
          },
          "metadata": {}
        }
      ]
    },
    {
      "metadata": {
        "trusted": true
      },
      "cell_type": "code",
      "source": "awards.fillna(0, inplace = True)",
      "execution_count": 18,
      "outputs": []
    },
    {
      "metadata": {
        "trusted": true
      },
      "cell_type": "code",
      "source": "awards['Total MVP'] = awards['MVP']\nawards['Total Rookie of Year'] = awards['Rookie of Year']\nawards['Total DPOY'] = awards['DPOY']\nawards['Total 6th man of Year'] = awards['6th man of Year']\nawards['Total Most Improved'] = awards['Most Improved']\nawards['Total Finals MVP'] = awards['Finals MVP'] ",
      "execution_count": 19,
      "outputs": []
    },
    {
      "metadata": {
        "trusted": true
      },
      "cell_type": "code",
      "source": "stats = stats.merge(awards.drop('Unnamed: 0', axis = 1), on = ['Player', 'Year'], how = 'outer').fillna(0).sort_values('Year')\nfor i in stats['Player'].unique():\n    stats.loc[stats['Player'] == i , 'Total MVP'] = stats.loc[stats['Player'] == i, 'Total MVP'].cumsum()\n    stats.loc[stats['Player'] == i , 'Total Rookie of Year'] = stats.loc[stats['Player'] == i, 'Total Rookie of Year'].cumsum()\n    stats.loc[stats['Player'] == i , 'Total DPOY'] = stats.loc[stats['Player'] == i, 'Total DPOY'].cumsum()\n    stats.loc[stats['Player'] == i , 'Total 6th man of Year'] = stats.loc[stats['Player'] == i, 'Total 6th man of Year'].cumsum()\n    stats.loc[stats['Player'] == i , 'Total Most Improved'] = stats.loc[stats['Player'] == i, 'Total Most Improved'].cumsum()\n    stats.loc[stats['Player'] == i , 'Total Finals MVP'] = stats.loc[stats['Player'] == i, 'Total Finals MVP'].cumsum()\nstats = stats[stats['Year'] >= 2016]",
      "execution_count": 20,
      "outputs": []
    },
    {
      "metadata": {},
      "cell_type": "markdown",
      "source": "# All NBA Teams"
    },
    {
      "metadata": {
        "trusted": true
      },
      "cell_type": "code",
      "source": "allnba = pd.read_csv('Web-Scrapping Scripts/Basketball-Reference All NBA Teams.csv')\nallnba.head()",
      "execution_count": 21,
      "outputs": [
        {
          "output_type": "execute_result",
          "execution_count": 21,
          "data": {
            "text/html": "<div>\n<style scoped>\n    .dataframe tbody tr th:only-of-type {\n        vertical-align: middle;\n    }\n\n    .dataframe tbody tr th {\n        vertical-align: top;\n    }\n\n    .dataframe thead th {\n        text-align: right;\n    }\n</style>\n<table border=\"1\" class=\"dataframe\">\n  <thead>\n    <tr style=\"text-align: right;\">\n      <th></th>\n      <th>Unnamed: 0</th>\n      <th>Year</th>\n      <th>Team</th>\n      <th>Player</th>\n    </tr>\n  </thead>\n  <tbody>\n    <tr>\n      <th>0</th>\n      <td>0</td>\n      <td>2019</td>\n      <td>1st</td>\n      <td>Nikola Jokić</td>\n    </tr>\n    <tr>\n      <th>1</th>\n      <td>1</td>\n      <td>2019</td>\n      <td>1st</td>\n      <td>Giannis Antetokounmpo</td>\n    </tr>\n    <tr>\n      <th>2</th>\n      <td>2</td>\n      <td>2019</td>\n      <td>1st</td>\n      <td>Paul George</td>\n    </tr>\n    <tr>\n      <th>3</th>\n      <td>3</td>\n      <td>2019</td>\n      <td>1st</td>\n      <td>James Harden</td>\n    </tr>\n    <tr>\n      <th>4</th>\n      <td>4</td>\n      <td>2019</td>\n      <td>1st</td>\n      <td>Stephen Curry</td>\n    </tr>\n  </tbody>\n</table>\n</div>",
            "text/plain": "   Unnamed: 0  Year Team                 Player\n0           0  2019  1st           Nikola Jokić\n1           1  2019  1st  Giannis Antetokounmpo\n2           2  2019  1st            Paul George\n3           3  2019  1st           James Harden\n4           4  2019  1st          Stephen Curry"
          },
          "metadata": {}
        }
      ]
    },
    {
      "metadata": {
        "trusted": true
      },
      "cell_type": "code",
      "source": "allrookie = pd.read_csv('Web-Scrapping Scripts/Basketball-Reference All NBA Rookie Teams.csv')\nallrookie.head()",
      "execution_count": 22,
      "outputs": [
        {
          "output_type": "execute_result",
          "execution_count": 22,
          "data": {
            "text/html": "<div>\n<style scoped>\n    .dataframe tbody tr th:only-of-type {\n        vertical-align: middle;\n    }\n\n    .dataframe tbody tr th {\n        vertical-align: top;\n    }\n\n    .dataframe thead th {\n        text-align: right;\n    }\n</style>\n<table border=\"1\" class=\"dataframe\">\n  <thead>\n    <tr style=\"text-align: right;\">\n      <th></th>\n      <th>Unnamed: 0</th>\n      <th>Year</th>\n      <th>Team</th>\n      <th>Player</th>\n    </tr>\n  </thead>\n  <tbody>\n    <tr>\n      <th>0</th>\n      <td>0</td>\n      <td>2019</td>\n      <td>1st</td>\n      <td>Luka Dončić</td>\n    </tr>\n    <tr>\n      <th>1</th>\n      <td>1</td>\n      <td>2019</td>\n      <td>1st</td>\n      <td>Trae Young</td>\n    </tr>\n    <tr>\n      <th>2</th>\n      <td>2</td>\n      <td>2019</td>\n      <td>1st</td>\n      <td>Deandre Ayton</td>\n    </tr>\n    <tr>\n      <th>3</th>\n      <td>3</td>\n      <td>2019</td>\n      <td>1st</td>\n      <td>Jaren Jackson</td>\n    </tr>\n    <tr>\n      <th>4</th>\n      <td>4</td>\n      <td>2019</td>\n      <td>1st</td>\n      <td>Marvin Bagley</td>\n    </tr>\n  </tbody>\n</table>\n</div>",
            "text/plain": "   Unnamed: 0  Year Team         Player\n0           0  2019  1st    Luka Dončić\n1           1  2019  1st     Trae Young\n2           2  2019  1st  Deandre Ayton\n3           3  2019  1st  Jaren Jackson\n4           4  2019  1st  Marvin Bagley"
          },
          "metadata": {}
        }
      ]
    },
    {
      "metadata": {
        "trusted": true
      },
      "cell_type": "code",
      "source": "alldefensive = pd.read_csv('Web-Scrapping Scripts/Basketball-Reference All NBA Defensive Teams.csv')\nalldefensive.head()",
      "execution_count": 23,
      "outputs": [
        {
          "output_type": "execute_result",
          "execution_count": 23,
          "data": {
            "text/html": "<div>\n<style scoped>\n    .dataframe tbody tr th:only-of-type {\n        vertical-align: middle;\n    }\n\n    .dataframe tbody tr th {\n        vertical-align: top;\n    }\n\n    .dataframe thead th {\n        text-align: right;\n    }\n</style>\n<table border=\"1\" class=\"dataframe\">\n  <thead>\n    <tr style=\"text-align: right;\">\n      <th></th>\n      <th>Unnamed: 0</th>\n      <th>Year</th>\n      <th>Team</th>\n      <th>Player</th>\n    </tr>\n  </thead>\n  <tbody>\n    <tr>\n      <th>0</th>\n      <td>0</td>\n      <td>2019</td>\n      <td>1st</td>\n      <td>Rudy Gobert</td>\n    </tr>\n    <tr>\n      <th>1</th>\n      <td>1</td>\n      <td>2019</td>\n      <td>1st</td>\n      <td>Paul George</td>\n    </tr>\n    <tr>\n      <th>2</th>\n      <td>2</td>\n      <td>2019</td>\n      <td>1st</td>\n      <td>Giannis Antetokounmpo</td>\n    </tr>\n    <tr>\n      <th>3</th>\n      <td>3</td>\n      <td>2019</td>\n      <td>1st</td>\n      <td>Marcus Smart</td>\n    </tr>\n    <tr>\n      <th>4</th>\n      <td>4</td>\n      <td>2019</td>\n      <td>1st</td>\n      <td>Eric Bledsoe</td>\n    </tr>\n  </tbody>\n</table>\n</div>",
            "text/plain": "   Unnamed: 0  Year Team                 Player\n0           0  2019  1st            Rudy Gobert\n1           1  2019  1st            Paul George\n2           2  2019  1st  Giannis Antetokounmpo\n3           3  2019  1st           Marcus Smart\n4           4  2019  1st           Eric Bledsoe"
          },
          "metadata": {}
        }
      ]
    },
    {
      "metadata": {
        "trusted": true
      },
      "cell_type": "code",
      "source": "allnba.loc[allnba['Team'] == '1st', 'All NBA 1st Team'] = 1\nallnba.loc[allnba['Team'] == '2nd', 'All NBA 2nd Team'] = 1\ntry:\n    allnba.loc[allnba['Team'] == '3rd', 'All NBA 3rd Team'] = 1\nexcept:\n    pass",
      "execution_count": 24,
      "outputs": []
    },
    {
      "metadata": {
        "trusted": true
      },
      "cell_type": "code",
      "source": "allrookie.loc[allrookie['Team'] == '1st', 'All Rookie 1st Team'] = 1\nallrookie.loc[allrookie['Team'] == '2nd', 'All Rookie 2nd Team'] = 1",
      "execution_count": 25,
      "outputs": []
    },
    {
      "metadata": {
        "trusted": true
      },
      "cell_type": "code",
      "source": "alldefensive.loc[alldefensive['Team'] == '1st', 'All Defensive 1st Team'] = 1\nalldefensive.loc[alldefensive['Team'] == '2nd', 'All Defensive 2nd Team'] = 1",
      "execution_count": 26,
      "outputs": []
    },
    {
      "metadata": {
        "trusted": true
      },
      "cell_type": "code",
      "source": "allnba['Total All NBA 1st Team'] = allnba['All NBA 1st Team']\nallnba['Total All NBA 2nd Team'] = allnba['All NBA 2nd Team']\ntry:\n    allnba['Total All NBA 3rd Team'] = allnba['All NBA 3rd Team']\nexcept:\n    pass\n\nallrookie['Total All Rookie 1st Team'] = allrookie['All Rookie 1st Team']\nallrookie['Total All Rookie 2nd Team'] = allrookie['All Rookie 2nd Team']\n\nalldefensive['Total All Defensive 1st Team'] = alldefensive['All Defensive 1st Team']\nalldefensive['Total All Defensive 2nd Team'] = alldefensive['All Defensive 2nd Team']",
      "execution_count": 27,
      "outputs": []
    },
    {
      "metadata": {
        "trusted": true
      },
      "cell_type": "code",
      "source": "allnba.fillna(0, inplace = True)\nallrookie.fillna(0, inplace = True)\nalldefensive.fillna(0, inplace = True)",
      "execution_count": 28,
      "outputs": []
    },
    {
      "metadata": {
        "trusted": true
      },
      "cell_type": "code",
      "source": "stats = stats.merge(allnba.drop(['Unnamed: 0', 'Team'], axis = 1), on = ['Player', 'Year'], how = 'outer').fillna(0).sort_values('Year')\nfor i in stats['Player'].unique():\n    stats.loc[stats['Player'] == i , 'Total All NBA 1st Team'] = stats.loc[stats['Player'] == i, 'Total All NBA 1st Team'].cumsum()\n    stats.loc[stats['Player'] == i , 'Total All NBA 2nd Team'] = stats.loc[stats['Player'] == i, 'Total All NBA 2nd Team'].cumsum()\n    try:\n        stats.loc[stats['Player'] == i , 'Total All NBA 3rd Team'] = stats.loc[stats['Player'] == i, 'Total All NBA 3rd Team'].cumsum()\n    except:\n        pass\nstats = stats[stats['Year'] >= 2016]",
      "execution_count": 29,
      "outputs": []
    },
    {
      "metadata": {
        "trusted": true
      },
      "cell_type": "code",
      "source": "stats = stats.merge(allrookie.drop(['Unnamed: 0', 'Team'], axis = 1), on = ['Player', 'Year'], how = 'outer').fillna(0).sort_values('Year')\nfor i in stats['Player'].unique():\n    stats.loc[stats['Player'] == i , 'Total All Rookie 1st Team'] = stats.loc[stats['Player'] == i, 'Total All Rookie 1st Team'].cumsum()\n    stats.loc[stats['Player'] == i , 'Total All Rookie 2nd Team'] = stats.loc[stats['Player'] == i, 'Total All Rookie 2nd Team'].cumsum()\nstats = stats[stats['Year'] >= 2016]",
      "execution_count": 30,
      "outputs": []
    },
    {
      "metadata": {
        "trusted": true
      },
      "cell_type": "code",
      "source": "stats = stats.merge(alldefensive.drop(['Unnamed: 0', 'Team'], axis = 1), on = ['Player', 'Year'], how = 'outer').fillna(0).sort_values('Year')\nfor i in stats['Player'].unique():\n    stats.loc[stats['Player'] == i , 'Total All Defensive 1st Team'] = stats.loc[stats['Player'] == i, 'Total All Defensive 1st Team'].cumsum()\n    stats.loc[stats['Player'] == i , 'Total All Defensive 2nd Team'] = stats.loc[stats['Player'] == i, 'Total All Defensive 2nd Team'].cumsum()\nstats = stats[stats['Year'] >= 2016]",
      "execution_count": 31,
      "outputs": []
    },
    {
      "metadata": {
        "trusted": true
      },
      "cell_type": "code",
      "source": "stats.shape",
      "execution_count": 32,
      "outputs": [
        {
          "output_type": "execute_result",
          "execution_count": 32,
          "data": {
            "text/plain": "(2046, 58)"
          },
          "metadata": {}
        }
      ]
    },
    {
      "metadata": {},
      "cell_type": "markdown",
      "source": "# Free Agency"
    },
    {
      "metadata": {
        "trusted": true
      },
      "cell_type": "code",
      "source": "free_agency = pd.read_csv('Web-Scrapping Scripts/Basketball-Reference Free Agency.csv')\nprint(free_agency.shape)\nfree_agency.head()",
      "execution_count": 33,
      "outputs": [
        {
          "output_type": "stream",
          "text": "(581, 5)\n",
          "name": "stdout"
        },
        {
          "output_type": "execute_result",
          "execution_count": 33,
          "data": {
            "text/html": "<div>\n<style scoped>\n    .dataframe tbody tr th:only-of-type {\n        vertical-align: middle;\n    }\n\n    .dataframe tbody tr th {\n        vertical-align: top;\n    }\n\n    .dataframe thead th {\n        text-align: right;\n    }\n</style>\n<table border=\"1\" class=\"dataframe\">\n  <thead>\n    <tr style=\"text-align: right;\">\n      <th></th>\n      <th>Unnamed: 0</th>\n      <th>Player</th>\n      <th>New Team</th>\n      <th>Terms</th>\n      <th>Year</th>\n    </tr>\n  </thead>\n  <tbody>\n    <tr>\n      <th>0</th>\n      <td>0</td>\n      <td>Kevin Durant</td>\n      <td>GSW</td>\n      <td>Signed 2-yr/$54M deal with Warriors</td>\n      <td>2016</td>\n    </tr>\n    <tr>\n      <th>1</th>\n      <td>1</td>\n      <td>LeBron James</td>\n      <td>CLE</td>\n      <td>Signed 3-yr/$100M deal with Cavaliers</td>\n      <td>2016</td>\n    </tr>\n    <tr>\n      <th>2</th>\n      <td>2</td>\n      <td>Hassan Whiteside</td>\n      <td>MIA</td>\n      <td>Signed 4-yr/$98M deal with Heat</td>\n      <td>2016</td>\n    </tr>\n    <tr>\n      <th>3</th>\n      <td>3</td>\n      <td>DeMar DeRozan</td>\n      <td>TOR</td>\n      <td>Signed 5-yr/$139M deal with Raptors</td>\n      <td>2016</td>\n    </tr>\n    <tr>\n      <th>4</th>\n      <td>4</td>\n      <td>Al Horford</td>\n      <td>BOS</td>\n      <td>Signed 4-yr/$113M deal with Celtics</td>\n      <td>2016</td>\n    </tr>\n  </tbody>\n</table>\n</div>",
            "text/plain": "   Unnamed: 0            Player New Team  \\\n0           0      Kevin Durant      GSW   \n1           1      LeBron James      CLE   \n2           2  Hassan Whiteside      MIA   \n3           3     DeMar DeRozan      TOR   \n4           4        Al Horford      BOS   \n\n                                   Terms  Year  \n0    Signed 2-yr/$54M deal with Warriors  2016  \n1  Signed 3-yr/$100M deal with Cavaliers  2016  \n2        Signed 4-yr/$98M deal with Heat  2016  \n3    Signed 5-yr/$139M deal with Raptors  2016  \n4    Signed 4-yr/$113M deal with Celtics  2016  "
          },
          "metadata": {}
        }
      ]
    },
    {
      "metadata": {
        "trusted": true
      },
      "cell_type": "code",
      "source": "for j in free_agency['Player'].unique():\n    free_agency.replace(j, unidecode.unidecode(j), inplace = True)",
      "execution_count": 34,
      "outputs": []
    },
    {
      "metadata": {
        "trusted": true
      },
      "cell_type": "code",
      "source": "free_agency['Player'] = free_agency['Player'].str.replace('.', '')",
      "execution_count": 35,
      "outputs": []
    },
    {
      "metadata": {
        "trusted": true
      },
      "cell_type": "code",
      "source": "salary_2017_2018 = pd.read_csv('Web-Scrapping Scripts/Hoopshype.com NBA Salaries 2016-2018.csv')\nsalary_2017_2018.rename({'Actual_Salary' : 'Salary'}, axis = 1, inplace = True)\nsalary_2017_2018.drop('Adjusted_Salary', axis = 1, inplace = True)\nsalary_2017_2018.head()",
      "execution_count": 36,
      "outputs": [
        {
          "output_type": "execute_result",
          "execution_count": 36,
          "data": {
            "text/html": "<div>\n<style scoped>\n    .dataframe tbody tr th:only-of-type {\n        vertical-align: middle;\n    }\n\n    .dataframe tbody tr th {\n        vertical-align: top;\n    }\n\n    .dataframe thead th {\n        text-align: right;\n    }\n</style>\n<table border=\"1\" class=\"dataframe\">\n  <thead>\n    <tr style=\"text-align: right;\">\n      <th></th>\n      <th>Unnamed: 0</th>\n      <th>Player</th>\n      <th>Salary</th>\n      <th>Year</th>\n    </tr>\n  </thead>\n  <tbody>\n    <tr>\n      <th>0</th>\n      <td>0</td>\n      <td>LeBron James</td>\n      <td>30963450</td>\n      <td>2016</td>\n    </tr>\n    <tr>\n      <th>1</th>\n      <td>1</td>\n      <td>Al Horford</td>\n      <td>26540100</td>\n      <td>2016</td>\n    </tr>\n    <tr>\n      <th>2</th>\n      <td>2</td>\n      <td>Kevin Durant</td>\n      <td>26540100</td>\n      <td>2016</td>\n    </tr>\n    <tr>\n      <th>3</th>\n      <td>3</td>\n      <td>James Harden</td>\n      <td>26540100</td>\n      <td>2016</td>\n    </tr>\n    <tr>\n      <th>4</th>\n      <td>4</td>\n      <td>Mike Conley</td>\n      <td>26540100</td>\n      <td>2016</td>\n    </tr>\n  </tbody>\n</table>\n</div>",
            "text/plain": "   Unnamed: 0        Player    Salary  Year\n0           0  LeBron James  30963450  2016\n1           1    Al Horford  26540100  2016\n2           2  Kevin Durant  26540100  2016\n3           3  James Harden  26540100  2016\n4           4   Mike Conley  26540100  2016"
          },
          "metadata": {}
        }
      ]
    },
    {
      "metadata": {
        "trusted": true
      },
      "cell_type": "code",
      "source": "salary_2019 = pd.read_csv('Web-Scrapping Scripts/Hoopshype.com NBA Salaries 2019.csv')\nsalary_2019.head()",
      "execution_count": 37,
      "outputs": [
        {
          "output_type": "execute_result",
          "execution_count": 37,
          "data": {
            "text/html": "<div>\n<style scoped>\n    .dataframe tbody tr th:only-of-type {\n        vertical-align: middle;\n    }\n\n    .dataframe tbody tr th {\n        vertical-align: top;\n    }\n\n    .dataframe thead th {\n        text-align: right;\n    }\n</style>\n<table border=\"1\" class=\"dataframe\">\n  <thead>\n    <tr style=\"text-align: right;\">\n      <th></th>\n      <th>Unnamed: 0</th>\n      <th>Player</th>\n      <th>Salary</th>\n      <th>Year</th>\n    </tr>\n  </thead>\n  <tbody>\n    <tr>\n      <th>0</th>\n      <td>0</td>\n      <td>Stephen Curry</td>\n      <td>40231758</td>\n      <td>2019</td>\n    </tr>\n    <tr>\n      <th>1</th>\n      <td>1</td>\n      <td>Russell Westbrook</td>\n      <td>38506482</td>\n      <td>2019</td>\n    </tr>\n    <tr>\n      <th>2</th>\n      <td>2</td>\n      <td>Chris Paul</td>\n      <td>38506482</td>\n      <td>2019</td>\n    </tr>\n    <tr>\n      <th>3</th>\n      <td>3</td>\n      <td>James Harden</td>\n      <td>38199000</td>\n      <td>2019</td>\n    </tr>\n    <tr>\n      <th>4</th>\n      <td>4</td>\n      <td>John Wall</td>\n      <td>38199000</td>\n      <td>2019</td>\n    </tr>\n  </tbody>\n</table>\n</div>",
            "text/plain": "   Unnamed: 0             Player    Salary  Year\n0           0      Stephen Curry  40231758  2019\n1           1  Russell Westbrook  38506482  2019\n2           2         Chris Paul  38506482  2019\n3           3       James Harden  38199000  2019\n4           4          John Wall  38199000  2019"
          },
          "metadata": {}
        }
      ]
    },
    {
      "metadata": {
        "trusted": true
      },
      "cell_type": "code",
      "source": "salary = salary_2017_2018.append(salary_2019)\nsalary.head()",
      "execution_count": 38,
      "outputs": [
        {
          "output_type": "execute_result",
          "execution_count": 38,
          "data": {
            "text/html": "<div>\n<style scoped>\n    .dataframe tbody tr th:only-of-type {\n        vertical-align: middle;\n    }\n\n    .dataframe tbody tr th {\n        vertical-align: top;\n    }\n\n    .dataframe thead th {\n        text-align: right;\n    }\n</style>\n<table border=\"1\" class=\"dataframe\">\n  <thead>\n    <tr style=\"text-align: right;\">\n      <th></th>\n      <th>Unnamed: 0</th>\n      <th>Player</th>\n      <th>Salary</th>\n      <th>Year</th>\n    </tr>\n  </thead>\n  <tbody>\n    <tr>\n      <th>0</th>\n      <td>0</td>\n      <td>LeBron James</td>\n      <td>30963450</td>\n      <td>2016</td>\n    </tr>\n    <tr>\n      <th>1</th>\n      <td>1</td>\n      <td>Al Horford</td>\n      <td>26540100</td>\n      <td>2016</td>\n    </tr>\n    <tr>\n      <th>2</th>\n      <td>2</td>\n      <td>Kevin Durant</td>\n      <td>26540100</td>\n      <td>2016</td>\n    </tr>\n    <tr>\n      <th>3</th>\n      <td>3</td>\n      <td>James Harden</td>\n      <td>26540100</td>\n      <td>2016</td>\n    </tr>\n    <tr>\n      <th>4</th>\n      <td>4</td>\n      <td>Mike Conley</td>\n      <td>26540100</td>\n      <td>2016</td>\n    </tr>\n  </tbody>\n</table>\n</div>",
            "text/plain": "   Unnamed: 0        Player    Salary  Year\n0           0  LeBron James  30963450  2016\n1           1    Al Horford  26540100  2016\n2           2  Kevin Durant  26540100  2016\n3           3  James Harden  26540100  2016\n4           4   Mike Conley  26540100  2016"
          },
          "metadata": {}
        }
      ]
    },
    {
      "metadata": {
        "trusted": true
      },
      "cell_type": "code",
      "source": "inconsistent_in_stats = []\nfor i, k in enumerate(free_agency.merge(salary, how = 'left', on = 'Player')['Player']):\n    inconsistent_in_stats += [k] if free_agency.merge(salary, how = 'left', on = 'Player')['Salary'].isnull()[i] else []\n    \ninconsistent_in_stats",
      "execution_count": 39,
      "outputs": [
        {
          "output_type": "execute_result",
          "execution_count": 39,
          "data": {
            "text/plain": "['Maurice Harkless',\n 'Nene Hilario',\n 'Chase Budinger',\n 'Rasual Butler',\n 'Ish Smith',\n 'PJ Hairston',\n 'Robert Sacre',\n 'Cory Jefferson',\n 'Lou Amundson',\n 'Chris Copeland',\n 'Cleanthony Early',\n 'Patty Mills',\n 'Tim Hardaway',\n 'Nene Hilario',\n 'Glenn Robinson',\n 'Gary Payton',\n 'Ish Smith',\n 'Nene Hilario',\n 'JJ Barea',\n 'Glenn Robinson',\n 'Cameron Reynolds',\n 'Timothe Luwawu-Cabarrot',\n 'Ray Spalding',\n 'Walt Lemon',\n 'Amida Brimah',\n 'Abdul Gaddy',\n 'Kaiser Gates',\n 'Terry Larrier',\n 'Devyn Marble',\n 'Elijah Millsap']"
          },
          "metadata": {}
        }
      ]
    },
    {
      "metadata": {
        "trusted": true
      },
      "cell_type": "code",
      "source": "salary.replace({'Moe Harkless' : 'Maurice Harkless', 'Nenê' : 'Nene Hilario', 'Ishmael Smith' : 'Ish Smith', 'Patrick Mills' : 'Patty Mills',\n                'Tim Hardaway Jr' : 'Tim Hardaway', 'Glenn Robinson III' : 'Glenn Robinson', 'Gary Payton II' : 'Gary Payton',\n                'Jose Juan Barea' : 'JJ Barea', 'Timothe Luwawu' : 'Timothe Luwawu-Cabarrot'}, inplace = True)",
      "execution_count": 40,
      "outputs": []
    },
    {
      "metadata": {
        "trusted": true
      },
      "cell_type": "code",
      "source": "free_agency1 = free_agency.merge(salary[['Player', 'Salary', 'Year']], how = 'inner', on = ['Player', 'Year'])\nprint(free_agency1.shape)\nfree_agency1.head()",
      "execution_count": 41,
      "outputs": [
        {
          "output_type": "stream",
          "text": "(513, 6)\n",
          "name": "stdout"
        },
        {
          "output_type": "execute_result",
          "execution_count": 41,
          "data": {
            "text/html": "<div>\n<style scoped>\n    .dataframe tbody tr th:only-of-type {\n        vertical-align: middle;\n    }\n\n    .dataframe tbody tr th {\n        vertical-align: top;\n    }\n\n    .dataframe thead th {\n        text-align: right;\n    }\n</style>\n<table border=\"1\" class=\"dataframe\">\n  <thead>\n    <tr style=\"text-align: right;\">\n      <th></th>\n      <th>Unnamed: 0</th>\n      <th>Player</th>\n      <th>New Team</th>\n      <th>Terms</th>\n      <th>Year</th>\n      <th>Salary</th>\n    </tr>\n  </thead>\n  <tbody>\n    <tr>\n      <th>0</th>\n      <td>0</td>\n      <td>Kevin Durant</td>\n      <td>GSW</td>\n      <td>Signed 2-yr/$54M deal with Warriors</td>\n      <td>2016</td>\n      <td>26540100</td>\n    </tr>\n    <tr>\n      <th>1</th>\n      <td>1</td>\n      <td>LeBron James</td>\n      <td>CLE</td>\n      <td>Signed 3-yr/$100M deal with Cavaliers</td>\n      <td>2016</td>\n      <td>30963450</td>\n    </tr>\n    <tr>\n      <th>2</th>\n      <td>2</td>\n      <td>Hassan Whiteside</td>\n      <td>MIA</td>\n      <td>Signed 4-yr/$98M deal with Heat</td>\n      <td>2016</td>\n      <td>22116750</td>\n    </tr>\n    <tr>\n      <th>3</th>\n      <td>3</td>\n      <td>DeMar DeRozan</td>\n      <td>TOR</td>\n      <td>Signed 5-yr/$139M deal with Raptors</td>\n      <td>2016</td>\n      <td>26540100</td>\n    </tr>\n    <tr>\n      <th>4</th>\n      <td>4</td>\n      <td>Al Horford</td>\n      <td>BOS</td>\n      <td>Signed 4-yr/$113M deal with Celtics</td>\n      <td>2016</td>\n      <td>26540100</td>\n    </tr>\n  </tbody>\n</table>\n</div>",
            "text/plain": "   Unnamed: 0            Player New Team  \\\n0           0      Kevin Durant      GSW   \n1           1      LeBron James      CLE   \n2           2  Hassan Whiteside      MIA   \n3           3     DeMar DeRozan      TOR   \n4           4        Al Horford      BOS   \n\n                                   Terms  Year    Salary  \n0    Signed 2-yr/$54M deal with Warriors  2016  26540100  \n1  Signed 3-yr/$100M deal with Cavaliers  2016  30963450  \n2        Signed 4-yr/$98M deal with Heat  2016  22116750  \n3    Signed 5-yr/$139M deal with Raptors  2016  26540100  \n4    Signed 4-yr/$113M deal with Celtics  2016  26540100  "
          },
          "metadata": {}
        }
      ]
    },
    {
      "metadata": {
        "trusted": true
      },
      "cell_type": "code",
      "source": "free_agency1.replace({'Nene Hilario' : 'Nene', 'Tim Hardaway' : 'Tim Hardaway Jr', 'Glenn Robinson' : 'Glenn Robinson III',\n                      'Derrick Jones' : 'Derrick Jones Jr', 'Kelly Oubre' : 'Kelly Oubre Jr', 'Frank Mason' : 'Frank Mason III'},\n                      inplace = True)",
      "execution_count": 42,
      "outputs": []
    },
    {
      "metadata": {
        "trusted": true
      },
      "cell_type": "code",
      "source": "NBA_Data = stats.merge(free_agency1[['Player', 'Salary', 'Year']], how = 'inner')",
      "execution_count": 43,
      "outputs": []
    },
    {
      "metadata": {
        "trusted": true
      },
      "cell_type": "code",
      "source": "print(NBA_Data.shape)\nNBA_Data.head()",
      "execution_count": 44,
      "outputs": [
        {
          "output_type": "stream",
          "text": "(499, 59)\n",
          "name": "stdout"
        },
        {
          "output_type": "execute_result",
          "execution_count": 44,
          "data": {
            "text/html": "<div>\n<style scoped>\n    .dataframe tbody tr th:only-of-type {\n        vertical-align: middle;\n    }\n\n    .dataframe tbody tr th {\n        vertical-align: top;\n    }\n\n    .dataframe thead th {\n        text-align: right;\n    }\n</style>\n<table border=\"1\" class=\"dataframe\">\n  <thead>\n    <tr style=\"text-align: right;\">\n      <th></th>\n      <th>Player</th>\n      <th>Pos</th>\n      <th>Age</th>\n      <th>Tm</th>\n      <th>G</th>\n      <th>GS</th>\n      <th>MP</th>\n      <th>FG</th>\n      <th>FGA</th>\n      <th>FG%</th>\n      <th>3P</th>\n      <th>3PA</th>\n      <th>3P%</th>\n      <th>2P</th>\n      <th>2PA</th>\n      <th>2P%</th>\n      <th>eFT%</th>\n      <th>FT</th>\n      <th>FTA</th>\n      <th>FT%</th>\n      <th>ORB</th>\n      <th>DRB</th>\n      <th>TRB</th>\n      <th>AST</th>\n      <th>STL</th>\n      <th>BLK</th>\n      <th>TOV</th>\n      <th>PF</th>\n      <th>PTS</th>\n      <th>Year</th>\n      <th>All Star</th>\n      <th>Total All Star</th>\n      <th>MVP</th>\n      <th>Rookie of Year</th>\n      <th>DPOY</th>\n      <th>6th man of Year</th>\n      <th>Most Improved</th>\n      <th>Finals MVP</th>\n      <th>Total MVP</th>\n      <th>Total Rookie of Year</th>\n      <th>Total DPOY</th>\n      <th>Total 6th man of Year</th>\n      <th>Total Most Improved</th>\n      <th>Total Finals MVP</th>\n      <th>All NBA 1st Team</th>\n      <th>All NBA 2nd Team</th>\n      <th>All NBA 3rd Team</th>\n      <th>Total All NBA 1st Team</th>\n      <th>Total All NBA 2nd Team</th>\n      <th>Total All NBA 3rd Team</th>\n      <th>All Rookie 1st Team</th>\n      <th>All Rookie 2nd Team</th>\n      <th>Total All Rookie 1st Team</th>\n      <th>Total All Rookie 2nd Team</th>\n      <th>All Defensive 1st Team</th>\n      <th>All Defensive 2nd Team</th>\n      <th>Total All Defensive 1st Team</th>\n      <th>Total All Defensive 2nd Team</th>\n      <th>Salary</th>\n    </tr>\n  </thead>\n  <tbody>\n    <tr>\n      <th>0</th>\n      <td>Steve Novak</td>\n      <td>PF</td>\n      <td>32.0</td>\n      <td>MIL</td>\n      <td>10.0</td>\n      <td>0.0</td>\n      <td>4.4</td>\n      <td>0.8</td>\n      <td>1.8</td>\n      <td>0.444</td>\n      <td>0.7</td>\n      <td>1.5</td>\n      <td>0.467</td>\n      <td>0.1</td>\n      <td>0.3</td>\n      <td>0.333</td>\n      <td>0.639</td>\n      <td>0.1</td>\n      <td>0.1</td>\n      <td>1.000</td>\n      <td>0.0</td>\n      <td>0.5</td>\n      <td>0.5</td>\n      <td>0.0</td>\n      <td>0.0</td>\n      <td>0.0</td>\n      <td>0.1</td>\n      <td>0.3</td>\n      <td>2.4</td>\n      <td>2016</td>\n      <td>0.0</td>\n      <td>0.0</td>\n      <td>0.0</td>\n      <td>0.0</td>\n      <td>0.0</td>\n      <td>0.0</td>\n      <td>0.0</td>\n      <td>0.0</td>\n      <td>0.0</td>\n      <td>0.0</td>\n      <td>0.0</td>\n      <td>0.0</td>\n      <td>0.0</td>\n      <td>0.0</td>\n      <td>0.0</td>\n      <td>0.0</td>\n      <td>0.0</td>\n      <td>0.0</td>\n      <td>0.0</td>\n      <td>0.0</td>\n      <td>0.0</td>\n      <td>0.0</td>\n      <td>0.0</td>\n      <td>0.0</td>\n      <td>0.0</td>\n      <td>0.0</td>\n      <td>0.0</td>\n      <td>0.0</td>\n      <td>1551659</td>\n    </tr>\n    <tr>\n      <th>1</th>\n      <td>Ish Smith</td>\n      <td>PG</td>\n      <td>27.0</td>\n      <td>PHI</td>\n      <td>77.0</td>\n      <td>53.0</td>\n      <td>29.1</td>\n      <td>5.2</td>\n      <td>12.6</td>\n      <td>0.411</td>\n      <td>0.7</td>\n      <td>2.2</td>\n      <td>0.329</td>\n      <td>4.4</td>\n      <td>10.4</td>\n      <td>0.428</td>\n      <td>0.440</td>\n      <td>1.6</td>\n      <td>2.3</td>\n      <td>0.693</td>\n      <td>0.6</td>\n      <td>3.4</td>\n      <td>4.0</td>\n      <td>6.5</td>\n      <td>1.1</td>\n      <td>0.3</td>\n      <td>2.3</td>\n      <td>1.7</td>\n      <td>12.6</td>\n      <td>2016</td>\n      <td>0.0</td>\n      <td>0.0</td>\n      <td>0.0</td>\n      <td>0.0</td>\n      <td>0.0</td>\n      <td>0.0</td>\n      <td>0.0</td>\n      <td>0.0</td>\n      <td>0.0</td>\n      <td>0.0</td>\n      <td>0.0</td>\n      <td>0.0</td>\n      <td>0.0</td>\n      <td>0.0</td>\n      <td>0.0</td>\n      <td>0.0</td>\n      <td>0.0</td>\n      <td>0.0</td>\n      <td>0.0</td>\n      <td>0.0</td>\n      <td>0.0</td>\n      <td>0.0</td>\n      <td>0.0</td>\n      <td>0.0</td>\n      <td>0.0</td>\n      <td>0.0</td>\n      <td>0.0</td>\n      <td>0.0</td>\n      <td>6000000</td>\n    </tr>\n    <tr>\n      <th>2</th>\n      <td>JR Smith</td>\n      <td>SG</td>\n      <td>30.0</td>\n      <td>CLE</td>\n      <td>77.0</td>\n      <td>77.0</td>\n      <td>30.7</td>\n      <td>4.6</td>\n      <td>11.0</td>\n      <td>0.415</td>\n      <td>2.6</td>\n      <td>6.6</td>\n      <td>0.400</td>\n      <td>1.9</td>\n      <td>4.4</td>\n      <td>0.438</td>\n      <td>0.535</td>\n      <td>0.6</td>\n      <td>0.9</td>\n      <td>0.634</td>\n      <td>0.6</td>\n      <td>2.3</td>\n      <td>2.8</td>\n      <td>1.7</td>\n      <td>1.1</td>\n      <td>0.3</td>\n      <td>0.8</td>\n      <td>2.6</td>\n      <td>12.4</td>\n      <td>2016</td>\n      <td>0.0</td>\n      <td>0.0</td>\n      <td>0.0</td>\n      <td>0.0</td>\n      <td>0.0</td>\n      <td>0.0</td>\n      <td>0.0</td>\n      <td>0.0</td>\n      <td>0.0</td>\n      <td>0.0</td>\n      <td>0.0</td>\n      <td>0.0</td>\n      <td>0.0</td>\n      <td>0.0</td>\n      <td>0.0</td>\n      <td>0.0</td>\n      <td>0.0</td>\n      <td>0.0</td>\n      <td>0.0</td>\n      <td>0.0</td>\n      <td>0.0</td>\n      <td>0.0</td>\n      <td>0.0</td>\n      <td>0.0</td>\n      <td>0.0</td>\n      <td>0.0</td>\n      <td>0.0</td>\n      <td>0.0</td>\n      <td>12800000</td>\n    </tr>\n    <tr>\n      <th>3</th>\n      <td>Andre Drummond</td>\n      <td>C</td>\n      <td>22.0</td>\n      <td>DET</td>\n      <td>81.0</td>\n      <td>81.0</td>\n      <td>32.9</td>\n      <td>6.8</td>\n      <td>13.1</td>\n      <td>0.521</td>\n      <td>0.0</td>\n      <td>0.1</td>\n      <td>0.333</td>\n      <td>6.8</td>\n      <td>13.0</td>\n      <td>0.522</td>\n      <td>0.522</td>\n      <td>2.6</td>\n      <td>7.2</td>\n      <td>0.355</td>\n      <td>4.9</td>\n      <td>9.9</td>\n      <td>14.8</td>\n      <td>0.8</td>\n      <td>1.5</td>\n      <td>1.4</td>\n      <td>1.9</td>\n      <td>3.0</td>\n      <td>16.2</td>\n      <td>2016</td>\n      <td>1.0</td>\n      <td>1.0</td>\n      <td>0.0</td>\n      <td>0.0</td>\n      <td>0.0</td>\n      <td>0.0</td>\n      <td>0.0</td>\n      <td>0.0</td>\n      <td>0.0</td>\n      <td>0.0</td>\n      <td>0.0</td>\n      <td>0.0</td>\n      <td>0.0</td>\n      <td>0.0</td>\n      <td>0.0</td>\n      <td>0.0</td>\n      <td>1.0</td>\n      <td>0.0</td>\n      <td>0.0</td>\n      <td>1.0</td>\n      <td>0.0</td>\n      <td>0.0</td>\n      <td>0.0</td>\n      <td>1.0</td>\n      <td>0.0</td>\n      <td>0.0</td>\n      <td>0.0</td>\n      <td>0.0</td>\n      <td>22116750</td>\n    </tr>\n    <tr>\n      <th>4</th>\n      <td>Trevor Booker</td>\n      <td>PF</td>\n      <td>28.0</td>\n      <td>UTA</td>\n      <td>79.0</td>\n      <td>2.0</td>\n      <td>20.7</td>\n      <td>2.4</td>\n      <td>4.9</td>\n      <td>0.490</td>\n      <td>0.2</td>\n      <td>0.5</td>\n      <td>0.293</td>\n      <td>2.3</td>\n      <td>4.4</td>\n      <td>0.513</td>\n      <td>0.505</td>\n      <td>0.9</td>\n      <td>1.3</td>\n      <td>0.670</td>\n      <td>2.1</td>\n      <td>3.6</td>\n      <td>5.7</td>\n      <td>1.1</td>\n      <td>0.7</td>\n      <td>0.5</td>\n      <td>1.0</td>\n      <td>2.1</td>\n      <td>5.9</td>\n      <td>2016</td>\n      <td>0.0</td>\n      <td>0.0</td>\n      <td>0.0</td>\n      <td>0.0</td>\n      <td>0.0</td>\n      <td>0.0</td>\n      <td>0.0</td>\n      <td>0.0</td>\n      <td>0.0</td>\n      <td>0.0</td>\n      <td>0.0</td>\n      <td>0.0</td>\n      <td>0.0</td>\n      <td>0.0</td>\n      <td>0.0</td>\n      <td>0.0</td>\n      <td>0.0</td>\n      <td>0.0</td>\n      <td>0.0</td>\n      <td>0.0</td>\n      <td>0.0</td>\n      <td>0.0</td>\n      <td>0.0</td>\n      <td>0.0</td>\n      <td>0.0</td>\n      <td>0.0</td>\n      <td>0.0</td>\n      <td>0.0</td>\n      <td>9250000</td>\n    </tr>\n  </tbody>\n</table>\n</div>",
            "text/plain": "           Player Pos   Age   Tm     G    GS    MP   FG   FGA    FG%   3P  \\\n0     Steve Novak  PF  32.0  MIL  10.0   0.0   4.4  0.8   1.8  0.444  0.7   \n1       Ish Smith  PG  27.0  PHI  77.0  53.0  29.1  5.2  12.6  0.411  0.7   \n2        JR Smith  SG  30.0  CLE  77.0  77.0  30.7  4.6  11.0  0.415  2.6   \n3  Andre Drummond   C  22.0  DET  81.0  81.0  32.9  6.8  13.1  0.521  0.0   \n4   Trevor Booker  PF  28.0  UTA  79.0   2.0  20.7  2.4   4.9  0.490  0.2   \n\n   3PA    3P%   2P   2PA    2P%   eFT%   FT  FTA    FT%  ORB  DRB   TRB  AST  \\\n0  1.5  0.467  0.1   0.3  0.333  0.639  0.1  0.1  1.000  0.0  0.5   0.5  0.0   \n1  2.2  0.329  4.4  10.4  0.428  0.440  1.6  2.3  0.693  0.6  3.4   4.0  6.5   \n2  6.6  0.400  1.9   4.4  0.438  0.535  0.6  0.9  0.634  0.6  2.3   2.8  1.7   \n3  0.1  0.333  6.8  13.0  0.522  0.522  2.6  7.2  0.355  4.9  9.9  14.8  0.8   \n4  0.5  0.293  2.3   4.4  0.513  0.505  0.9  1.3  0.670  2.1  3.6   5.7  1.1   \n\n   STL  BLK  TOV   PF   PTS  Year  All Star  Total All Star  MVP  \\\n0  0.0  0.0  0.1  0.3   2.4  2016       0.0             0.0  0.0   \n1  1.1  0.3  2.3  1.7  12.6  2016       0.0             0.0  0.0   \n2  1.1  0.3  0.8  2.6  12.4  2016       0.0             0.0  0.0   \n3  1.5  1.4  1.9  3.0  16.2  2016       1.0             1.0  0.0   \n4  0.7  0.5  1.0  2.1   5.9  2016       0.0             0.0  0.0   \n\n   Rookie of Year  DPOY  6th man of Year  Most Improved  Finals MVP  \\\n0             0.0   0.0              0.0            0.0         0.0   \n1             0.0   0.0              0.0            0.0         0.0   \n2             0.0   0.0              0.0            0.0         0.0   \n3             0.0   0.0              0.0            0.0         0.0   \n4             0.0   0.0              0.0            0.0         0.0   \n\n   Total MVP  Total Rookie of Year  Total DPOY  Total 6th man of Year  \\\n0        0.0                   0.0         0.0                    0.0   \n1        0.0                   0.0         0.0                    0.0   \n2        0.0                   0.0         0.0                    0.0   \n3        0.0                   0.0         0.0                    0.0   \n4        0.0                   0.0         0.0                    0.0   \n\n   Total Most Improved  Total Finals MVP  All NBA 1st Team  All NBA 2nd Team  \\\n0                  0.0               0.0               0.0               0.0   \n1                  0.0               0.0               0.0               0.0   \n2                  0.0               0.0               0.0               0.0   \n3                  0.0               0.0               0.0               0.0   \n4                  0.0               0.0               0.0               0.0   \n\n   All NBA 3rd Team  Total All NBA 1st Team  Total All NBA 2nd Team  \\\n0               0.0                     0.0                     0.0   \n1               0.0                     0.0                     0.0   \n2               0.0                     0.0                     0.0   \n3               1.0                     0.0                     0.0   \n4               0.0                     0.0                     0.0   \n\n   Total All NBA 3rd Team  All Rookie 1st Team  All Rookie 2nd Team  \\\n0                     0.0                  0.0                  0.0   \n1                     0.0                  0.0                  0.0   \n2                     0.0                  0.0                  0.0   \n3                     1.0                  0.0                  0.0   \n4                     0.0                  0.0                  0.0   \n\n   Total All Rookie 1st Team  Total All Rookie 2nd Team  \\\n0                        0.0                        0.0   \n1                        0.0                        0.0   \n2                        0.0                        0.0   \n3                        0.0                        1.0   \n4                        0.0                        0.0   \n\n   All Defensive 1st Team  All Defensive 2nd Team  \\\n0                     0.0                     0.0   \n1                     0.0                     0.0   \n2                     0.0                     0.0   \n3                     0.0                     0.0   \n4                     0.0                     0.0   \n\n   Total All Defensive 1st Team  Total All Defensive 2nd Team    Salary  \n0                           0.0                           0.0   1551659  \n1                           0.0                           0.0   6000000  \n2                           0.0                           0.0  12800000  \n3                           0.0                           0.0  22116750  \n4                           0.0                           0.0   9250000  "
          },
          "metadata": {}
        }
      ]
    },
    {
      "metadata": {
        "trusted": true
      },
      "cell_type": "code",
      "source": "NBA_Data['Year'].value_counts()",
      "execution_count": 45,
      "outputs": [
        {
          "output_type": "execute_result",
          "execution_count": 45,
          "data": {
            "text/plain": "2019    148\n2016    135\n2018    109\n2017    107\nName: Year, dtype: int64"
          },
          "metadata": {}
        }
      ]
    },
    {
      "metadata": {
        "trusted": true
      },
      "cell_type": "code",
      "source": "NBA_Data.to_csv('Free Agency Data 2016-2019', index = False)",
      "execution_count": 47,
      "outputs": []
    },
    {
      "metadata": {
        "trusted": true
      },
      "cell_type": "code",
      "source": "",
      "execution_count": null,
      "outputs": []
    }
  ],
  "metadata": {
    "kernelspec": {
      "name": "python36",
      "display_name": "Python 3.6",
      "language": "python"
    },
    "language_info": {
      "mimetype": "text/x-python",
      "nbconvert_exporter": "python",
      "name": "python",
      "pygments_lexer": "ipython3",
      "version": "3.6.6",
      "file_extension": ".py",
      "codemirror_mode": {
        "version": 3,
        "name": "ipython"
      }
    }
  },
  "nbformat": 4,
  "nbformat_minor": 2
}