{
  "cells": [
    {
      "metadata": {
        "trusted": true
      },
      "cell_type": "code",
      "source": "import pandas as pd\nimport numpy as np\nimport matplotlib.pyplot as plt\nimport seaborn as sns\n\npd.set_option(\"display.max_columns\", None)",
      "execution_count": 2,
      "outputs": []
    },
    {
      "metadata": {
        "trusted": true
      },
      "cell_type": "code",
      "source": "stats = pd.read_csv('Web-Scrapping Scripts/Basketball-Reference per game stats 2017-19.csv')\nprint(stats.shape)\nstats.head()",
      "execution_count": 3,
      "outputs": [
        {
          "output_type": "stream",
          "text": "(1967, 30)\n",
          "name": "stdout"
        },
        {
          "output_type": "execute_result",
          "execution_count": 3,
          "data": {
            "text/html": "<div>\n<style scoped>\n    .dataframe tbody tr th:only-of-type {\n        vertical-align: middle;\n    }\n\n    .dataframe tbody tr th {\n        vertical-align: top;\n    }\n\n    .dataframe thead th {\n        text-align: right;\n    }\n</style>\n<table border=\"1\" class=\"dataframe\">\n  <thead>\n    <tr style=\"text-align: right;\">\n      <th></th>\n      <th>Player</th>\n      <th>Pos</th>\n      <th>Age</th>\n      <th>Tm</th>\n      <th>G</th>\n      <th>GS</th>\n      <th>MP</th>\n      <th>FG</th>\n      <th>FGA</th>\n      <th>FG%</th>\n      <th>3P</th>\n      <th>3PA</th>\n      <th>3P%</th>\n      <th>2P</th>\n      <th>2PA</th>\n      <th>2P%</th>\n      <th>eFT%</th>\n      <th>FT</th>\n      <th>FTA</th>\n      <th>FT%</th>\n      <th>ORB</th>\n      <th>DRB</th>\n      <th>TRB</th>\n      <th>AST</th>\n      <th>STL</th>\n      <th>BLK</th>\n      <th>TOV</th>\n      <th>PF</th>\n      <th>PTS</th>\n      <th>Year</th>\n    </tr>\n  </thead>\n  <tbody>\n    <tr>\n      <th>0</th>\n      <td>Álex Abrines</td>\n      <td>SG</td>\n      <td>23</td>\n      <td>OKC</td>\n      <td>68</td>\n      <td>6</td>\n      <td>15.5</td>\n      <td>2.0</td>\n      <td>5.0</td>\n      <td>0.393</td>\n      <td>1.4</td>\n      <td>3.6</td>\n      <td>0.381</td>\n      <td>0.6</td>\n      <td>1.4</td>\n      <td>0.426</td>\n      <td>0.531</td>\n      <td>0.6</td>\n      <td>0.7</td>\n      <td>0.898</td>\n      <td>0.3</td>\n      <td>1.0</td>\n      <td>1.3</td>\n      <td>0.6</td>\n      <td>0.5</td>\n      <td>0.1</td>\n      <td>0.5</td>\n      <td>1.7</td>\n      <td>6.0</td>\n      <td>2017</td>\n    </tr>\n    <tr>\n      <th>1</th>\n      <td>Quincy Acy</td>\n      <td>PF</td>\n      <td>26</td>\n      <td>TOT</td>\n      <td>38</td>\n      <td>1</td>\n      <td>14.7</td>\n      <td>1.8</td>\n      <td>4.5</td>\n      <td>0.412</td>\n      <td>1.0</td>\n      <td>2.4</td>\n      <td>0.411</td>\n      <td>0.9</td>\n      <td>2.1</td>\n      <td>0.413</td>\n      <td>0.521</td>\n      <td>1.2</td>\n      <td>1.6</td>\n      <td>0.750</td>\n      <td>0.5</td>\n      <td>2.5</td>\n      <td>3.0</td>\n      <td>0.5</td>\n      <td>0.4</td>\n      <td>0.4</td>\n      <td>0.6</td>\n      <td>1.8</td>\n      <td>5.8</td>\n      <td>2017</td>\n    </tr>\n    <tr>\n      <th>2</th>\n      <td>Quincy Acy</td>\n      <td>PF</td>\n      <td>26</td>\n      <td>DAL</td>\n      <td>6</td>\n      <td>0</td>\n      <td>8.0</td>\n      <td>0.8</td>\n      <td>2.8</td>\n      <td>0.294</td>\n      <td>0.2</td>\n      <td>1.2</td>\n      <td>0.143</td>\n      <td>0.7</td>\n      <td>1.7</td>\n      <td>0.400</td>\n      <td>0.324</td>\n      <td>0.3</td>\n      <td>0.5</td>\n      <td>0.667</td>\n      <td>0.3</td>\n      <td>1.0</td>\n      <td>1.3</td>\n      <td>0.0</td>\n      <td>0.0</td>\n      <td>0.0</td>\n      <td>0.3</td>\n      <td>1.5</td>\n      <td>2.2</td>\n      <td>2017</td>\n    </tr>\n    <tr>\n      <th>3</th>\n      <td>Quincy Acy</td>\n      <td>PF</td>\n      <td>26</td>\n      <td>BRK</td>\n      <td>32</td>\n      <td>1</td>\n      <td>15.9</td>\n      <td>2.0</td>\n      <td>4.8</td>\n      <td>0.425</td>\n      <td>1.1</td>\n      <td>2.6</td>\n      <td>0.434</td>\n      <td>0.9</td>\n      <td>2.2</td>\n      <td>0.414</td>\n      <td>0.542</td>\n      <td>1.3</td>\n      <td>1.8</td>\n      <td>0.754</td>\n      <td>0.6</td>\n      <td>2.8</td>\n      <td>3.3</td>\n      <td>0.6</td>\n      <td>0.4</td>\n      <td>0.5</td>\n      <td>0.6</td>\n      <td>1.8</td>\n      <td>6.5</td>\n      <td>2017</td>\n    </tr>\n    <tr>\n      <th>4</th>\n      <td>Steven Adams</td>\n      <td>C</td>\n      <td>23</td>\n      <td>OKC</td>\n      <td>80</td>\n      <td>80</td>\n      <td>29.9</td>\n      <td>4.7</td>\n      <td>8.2</td>\n      <td>0.571</td>\n      <td>0.0</td>\n      <td>0.0</td>\n      <td>0.000</td>\n      <td>4.7</td>\n      <td>8.2</td>\n      <td>0.572</td>\n      <td>0.571</td>\n      <td>2.0</td>\n      <td>3.2</td>\n      <td>0.611</td>\n      <td>3.5</td>\n      <td>4.2</td>\n      <td>7.7</td>\n      <td>1.1</td>\n      <td>1.1</td>\n      <td>1.0</td>\n      <td>1.8</td>\n      <td>2.4</td>\n      <td>11.3</td>\n      <td>2017</td>\n    </tr>\n  </tbody>\n</table>\n</div>",
            "text/plain": "         Player Pos  Age   Tm   G  GS    MP   FG  FGA    FG%   3P  3PA    3P%  \\\n0  Álex Abrines  SG   23  OKC  68   6  15.5  2.0  5.0  0.393  1.4  3.6  0.381   \n1    Quincy Acy  PF   26  TOT  38   1  14.7  1.8  4.5  0.412  1.0  2.4  0.411   \n2    Quincy Acy  PF   26  DAL   6   0   8.0  0.8  2.8  0.294  0.2  1.2  0.143   \n3    Quincy Acy  PF   26  BRK  32   1  15.9  2.0  4.8  0.425  1.1  2.6  0.434   \n4  Steven Adams   C   23  OKC  80  80  29.9  4.7  8.2  0.571  0.0  0.0  0.000   \n\n    2P  2PA    2P%   eFT%   FT  FTA    FT%  ORB  DRB  TRB  AST  STL  BLK  TOV  \\\n0  0.6  1.4  0.426  0.531  0.6  0.7  0.898  0.3  1.0  1.3  0.6  0.5  0.1  0.5   \n1  0.9  2.1  0.413  0.521  1.2  1.6  0.750  0.5  2.5  3.0  0.5  0.4  0.4  0.6   \n2  0.7  1.7  0.400  0.324  0.3  0.5  0.667  0.3  1.0  1.3  0.0  0.0  0.0  0.3   \n3  0.9  2.2  0.414  0.542  1.3  1.8  0.754  0.6  2.8  3.3  0.6  0.4  0.5  0.6   \n4  4.7  8.2  0.572  0.571  2.0  3.2  0.611  3.5  4.2  7.7  1.1  1.1  1.0  1.8   \n\n    PF   PTS  Year  \n0  1.7   6.0  2017  \n1  1.8   5.8  2017  \n2  1.5   2.2  2017  \n3  1.8   6.5  2017  \n4  2.4  11.3  2017  "
          },
          "metadata": {}
        }
      ]
    },
    {
      "metadata": {},
      "cell_type": "markdown",
      "source": "# Data Cleaning "
    },
    {
      "metadata": {},
      "cell_type": "markdown",
      "source": "Due to trades, some players have multiple entries. The 'Tm' features highlights which team the player has played for. TOT indicates the combined stats in one season while the other entries are stats for the respective teams they played in. We will consider the stats of the entire season. We will also be considering only players who have played at least 15 games."
    },
    {
      "metadata": {
        "trusted": true
      },
      "cell_type": "code",
      "source": "#Replacing TOT with the last team played\nfor y in [2017, 2018, 2019]:\n    dup = []\n    for i, k in enumerate(stats[stats['Year'] == y]['Player']):\n        dup += [k] if stats.loc[stats['Year'] == y, 'Tm'].reset_index(drop = True)[i] == 'TOT' else []\n\n    for j in dup:\n        index = list(stats.loc[(stats['Player'] == j) & (stats['Year'] == y), 'Tm'].index)\n        stats.loc[index[0], 'Tm'] = stats.loc[index[-1], 'Tm']\n        \nstats.drop_duplicates(['Player', 'Year'], keep = 'first', inplace = True)",
      "execution_count": 7,
      "outputs": []
    },
    {
      "metadata": {
        "trusted": true
      },
      "cell_type": "code",
      "source": "#Dropping players who played less than 15 games\nstats = stats.loc[stats.G >= 15]\nstats.reset_index(drop = True, inplace = True)",
      "execution_count": 8,
      "outputs": []
    },
    {
      "metadata": {},
      "cell_type": "markdown",
      "source": "# Missing Data:"
    },
    {
      "metadata": {
        "trusted": true
      },
      "cell_type": "code",
      "source": "stats.isnull().sum()[stats.isnull().sum() > 0]",
      "execution_count": 9,
      "outputs": [
        {
          "output_type": "execute_result",
          "execution_count": 9,
          "data": {
            "text/plain": "3P%    66\n2P%     1\nFT%     3\ndtype: int64"
          },
          "metadata": {}
        }
      ]
    },
    {
      "metadata": {
        "trusted": true
      },
      "cell_type": "code",
      "source": "stats[['3P', '3PA', '3P%']][stats['3P%'].isnull()].describe()",
      "execution_count": 11,
      "outputs": [
        {
          "output_type": "execute_result",
          "execution_count": 11,
          "data": {
            "text/html": "<div>\n<style scoped>\n    .dataframe tbody tr th:only-of-type {\n        vertical-align: middle;\n    }\n\n    .dataframe tbody tr th {\n        vertical-align: top;\n    }\n\n    .dataframe thead th {\n        text-align: right;\n    }\n</style>\n<table border=\"1\" class=\"dataframe\">\n  <thead>\n    <tr style=\"text-align: right;\">\n      <th></th>\n      <th>3P</th>\n      <th>3PA</th>\n      <th>3P%</th>\n    </tr>\n  </thead>\n  <tbody>\n    <tr>\n      <th>count</th>\n      <td>66.0</td>\n      <td>66.0</td>\n      <td>0.0</td>\n    </tr>\n    <tr>\n      <th>mean</th>\n      <td>0.0</td>\n      <td>0.0</td>\n      <td>NaN</td>\n    </tr>\n    <tr>\n      <th>std</th>\n      <td>0.0</td>\n      <td>0.0</td>\n      <td>NaN</td>\n    </tr>\n    <tr>\n      <th>min</th>\n      <td>0.0</td>\n      <td>0.0</td>\n      <td>NaN</td>\n    </tr>\n    <tr>\n      <th>25%</th>\n      <td>0.0</td>\n      <td>0.0</td>\n      <td>NaN</td>\n    </tr>\n    <tr>\n      <th>50%</th>\n      <td>0.0</td>\n      <td>0.0</td>\n      <td>NaN</td>\n    </tr>\n    <tr>\n      <th>75%</th>\n      <td>0.0</td>\n      <td>0.0</td>\n      <td>NaN</td>\n    </tr>\n    <tr>\n      <th>max</th>\n      <td>0.0</td>\n      <td>0.0</td>\n      <td>NaN</td>\n    </tr>\n  </tbody>\n</table>\n</div>",
            "text/plain": "         3P   3PA  3P%\ncount  66.0  66.0  0.0\nmean    0.0   0.0  NaN\nstd     0.0   0.0  NaN\nmin     0.0   0.0  NaN\n25%     0.0   0.0  NaN\n50%     0.0   0.0  NaN\n75%     0.0   0.0  NaN\nmax     0.0   0.0  NaN"
          },
          "metadata": {}
        }
      ]
    },
    {
      "metadata": {
        "trusted": true
      },
      "cell_type": "code",
      "source": "stats[['2P', '2PA', '2P%']][stats['2P%'].isnull()].describe()",
      "execution_count": 12,
      "outputs": [
        {
          "output_type": "execute_result",
          "execution_count": 12,
          "data": {
            "text/html": "<div>\n<style scoped>\n    .dataframe tbody tr th:only-of-type {\n        vertical-align: middle;\n    }\n\n    .dataframe tbody tr th {\n        vertical-align: top;\n    }\n\n    .dataframe thead th {\n        text-align: right;\n    }\n</style>\n<table border=\"1\" class=\"dataframe\">\n  <thead>\n    <tr style=\"text-align: right;\">\n      <th></th>\n      <th>2P</th>\n      <th>2PA</th>\n      <th>2P%</th>\n    </tr>\n  </thead>\n  <tbody>\n    <tr>\n      <th>count</th>\n      <td>1.0</td>\n      <td>1.0</td>\n      <td>0.0</td>\n    </tr>\n    <tr>\n      <th>mean</th>\n      <td>0.0</td>\n      <td>0.0</td>\n      <td>NaN</td>\n    </tr>\n    <tr>\n      <th>std</th>\n      <td>NaN</td>\n      <td>NaN</td>\n      <td>NaN</td>\n    </tr>\n    <tr>\n      <th>min</th>\n      <td>0.0</td>\n      <td>0.0</td>\n      <td>NaN</td>\n    </tr>\n    <tr>\n      <th>25%</th>\n      <td>0.0</td>\n      <td>0.0</td>\n      <td>NaN</td>\n    </tr>\n    <tr>\n      <th>50%</th>\n      <td>0.0</td>\n      <td>0.0</td>\n      <td>NaN</td>\n    </tr>\n    <tr>\n      <th>75%</th>\n      <td>0.0</td>\n      <td>0.0</td>\n      <td>NaN</td>\n    </tr>\n    <tr>\n      <th>max</th>\n      <td>0.0</td>\n      <td>0.0</td>\n      <td>NaN</td>\n    </tr>\n  </tbody>\n</table>\n</div>",
            "text/plain": "        2P  2PA  2P%\ncount  1.0  1.0  0.0\nmean   0.0  0.0  NaN\nstd    NaN  NaN  NaN\nmin    0.0  0.0  NaN\n25%    0.0  0.0  NaN\n50%    0.0  0.0  NaN\n75%    0.0  0.0  NaN\nmax    0.0  0.0  NaN"
          },
          "metadata": {}
        }
      ]
    },
    {
      "metadata": {
        "trusted": true
      },
      "cell_type": "code",
      "source": "stats[['FT', 'FTA', 'FT%']][stats['FT%'].isnull()].describe()",
      "execution_count": 13,
      "outputs": [
        {
          "output_type": "execute_result",
          "execution_count": 13,
          "data": {
            "text/html": "<div>\n<style scoped>\n    .dataframe tbody tr th:only-of-type {\n        vertical-align: middle;\n    }\n\n    .dataframe tbody tr th {\n        vertical-align: top;\n    }\n\n    .dataframe thead th {\n        text-align: right;\n    }\n</style>\n<table border=\"1\" class=\"dataframe\">\n  <thead>\n    <tr style=\"text-align: right;\">\n      <th></th>\n      <th>FT</th>\n      <th>FTA</th>\n      <th>FT%</th>\n    </tr>\n  </thead>\n  <tbody>\n    <tr>\n      <th>count</th>\n      <td>3.0</td>\n      <td>3.0</td>\n      <td>0.0</td>\n    </tr>\n    <tr>\n      <th>mean</th>\n      <td>0.0</td>\n      <td>0.0</td>\n      <td>NaN</td>\n    </tr>\n    <tr>\n      <th>std</th>\n      <td>0.0</td>\n      <td>0.0</td>\n      <td>NaN</td>\n    </tr>\n    <tr>\n      <th>min</th>\n      <td>0.0</td>\n      <td>0.0</td>\n      <td>NaN</td>\n    </tr>\n    <tr>\n      <th>25%</th>\n      <td>0.0</td>\n      <td>0.0</td>\n      <td>NaN</td>\n    </tr>\n    <tr>\n      <th>50%</th>\n      <td>0.0</td>\n      <td>0.0</td>\n      <td>NaN</td>\n    </tr>\n    <tr>\n      <th>75%</th>\n      <td>0.0</td>\n      <td>0.0</td>\n      <td>NaN</td>\n    </tr>\n    <tr>\n      <th>max</th>\n      <td>0.0</td>\n      <td>0.0</td>\n      <td>NaN</td>\n    </tr>\n  </tbody>\n</table>\n</div>",
            "text/plain": "        FT  FTA  FT%\ncount  3.0  3.0  0.0\nmean   0.0  0.0  NaN\nstd    0.0  0.0  NaN\nmin    0.0  0.0  NaN\n25%    0.0  0.0  NaN\n50%    0.0  0.0  NaN\n75%    0.0  0.0  NaN\nmax    0.0  0.0  NaN"
          },
          "metadata": {}
        }
      ]
    },
    {
      "metadata": {},
      "cell_type": "markdown",
      "source": "NAN because is all 0"
    },
    {
      "metadata": {
        "trusted": true
      },
      "cell_type": "code",
      "source": "",
      "execution_count": null,
      "outputs": []
    }
  ],
  "metadata": {
    "kernelspec": {
      "name": "python36",
      "display_name": "Python 3.6",
      "language": "python"
    },
    "language_info": {
      "mimetype": "text/x-python",
      "nbconvert_exporter": "python",
      "name": "python",
      "pygments_lexer": "ipython3",
      "version": "3.6.6",
      "file_extension": ".py",
      "codemirror_mode": {
        "version": 3,
        "name": "ipython"
      }
    }
  },
  "nbformat": 4,
  "nbformat_minor": 2
}