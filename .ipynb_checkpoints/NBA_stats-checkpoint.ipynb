{
  "cells": [
    {
      "metadata": {
        "trusted": true
      },
      "cell_type": "code",
      "source": "import pandas as pd\nimport numpy as np\nimport matplotlib.pyplot as plt\nimport seaborn as sns\n\npd.set_option(\"display.max_columns\", None)",
      "execution_count": 2,
      "outputs": [
        {
          "output_type": "stream",
          "text": "/home/nbuser/anaconda3_501/lib/python3.6/site-packages/matplotlib/font_manager.py:229: UserWarning: Matplotlib is building the font cache using fc-list. This may take a moment.\n  'Matplotlib is building the font cache using fc-list. '\n",
          "name": "stderr"
        }
      ]
    },
    {
      "metadata": {
        "trusted": true
      },
      "cell_type": "code",
      "source": "stats = pd.read_csv('Web-Scrapping Scripts/Basketball-Reference per game stats 2017-19.csv')\nprint(stats.shape)\nstats.head()",
      "execution_count": 3,
      "outputs": [
        {
          "output_type": "stream",
          "text": "(1967, 30)\n",
          "name": "stdout"
        },
        {
          "output_type": "execute_result",
          "execution_count": 3,
          "data": {
            "text/html": "<div>\n<style scoped>\n    .dataframe tbody tr th:only-of-type {\n        vertical-align: middle;\n    }\n\n    .dataframe tbody tr th {\n        vertical-align: top;\n    }\n\n    .dataframe thead th {\n        text-align: right;\n    }\n</style>\n<table border=\"1\" class=\"dataframe\">\n  <thead>\n    <tr style=\"text-align: right;\">\n      <th></th>\n      <th>Player</th>\n      <th>Pos</th>\n      <th>Age</th>\n      <th>Tm</th>\n      <th>G</th>\n      <th>GS</th>\n      <th>MP</th>\n      <th>FG</th>\n      <th>FGA</th>\n      <th>FG%</th>\n      <th>3P</th>\n      <th>3PA</th>\n      <th>3P%</th>\n      <th>2P</th>\n      <th>2PA</th>\n      <th>2P%</th>\n      <th>eFT%</th>\n      <th>FT</th>\n      <th>FTA</th>\n      <th>FT%</th>\n      <th>ORB</th>\n      <th>DRB</th>\n      <th>TRB</th>\n      <th>AST</th>\n      <th>STL</th>\n      <th>BLK</th>\n      <th>TOV</th>\n      <th>PF</th>\n      <th>PTS</th>\n      <th>Year</th>\n    </tr>\n  </thead>\n  <tbody>\n    <tr>\n      <th>0</th>\n      <td>Álex Abrines</td>\n      <td>SG</td>\n      <td>23</td>\n      <td>OKC</td>\n      <td>68</td>\n      <td>6</td>\n      <td>15.5</td>\n      <td>2.0</td>\n      <td>5.0</td>\n      <td>0.393</td>\n      <td>1.4</td>\n      <td>3.6</td>\n      <td>0.381</td>\n      <td>0.6</td>\n      <td>1.4</td>\n      <td>0.426</td>\n      <td>0.531</td>\n      <td>0.6</td>\n      <td>0.7</td>\n      <td>0.898</td>\n      <td>0.3</td>\n      <td>1.0</td>\n      <td>1.3</td>\n      <td>0.6</td>\n      <td>0.5</td>\n      <td>0.1</td>\n      <td>0.5</td>\n      <td>1.7</td>\n      <td>6.0</td>\n      <td>2017</td>\n    </tr>\n    <tr>\n      <th>1</th>\n      <td>Quincy Acy</td>\n      <td>PF</td>\n      <td>26</td>\n      <td>TOT</td>\n      <td>38</td>\n      <td>1</td>\n      <td>14.7</td>\n      <td>1.8</td>\n      <td>4.5</td>\n      <td>0.412</td>\n      <td>1.0</td>\n      <td>2.4</td>\n      <td>0.411</td>\n      <td>0.9</td>\n      <td>2.1</td>\n      <td>0.413</td>\n      <td>0.521</td>\n      <td>1.2</td>\n      <td>1.6</td>\n      <td>0.750</td>\n      <td>0.5</td>\n      <td>2.5</td>\n      <td>3.0</td>\n      <td>0.5</td>\n      <td>0.4</td>\n      <td>0.4</td>\n      <td>0.6</td>\n      <td>1.8</td>\n      <td>5.8</td>\n      <td>2017</td>\n    </tr>\n    <tr>\n      <th>2</th>\n      <td>Quincy Acy</td>\n      <td>PF</td>\n      <td>26</td>\n      <td>DAL</td>\n      <td>6</td>\n      <td>0</td>\n      <td>8.0</td>\n      <td>0.8</td>\n      <td>2.8</td>\n      <td>0.294</td>\n      <td>0.2</td>\n      <td>1.2</td>\n      <td>0.143</td>\n      <td>0.7</td>\n      <td>1.7</td>\n      <td>0.400</td>\n      <td>0.324</td>\n      <td>0.3</td>\n      <td>0.5</td>\n      <td>0.667</td>\n      <td>0.3</td>\n      <td>1.0</td>\n      <td>1.3</td>\n      <td>0.0</td>\n      <td>0.0</td>\n      <td>0.0</td>\n      <td>0.3</td>\n      <td>1.5</td>\n      <td>2.2</td>\n      <td>2017</td>\n    </tr>\n    <tr>\n      <th>3</th>\n      <td>Quincy Acy</td>\n      <td>PF</td>\n      <td>26</td>\n      <td>BRK</td>\n      <td>32</td>\n      <td>1</td>\n      <td>15.9</td>\n      <td>2.0</td>\n      <td>4.8</td>\n      <td>0.425</td>\n      <td>1.1</td>\n      <td>2.6</td>\n      <td>0.434</td>\n      <td>0.9</td>\n      <td>2.2</td>\n      <td>0.414</td>\n      <td>0.542</td>\n      <td>1.3</td>\n      <td>1.8</td>\n      <td>0.754</td>\n      <td>0.6</td>\n      <td>2.8</td>\n      <td>3.3</td>\n      <td>0.6</td>\n      <td>0.4</td>\n      <td>0.5</td>\n      <td>0.6</td>\n      <td>1.8</td>\n      <td>6.5</td>\n      <td>2017</td>\n    </tr>\n    <tr>\n      <th>4</th>\n      <td>Steven Adams</td>\n      <td>C</td>\n      <td>23</td>\n      <td>OKC</td>\n      <td>80</td>\n      <td>80</td>\n      <td>29.9</td>\n      <td>4.7</td>\n      <td>8.2</td>\n      <td>0.571</td>\n      <td>0.0</td>\n      <td>0.0</td>\n      <td>0.000</td>\n      <td>4.7</td>\n      <td>8.2</td>\n      <td>0.572</td>\n      <td>0.571</td>\n      <td>2.0</td>\n      <td>3.2</td>\n      <td>0.611</td>\n      <td>3.5</td>\n      <td>4.2</td>\n      <td>7.7</td>\n      <td>1.1</td>\n      <td>1.1</td>\n      <td>1.0</td>\n      <td>1.8</td>\n      <td>2.4</td>\n      <td>11.3</td>\n      <td>2017</td>\n    </tr>\n  </tbody>\n</table>\n</div>",
            "text/plain": "         Player Pos  Age   Tm   G  GS    MP   FG  FGA    FG%   3P  3PA    3P%  \\\n0  Álex Abrines  SG   23  OKC  68   6  15.5  2.0  5.0  0.393  1.4  3.6  0.381   \n1    Quincy Acy  PF   26  TOT  38   1  14.7  1.8  4.5  0.412  1.0  2.4  0.411   \n2    Quincy Acy  PF   26  DAL   6   0   8.0  0.8  2.8  0.294  0.2  1.2  0.143   \n3    Quincy Acy  PF   26  BRK  32   1  15.9  2.0  4.8  0.425  1.1  2.6  0.434   \n4  Steven Adams   C   23  OKC  80  80  29.9  4.7  8.2  0.571  0.0  0.0  0.000   \n\n    2P  2PA    2P%   eFT%   FT  FTA    FT%  ORB  DRB  TRB  AST  STL  BLK  TOV  \\\n0  0.6  1.4  0.426  0.531  0.6  0.7  0.898  0.3  1.0  1.3  0.6  0.5  0.1  0.5   \n1  0.9  2.1  0.413  0.521  1.2  1.6  0.750  0.5  2.5  3.0  0.5  0.4  0.4  0.6   \n2  0.7  1.7  0.400  0.324  0.3  0.5  0.667  0.3  1.0  1.3  0.0  0.0  0.0  0.3   \n3  0.9  2.2  0.414  0.542  1.3  1.8  0.754  0.6  2.8  3.3  0.6  0.4  0.5  0.6   \n4  4.7  8.2  0.572  0.571  2.0  3.2  0.611  3.5  4.2  7.7  1.1  1.1  1.0  1.8   \n\n    PF   PTS  Year  \n0  1.7   6.0  2017  \n1  1.8   5.8  2017  \n2  1.5   2.2  2017  \n3  1.8   6.5  2017  \n4  2.4  11.3  2017  "
          },
          "metadata": {}
        }
      ]
    },
    {
      "metadata": {},
      "cell_type": "markdown",
      "source": "# Data Cleaning "
    },
    {
      "metadata": {},
      "cell_type": "markdown",
      "source": "Due to trades, some players have multiple entries. The 'Tm' features highlights which team the player has played for. TOT indicates the combined stats in one season while the other entries are stats for the respective teams they played in. We will consider the stats of the entire season. We will also be considering only players who have played at least 15 games."
    },
    {
      "metadata": {
        "trusted": true
      },
      "cell_type": "code",
      "source": "#Replacing TOT with the last team played\nfor y in [2017, 2018, 2019]:\n    dup = []\n    for i, k in enumerate(stats[stats['Year'] == y]['Player']):\n        dup += [k] if stats.loc[stats['Year'] == y, 'Tm'].reset_index(drop = True)[i] == 'TOT' else []\n\n    for j in dup:\n        index = list(stats.loc[(stats['Player'] == j) & (stats['Year'] == y), 'Tm'].index)\n        stats.loc[index[0], 'Tm'] = stats.loc[index[-1], 'Tm']\n        \nstats.drop_duplicates(['Player', 'Year'], keep = 'first', inplace = True)",
      "execution_count": 4,
      "outputs": []
    },
    {
      "metadata": {
        "trusted": true
      },
      "cell_type": "code",
      "source": "#Dropping players who played less than 15 games\nstats = stats.loc[stats.G >= 15]\nstats.reset_index(drop = True, inplace = True)",
      "execution_count": 5,
      "outputs": []
    },
    {
      "metadata": {
        "trusted": true
      },
      "cell_type": "code",
      "source": "!pip install unidecode",
      "execution_count": 69,
      "outputs": [
        {
          "output_type": "stream",
          "text": "Collecting unidecode\n  Using cached https://files.pythonhosted.org/packages/d0/42/d9edfed04228bacea2d824904cae367ee9efd05e6cce7ceaaedd0b0ad964/Unidecode-1.1.1-py2.py3-none-any.whl\nInstalling collected packages: unidecode\nSuccessfully installed unidecode-1.1.1\n\u001b[33mWARNING: You are using pip version 19.3.1; however, version 20.1.1 is available.\nYou should consider upgrading via the 'pip install --upgrade pip' command.\u001b[0m\n",
          "name": "stdout"
        }
      ]
    },
    {
      "metadata": {
        "trusted": true
      },
      "cell_type": "code",
      "source": "import unidecode\nfor j in stats['Player'].unique():\n    stats.replace(j, unidecode.unidecode(j), inplace = True)",
      "execution_count": 70,
      "outputs": []
    },
    {
      "metadata": {
        "trusted": true
      },
      "cell_type": "code",
      "source": "stats['Player'] = stats['Player'].str.replace('.', '')",
      "execution_count": 71,
      "outputs": []
    },
    {
      "metadata": {
        "trusted": true
      },
      "cell_type": "code",
      "source": "stats.shape",
      "execution_count": 6,
      "outputs": [
        {
          "output_type": "execute_result",
          "execution_count": 6,
          "data": {
            "text/plain": "(1322, 30)"
          },
          "metadata": {}
        }
      ]
    },
    {
      "metadata": {},
      "cell_type": "markdown",
      "source": "# Missing Data:"
    },
    {
      "metadata": {
        "trusted": true
      },
      "cell_type": "code",
      "source": "stats.isnull().sum()[stats.isnull().sum() > 0]",
      "execution_count": 7,
      "outputs": [
        {
          "output_type": "execute_result",
          "execution_count": 7,
          "data": {
            "text/plain": "3P%    66\n2P%     1\nFT%     3\ndtype: int64"
          },
          "metadata": {}
        }
      ]
    },
    {
      "metadata": {
        "trusted": true
      },
      "cell_type": "code",
      "source": "stats[['3P', '3PA', '3P%']][stats['3P%'].isnull()].describe()",
      "execution_count": 8,
      "outputs": [
        {
          "output_type": "execute_result",
          "execution_count": 8,
          "data": {
            "text/html": "<div>\n<style scoped>\n    .dataframe tbody tr th:only-of-type {\n        vertical-align: middle;\n    }\n\n    .dataframe tbody tr th {\n        vertical-align: top;\n    }\n\n    .dataframe thead th {\n        text-align: right;\n    }\n</style>\n<table border=\"1\" class=\"dataframe\">\n  <thead>\n    <tr style=\"text-align: right;\">\n      <th></th>\n      <th>3P</th>\n      <th>3PA</th>\n      <th>3P%</th>\n    </tr>\n  </thead>\n  <tbody>\n    <tr>\n      <th>count</th>\n      <td>66.0</td>\n      <td>66.0</td>\n      <td>0.0</td>\n    </tr>\n    <tr>\n      <th>mean</th>\n      <td>0.0</td>\n      <td>0.0</td>\n      <td>NaN</td>\n    </tr>\n    <tr>\n      <th>std</th>\n      <td>0.0</td>\n      <td>0.0</td>\n      <td>NaN</td>\n    </tr>\n    <tr>\n      <th>min</th>\n      <td>0.0</td>\n      <td>0.0</td>\n      <td>NaN</td>\n    </tr>\n    <tr>\n      <th>25%</th>\n      <td>0.0</td>\n      <td>0.0</td>\n      <td>NaN</td>\n    </tr>\n    <tr>\n      <th>50%</th>\n      <td>0.0</td>\n      <td>0.0</td>\n      <td>NaN</td>\n    </tr>\n    <tr>\n      <th>75%</th>\n      <td>0.0</td>\n      <td>0.0</td>\n      <td>NaN</td>\n    </tr>\n    <tr>\n      <th>max</th>\n      <td>0.0</td>\n      <td>0.0</td>\n      <td>NaN</td>\n    </tr>\n  </tbody>\n</table>\n</div>",
            "text/plain": "         3P   3PA  3P%\ncount  66.0  66.0  0.0\nmean    0.0   0.0  NaN\nstd     0.0   0.0  NaN\nmin     0.0   0.0  NaN\n25%     0.0   0.0  NaN\n50%     0.0   0.0  NaN\n75%     0.0   0.0  NaN\nmax     0.0   0.0  NaN"
          },
          "metadata": {}
        }
      ]
    },
    {
      "metadata": {
        "trusted": true
      },
      "cell_type": "code",
      "source": "stats[['2P', '2PA', '2P%']][stats['2P%'].isnull()].describe()",
      "execution_count": 9,
      "outputs": [
        {
          "output_type": "execute_result",
          "execution_count": 9,
          "data": {
            "text/html": "<div>\n<style scoped>\n    .dataframe tbody tr th:only-of-type {\n        vertical-align: middle;\n    }\n\n    .dataframe tbody tr th {\n        vertical-align: top;\n    }\n\n    .dataframe thead th {\n        text-align: right;\n    }\n</style>\n<table border=\"1\" class=\"dataframe\">\n  <thead>\n    <tr style=\"text-align: right;\">\n      <th></th>\n      <th>2P</th>\n      <th>2PA</th>\n      <th>2P%</th>\n    </tr>\n  </thead>\n  <tbody>\n    <tr>\n      <th>count</th>\n      <td>1.0</td>\n      <td>1.0</td>\n      <td>0.0</td>\n    </tr>\n    <tr>\n      <th>mean</th>\n      <td>0.0</td>\n      <td>0.0</td>\n      <td>NaN</td>\n    </tr>\n    <tr>\n      <th>std</th>\n      <td>NaN</td>\n      <td>NaN</td>\n      <td>NaN</td>\n    </tr>\n    <tr>\n      <th>min</th>\n      <td>0.0</td>\n      <td>0.0</td>\n      <td>NaN</td>\n    </tr>\n    <tr>\n      <th>25%</th>\n      <td>0.0</td>\n      <td>0.0</td>\n      <td>NaN</td>\n    </tr>\n    <tr>\n      <th>50%</th>\n      <td>0.0</td>\n      <td>0.0</td>\n      <td>NaN</td>\n    </tr>\n    <tr>\n      <th>75%</th>\n      <td>0.0</td>\n      <td>0.0</td>\n      <td>NaN</td>\n    </tr>\n    <tr>\n      <th>max</th>\n      <td>0.0</td>\n      <td>0.0</td>\n      <td>NaN</td>\n    </tr>\n  </tbody>\n</table>\n</div>",
            "text/plain": "        2P  2PA  2P%\ncount  1.0  1.0  0.0\nmean   0.0  0.0  NaN\nstd    NaN  NaN  NaN\nmin    0.0  0.0  NaN\n25%    0.0  0.0  NaN\n50%    0.0  0.0  NaN\n75%    0.0  0.0  NaN\nmax    0.0  0.0  NaN"
          },
          "metadata": {}
        }
      ]
    },
    {
      "metadata": {
        "trusted": true
      },
      "cell_type": "code",
      "source": "stats[['FT', 'FTA', 'FT%']][stats['FT%'].isnull()].describe()",
      "execution_count": 10,
      "outputs": [
        {
          "output_type": "execute_result",
          "execution_count": 10,
          "data": {
            "text/html": "<div>\n<style scoped>\n    .dataframe tbody tr th:only-of-type {\n        vertical-align: middle;\n    }\n\n    .dataframe tbody tr th {\n        vertical-align: top;\n    }\n\n    .dataframe thead th {\n        text-align: right;\n    }\n</style>\n<table border=\"1\" class=\"dataframe\">\n  <thead>\n    <tr style=\"text-align: right;\">\n      <th></th>\n      <th>FT</th>\n      <th>FTA</th>\n      <th>FT%</th>\n    </tr>\n  </thead>\n  <tbody>\n    <tr>\n      <th>count</th>\n      <td>3.0</td>\n      <td>3.0</td>\n      <td>0.0</td>\n    </tr>\n    <tr>\n      <th>mean</th>\n      <td>0.0</td>\n      <td>0.0</td>\n      <td>NaN</td>\n    </tr>\n    <tr>\n      <th>std</th>\n      <td>0.0</td>\n      <td>0.0</td>\n      <td>NaN</td>\n    </tr>\n    <tr>\n      <th>min</th>\n      <td>0.0</td>\n      <td>0.0</td>\n      <td>NaN</td>\n    </tr>\n    <tr>\n      <th>25%</th>\n      <td>0.0</td>\n      <td>0.0</td>\n      <td>NaN</td>\n    </tr>\n    <tr>\n      <th>50%</th>\n      <td>0.0</td>\n      <td>0.0</td>\n      <td>NaN</td>\n    </tr>\n    <tr>\n      <th>75%</th>\n      <td>0.0</td>\n      <td>0.0</td>\n      <td>NaN</td>\n    </tr>\n    <tr>\n      <th>max</th>\n      <td>0.0</td>\n      <td>0.0</td>\n      <td>NaN</td>\n    </tr>\n  </tbody>\n</table>\n</div>",
            "text/plain": "        FT  FTA  FT%\ncount  3.0  3.0  0.0\nmean   0.0  0.0  NaN\nstd    0.0  0.0  NaN\nmin    0.0  0.0  NaN\n25%    0.0  0.0  NaN\n50%    0.0  0.0  NaN\n75%    0.0  0.0  NaN\nmax    0.0  0.0  NaN"
          },
          "metadata": {}
        }
      ]
    },
    {
      "metadata": {},
      "cell_type": "markdown",
      "source": "NAN because is all 0"
    },
    {
      "metadata": {
        "trusted": true
      },
      "cell_type": "markdown",
      "source": "# NBA All Stars"
    },
    {
      "metadata": {
        "trusted": true
      },
      "cell_type": "code",
      "source": "allstar = pd.read_csv('Web-Scrapping Scripts/Basketball-Reference All-Stars.csv')\nallstar.head()",
      "execution_count": 11,
      "outputs": [
        {
          "output_type": "execute_result",
          "execution_count": 11,
          "data": {
            "text/html": "<div>\n<style scoped>\n    .dataframe tbody tr th:only-of-type {\n        vertical-align: middle;\n    }\n\n    .dataframe tbody tr th {\n        vertical-align: top;\n    }\n\n    .dataframe thead th {\n        text-align: right;\n    }\n</style>\n<table border=\"1\" class=\"dataframe\">\n  <thead>\n    <tr style=\"text-align: right;\">\n      <th></th>\n      <th>Player</th>\n      <th>Year</th>\n    </tr>\n  </thead>\n  <tbody>\n    <tr>\n      <th>0</th>\n      <td>Michael Jordan</td>\n      <td>1998</td>\n    </tr>\n    <tr>\n      <th>1</th>\n      <td>Grant Hill</td>\n      <td>1998</td>\n    </tr>\n    <tr>\n      <th>2</th>\n      <td>Shawn Kemp</td>\n      <td>1998</td>\n    </tr>\n    <tr>\n      <th>3</th>\n      <td>Dikembe Mutombo</td>\n      <td>1998</td>\n    </tr>\n    <tr>\n      <th>4</th>\n      <td>Anfernee Hardaway</td>\n      <td>1998</td>\n    </tr>\n  </tbody>\n</table>\n</div>",
            "text/plain": "              Player  Year\n0     Michael Jordan  1998\n1         Grant Hill  1998\n2         Shawn Kemp  1998\n3    Dikembe Mutombo  1998\n4  Anfernee Hardaway  1998"
          },
          "metadata": {}
        }
      ]
    },
    {
      "metadata": {
        "trusted": true
      },
      "cell_type": "code",
      "source": "allstar['All Star'] = 1\nallstar['Total All Star'] = 1",
      "execution_count": 12,
      "outputs": []
    },
    {
      "metadata": {
        "trusted": true
      },
      "cell_type": "code",
      "source": "stats = stats.merge(allstar, on = ['Player', 'Year'], how = 'outer').fillna(0).sort_values('Year')\nfor i in stats['Player'].unique():\n    stats.loc[stats['Player'] == i, 'Total All Star'] = stats.loc[stats['Player'] == i, 'Total All Star'].cumsum()\nstats = stats[stats['Year'] >= 2017]",
      "execution_count": 13,
      "outputs": []
    },
    {
      "metadata": {
        "trusted": true
      },
      "cell_type": "code",
      "source": "stats.shape",
      "execution_count": 14,
      "outputs": [
        {
          "output_type": "execute_result",
          "execution_count": 14,
          "data": {
            "text/plain": "(1322, 32)"
          },
          "metadata": {}
        }
      ]
    },
    {
      "metadata": {},
      "cell_type": "markdown",
      "source": "# NBA Awards"
    },
    {
      "metadata": {
        "trusted": true
      },
      "cell_type": "code",
      "source": "awards = pd.read_csv('Web-Scrapping Scripts/Basketball-Reference Awards 1998-2019.csv')\nawards.head()",
      "execution_count": 15,
      "outputs": [
        {
          "output_type": "execute_result",
          "execution_count": 15,
          "data": {
            "text/html": "<div>\n<style scoped>\n    .dataframe tbody tr th:only-of-type {\n        vertical-align: middle;\n    }\n\n    .dataframe tbody tr th {\n        vertical-align: top;\n    }\n\n    .dataframe thead th {\n        text-align: right;\n    }\n</style>\n<table border=\"1\" class=\"dataframe\">\n  <thead>\n    <tr style=\"text-align: right;\">\n      <th></th>\n      <th>Unnamed: 0</th>\n      <th>Year</th>\n      <th>Player</th>\n      <th>MVP</th>\n      <th>Rookie of Year</th>\n      <th>DPOY</th>\n      <th>6th man of Year</th>\n      <th>Most Improved</th>\n      <th>Finals MVP</th>\n    </tr>\n  </thead>\n  <tbody>\n    <tr>\n      <th>0</th>\n      <td>108</td>\n      <td>1998</td>\n      <td>Alan Henderson</td>\n      <td>NaN</td>\n      <td>NaN</td>\n      <td>NaN</td>\n      <td>NaN</td>\n      <td>1.0</td>\n      <td>NaN</td>\n    </tr>\n    <tr>\n      <th>1</th>\n      <td>21</td>\n      <td>1998</td>\n      <td>Michael Jordan</td>\n      <td>1.0</td>\n      <td>NaN</td>\n      <td>NaN</td>\n      <td>NaN</td>\n      <td>NaN</td>\n      <td>1.0</td>\n    </tr>\n    <tr>\n      <th>2</th>\n      <td>87</td>\n      <td>1998</td>\n      <td>Danny Manning</td>\n      <td>NaN</td>\n      <td>NaN</td>\n      <td>NaN</td>\n      <td>1.0</td>\n      <td>NaN</td>\n      <td>NaN</td>\n    </tr>\n    <tr>\n      <th>3</th>\n      <td>65</td>\n      <td>1998</td>\n      <td>Dikembe Mutombo</td>\n      <td>NaN</td>\n      <td>NaN</td>\n      <td>1.0</td>\n      <td>NaN</td>\n      <td>NaN</td>\n      <td>NaN</td>\n    </tr>\n    <tr>\n      <th>4</th>\n      <td>64</td>\n      <td>1999</td>\n      <td>Alonzo Mourning</td>\n      <td>NaN</td>\n      <td>NaN</td>\n      <td>1.0</td>\n      <td>NaN</td>\n      <td>NaN</td>\n      <td>NaN</td>\n    </tr>\n  </tbody>\n</table>\n</div>",
            "text/plain": "   Unnamed: 0  Year           Player  MVP  Rookie of Year  DPOY  \\\n0         108  1998   Alan Henderson  NaN             NaN   NaN   \n1          21  1998   Michael Jordan  1.0             NaN   NaN   \n2          87  1998    Danny Manning  NaN             NaN   NaN   \n3          65  1998  Dikembe Mutombo  NaN             NaN   1.0   \n4          64  1999  Alonzo Mourning  NaN             NaN   1.0   \n\n   6th man of Year  Most Improved  Finals MVP  \n0              NaN            1.0         NaN  \n1              NaN            NaN         1.0  \n2              1.0            NaN         NaN  \n3              NaN            NaN         NaN  \n4              NaN            NaN         NaN  "
          },
          "metadata": {}
        }
      ]
    },
    {
      "metadata": {
        "trusted": true
      },
      "cell_type": "code",
      "source": "awards.fillna(0, inplace = True)",
      "execution_count": 16,
      "outputs": []
    },
    {
      "metadata": {
        "trusted": true
      },
      "cell_type": "code",
      "source": "awards['Total MVP'] = awards['MVP']\nawards['Total Rookie of Year'] = awards['Rookie of Year']\nawards['Total DPOY'] = awards['DPOY']\nawards['Total 6th man of Year'] = awards['6th man of Year']\nawards['Total Most Improved'] = awards['Most Improved']\nawards['Total Finals MVP'] = awards['Finals MVP'] ",
      "execution_count": 17,
      "outputs": []
    },
    {
      "metadata": {
        "trusted": true
      },
      "cell_type": "code",
      "source": "stats = stats.merge(awards.drop('Unnamed: 0', axis = 1), on = ['Player', 'Year'], how = 'outer').fillna(0).sort_values('Year')\nfor i in stats['Player'].unique():\n    stats.loc[stats['Player'] == i , 'Total MVP'] = stats.loc[stats['Player'] == i, 'Total MVP'].cumsum()\n    stats.loc[stats['Player'] == i , 'Total Rookie of Year'] = stats.loc[stats['Player'] == i, 'Total Rookie of Year'].cumsum()\n    stats.loc[stats['Player'] == i , 'Total DPOY'] = stats.loc[stats['Player'] == i, 'Total DPOY'].cumsum()\n    stats.loc[stats['Player'] == i , 'Total 6th man of Year'] = stats.loc[stats['Player'] == i, 'Total 6th man of Year'].cumsum()\n    stats.loc[stats['Player'] == i , 'Total Most Improved'] = stats.loc[stats['Player'] == i, 'Total Most Improved'].cumsum()\n    stats.loc[stats['Player'] == i , 'Total Finals MVP'] = stats.loc[stats['Player'] == i, 'Total Finals MVP'].cumsum()\nstats = stats[stats['Year'] >= 2017]",
      "execution_count": 18,
      "outputs": []
    },
    {
      "metadata": {},
      "cell_type": "markdown",
      "source": "# All NBA Teams"
    },
    {
      "metadata": {
        "trusted": true
      },
      "cell_type": "code",
      "source": "allnba = pd.read_csv('Web-Scrapping Scripts/Basketball-Reference All NBA Teams.csv')\nallnba.head()",
      "execution_count": 19,
      "outputs": [
        {
          "output_type": "execute_result",
          "execution_count": 19,
          "data": {
            "text/html": "<div>\n<style scoped>\n    .dataframe tbody tr th:only-of-type {\n        vertical-align: middle;\n    }\n\n    .dataframe tbody tr th {\n        vertical-align: top;\n    }\n\n    .dataframe thead th {\n        text-align: right;\n    }\n</style>\n<table border=\"1\" class=\"dataframe\">\n  <thead>\n    <tr style=\"text-align: right;\">\n      <th></th>\n      <th>Unnamed: 0</th>\n      <th>Year</th>\n      <th>Team</th>\n      <th>Player</th>\n    </tr>\n  </thead>\n  <tbody>\n    <tr>\n      <th>0</th>\n      <td>0</td>\n      <td>2019</td>\n      <td>1st</td>\n      <td>Nikola Jokić</td>\n    </tr>\n    <tr>\n      <th>1</th>\n      <td>1</td>\n      <td>2019</td>\n      <td>1st</td>\n      <td>Giannis Antetokounmpo</td>\n    </tr>\n    <tr>\n      <th>2</th>\n      <td>2</td>\n      <td>2019</td>\n      <td>1st</td>\n      <td>Paul George</td>\n    </tr>\n    <tr>\n      <th>3</th>\n      <td>3</td>\n      <td>2019</td>\n      <td>1st</td>\n      <td>James Harden</td>\n    </tr>\n    <tr>\n      <th>4</th>\n      <td>4</td>\n      <td>2019</td>\n      <td>1st</td>\n      <td>Stephen Curry</td>\n    </tr>\n  </tbody>\n</table>\n</div>",
            "text/plain": "   Unnamed: 0  Year Team                 Player\n0           0  2019  1st           Nikola Jokić\n1           1  2019  1st  Giannis Antetokounmpo\n2           2  2019  1st            Paul George\n3           3  2019  1st           James Harden\n4           4  2019  1st          Stephen Curry"
          },
          "metadata": {}
        }
      ]
    },
    {
      "metadata": {
        "trusted": true
      },
      "cell_type": "code",
      "source": "allrookie = pd.read_csv('Web-Scrapping Scripts/Basketball-Reference All NBA Rookie Teams.csv')\nallrookie.head()",
      "execution_count": 20,
      "outputs": [
        {
          "output_type": "execute_result",
          "execution_count": 20,
          "data": {
            "text/html": "<div>\n<style scoped>\n    .dataframe tbody tr th:only-of-type {\n        vertical-align: middle;\n    }\n\n    .dataframe tbody tr th {\n        vertical-align: top;\n    }\n\n    .dataframe thead th {\n        text-align: right;\n    }\n</style>\n<table border=\"1\" class=\"dataframe\">\n  <thead>\n    <tr style=\"text-align: right;\">\n      <th></th>\n      <th>Unnamed: 0</th>\n      <th>Year</th>\n      <th>Team</th>\n      <th>Player</th>\n    </tr>\n  </thead>\n  <tbody>\n    <tr>\n      <th>0</th>\n      <td>0</td>\n      <td>2019</td>\n      <td>1st</td>\n      <td>Luka Dončić</td>\n    </tr>\n    <tr>\n      <th>1</th>\n      <td>1</td>\n      <td>2019</td>\n      <td>1st</td>\n      <td>Trae Young</td>\n    </tr>\n    <tr>\n      <th>2</th>\n      <td>2</td>\n      <td>2019</td>\n      <td>1st</td>\n      <td>Deandre Ayton</td>\n    </tr>\n    <tr>\n      <th>3</th>\n      <td>3</td>\n      <td>2019</td>\n      <td>1st</td>\n      <td>Jaren Jackson</td>\n    </tr>\n    <tr>\n      <th>4</th>\n      <td>4</td>\n      <td>2019</td>\n      <td>1st</td>\n      <td>Marvin Bagley</td>\n    </tr>\n  </tbody>\n</table>\n</div>",
            "text/plain": "   Unnamed: 0  Year Team         Player\n0           0  2019  1st    Luka Dončić\n1           1  2019  1st     Trae Young\n2           2  2019  1st  Deandre Ayton\n3           3  2019  1st  Jaren Jackson\n4           4  2019  1st  Marvin Bagley"
          },
          "metadata": {}
        }
      ]
    },
    {
      "metadata": {
        "trusted": true
      },
      "cell_type": "code",
      "source": "alldefensive = pd.read_csv('Web-Scrapping Scripts/Basketball-Reference All NBA Defensive Teams.csv')\nalldefensive.head()",
      "execution_count": 21,
      "outputs": [
        {
          "output_type": "execute_result",
          "execution_count": 21,
          "data": {
            "text/html": "<div>\n<style scoped>\n    .dataframe tbody tr th:only-of-type {\n        vertical-align: middle;\n    }\n\n    .dataframe tbody tr th {\n        vertical-align: top;\n    }\n\n    .dataframe thead th {\n        text-align: right;\n    }\n</style>\n<table border=\"1\" class=\"dataframe\">\n  <thead>\n    <tr style=\"text-align: right;\">\n      <th></th>\n      <th>Unnamed: 0</th>\n      <th>Year</th>\n      <th>Team</th>\n      <th>Player</th>\n    </tr>\n  </thead>\n  <tbody>\n    <tr>\n      <th>0</th>\n      <td>0</td>\n      <td>2019</td>\n      <td>1st</td>\n      <td>Rudy Gobert</td>\n    </tr>\n    <tr>\n      <th>1</th>\n      <td>1</td>\n      <td>2019</td>\n      <td>1st</td>\n      <td>Paul George</td>\n    </tr>\n    <tr>\n      <th>2</th>\n      <td>2</td>\n      <td>2019</td>\n      <td>1st</td>\n      <td>Giannis Antetokounmpo</td>\n    </tr>\n    <tr>\n      <th>3</th>\n      <td>3</td>\n      <td>2019</td>\n      <td>1st</td>\n      <td>Marcus Smart</td>\n    </tr>\n    <tr>\n      <th>4</th>\n      <td>4</td>\n      <td>2019</td>\n      <td>1st</td>\n      <td>Eric Bledsoe</td>\n    </tr>\n  </tbody>\n</table>\n</div>",
            "text/plain": "   Unnamed: 0  Year Team                 Player\n0           0  2019  1st            Rudy Gobert\n1           1  2019  1st            Paul George\n2           2  2019  1st  Giannis Antetokounmpo\n3           3  2019  1st           Marcus Smart\n4           4  2019  1st           Eric Bledsoe"
          },
          "metadata": {}
        }
      ]
    },
    {
      "metadata": {
        "trusted": true
      },
      "cell_type": "code",
      "source": "allnba.loc[allnba['Team'] == '1st', 'All NBA 1st Team'] = 1\nallnba.loc[allnba['Team'] == '2nd', 'All NBA 2nd Team'] = 1\nallnba.loc[allnba['Team'] == '3rd', 'All NBA 3rd Team'] = 1",
      "execution_count": 22,
      "outputs": []
    },
    {
      "metadata": {
        "trusted": true
      },
      "cell_type": "code",
      "source": "allrookie.loc[allrookie['Team'] == '1st', 'All Rookie 1st Team'] = 1\nallrookie.loc[allrookie['Team'] == '2nd', 'All Rookie 2nd Team'] = 1",
      "execution_count": 23,
      "outputs": []
    },
    {
      "metadata": {
        "trusted": true
      },
      "cell_type": "code",
      "source": "alldefensive.loc[alldefensive['Team'] == '1st', 'All Defensive 1st Team'] = 1\nalldefensive.loc[alldefensive['Team'] == '2nd', 'All Defensive 2nd Team'] = 1",
      "execution_count": 24,
      "outputs": []
    },
    {
      "metadata": {
        "trusted": true
      },
      "cell_type": "code",
      "source": "allnba['Total All NBA 1st Team'] = allnba['All NBA 1st Team']\nallnba['Total All NBA 2nd Team'] = allnba['All NBA 2nd Team']\nallnba['Total All NBA 3rd Team'] = allnba['All NBA 3rd Team']\n\nallrookie['Total All Rookie 1st Team'] = allrookie['All Rookie 1st Team']\nallrookie['Total All Rookie 2nd Team'] = allrookie['All Rookie 2nd Team']\n\nalldefensive['Total All Defensive 1st Team'] = alldefensive['All Defensive 1st Team']\nalldefensive['Total All Defensive 2nd Team'] = alldefensive['All Defensive 2nd Team']",
      "execution_count": 25,
      "outputs": []
    },
    {
      "metadata": {
        "trusted": true
      },
      "cell_type": "code",
      "source": "allnba.fillna(0, inplace = True)\nallrookie.fillna(0, inplace = True)\nalldefensive.fillna(0, inplace = True)",
      "execution_count": 26,
      "outputs": []
    },
    {
      "metadata": {
        "trusted": true
      },
      "cell_type": "code",
      "source": "stats = stats.merge(allnba.drop(['Unnamed: 0', 'Team'], axis = 1), on = ['Player', 'Year'], how = 'outer').fillna(0).sort_values('Year')\nfor i in stats['Player'].unique():\n    stats.loc[stats['Player'] == i , 'Total All NBA 1st Team'] = stats.loc[stats['Player'] == i, 'Total All NBA 1st Team'].cumsum()\n    stats.loc[stats['Player'] == i , 'Total All NBA 2nd Team'] = stats.loc[stats['Player'] == i, 'Total All NBA 2nd Team'].cumsum()\n    stats.loc[stats['Player'] == i , 'Total All NBA 3rd Team'] = stats.loc[stats['Player'] == i, 'Total All NBA 3rd Team'].cumsum()\nstats = stats[stats['Year'] >= 2017]",
      "execution_count": 27,
      "outputs": []
    },
    {
      "metadata": {
        "trusted": true
      },
      "cell_type": "code",
      "source": "stats = stats.merge(allrookie.drop(['Unnamed: 0', 'Team'], axis = 1), on = ['Player', 'Year'], how = 'outer').fillna(0).sort_values('Year')\nfor i in stats['Player'].unique():\n    stats.loc[stats['Player'] == i , 'Total All Rookie 1st Team'] = stats.loc[stats['Player'] == i, 'Total All Rookie 1st Team'].cumsum()\n    stats.loc[stats['Player'] == i , 'Total All Rookie 2nd Team'] = stats.loc[stats['Player'] == i, 'Total All Rookie 2nd Team'].cumsum()\nstats = stats[stats['Year'] >= 2017]",
      "execution_count": 28,
      "outputs": []
    },
    {
      "metadata": {
        "trusted": true
      },
      "cell_type": "code",
      "source": "stats = stats.merge(alldefensive.drop(['Unnamed: 0', 'Team'], axis = 1), on = ['Player', 'Year'], how = 'outer').fillna(0).sort_values('Year')\nfor i in stats['Player'].unique():\n    stats.loc[stats['Player'] == i , 'Total All Defensive 1st Team'] = stats.loc[stats['Player'] == i, 'Total All Defensive 1st Team'].cumsum()\n    stats.loc[stats['Player'] == i , 'Total All Defensive 2nd Team'] = stats.loc[stats['Player'] == i, 'Total All Defensive 2nd Team'].cumsum()\nstats = stats[stats['Year'] >= 2017]",
      "execution_count": 29,
      "outputs": []
    },
    {
      "metadata": {
        "trusted": true
      },
      "cell_type": "code",
      "source": "stats.shape",
      "execution_count": 30,
      "outputs": [
        {
          "output_type": "execute_result",
          "execution_count": 30,
          "data": {
            "text/plain": "(1325, 58)"
          },
          "metadata": {}
        }
      ]
    },
    {
      "metadata": {},
      "cell_type": "markdown",
      "source": "# Free Agency"
    },
    {
      "metadata": {
        "trusted": true
      },
      "cell_type": "code",
      "source": "free_agency = pd.read_csv('Web-Scrapping Scripts/Basketball-Reference Free Agency.csv')\nfree_agency.head()",
      "execution_count": 56,
      "outputs": [
        {
          "output_type": "execute_result",
          "execution_count": 56,
          "data": {
            "text/html": "<div>\n<style scoped>\n    .dataframe tbody tr th:only-of-type {\n        vertical-align: middle;\n    }\n\n    .dataframe tbody tr th {\n        vertical-align: top;\n    }\n\n    .dataframe thead th {\n        text-align: right;\n    }\n</style>\n<table border=\"1\" class=\"dataframe\">\n  <thead>\n    <tr style=\"text-align: right;\">\n      <th></th>\n      <th>Unnamed: 0</th>\n      <th>Player</th>\n      <th>Stats</th>\n      <th>Terms</th>\n      <th>Year</th>\n    </tr>\n  </thead>\n  <tbody>\n    <tr>\n      <th>0</th>\n      <td>0</td>\n      <td>Stephen Curry</td>\n      <td>25.3 Pts, 4.5 Reb, 6.6 Ast</td>\n      <td>Reportedly agreed to 5-yr/$201M deal with Warr...</td>\n      <td>2017</td>\n    </tr>\n    <tr>\n      <th>1</th>\n      <td>1</td>\n      <td>Kevin Durant</td>\n      <td>25.1 Pts, 8.3 Reb, 4.8 Ast</td>\n      <td>Reportedly agreed to 2-yr/$53M deal with Warriors</td>\n      <td>2017</td>\n    </tr>\n    <tr>\n      <th>2</th>\n      <td>2</td>\n      <td>Gordon Hayward</td>\n      <td>21.9 Pts, 5.4 Reb, 3.5 Ast</td>\n      <td>Signed 4-yr/$128M deal with Celtics</td>\n      <td>2017</td>\n    </tr>\n    <tr>\n      <th>3</th>\n      <td>3</td>\n      <td>Kyle Lowry</td>\n      <td>22.4 Pts, 4.8 Reb, 7.0 Ast</td>\n      <td>Signed 3-yr/$100M deal with Raptors</td>\n      <td>2017</td>\n    </tr>\n    <tr>\n      <th>4</th>\n      <td>4</td>\n      <td>Otto Porter</td>\n      <td>13.4 Pts, 6.4 Reb, 1.5 Ast</td>\n      <td>Signed 4-yr/$106M deal with Wizards</td>\n      <td>2017</td>\n    </tr>\n  </tbody>\n</table>\n</div>",
            "text/plain": "   Unnamed: 0          Player                       Stats  \\\n0           0   Stephen Curry  25.3 Pts, 4.5 Reb, 6.6 Ast   \n1           1    Kevin Durant  25.1 Pts, 8.3 Reb, 4.8 Ast   \n2           2  Gordon Hayward  21.9 Pts, 5.4 Reb, 3.5 Ast   \n3           3      Kyle Lowry  22.4 Pts, 4.8 Reb, 7.0 Ast   \n4           4     Otto Porter  13.4 Pts, 6.4 Reb, 1.5 Ast   \n\n                                               Terms  Year  \n0  Reportedly agreed to 5-yr/$201M deal with Warr...  2017  \n1  Reportedly agreed to 2-yr/$53M deal with Warriors  2017  \n2                Signed 4-yr/$128M deal with Celtics  2017  \n3                Signed 3-yr/$100M deal with Raptors  2017  \n4                Signed 4-yr/$106M deal with Wizards  2017  "
          },
          "metadata": {}
        }
      ]
    },
    {
      "metadata": {
        "trusted": true
      },
      "cell_type": "code",
      "source": "for j in free_agency['Player'].unique():\n    free_agency.replace(j, unidecode.unidecode(j), inplace = True)",
      "execution_count": 72,
      "outputs": []
    },
    {
      "metadata": {
        "trusted": true
      },
      "cell_type": "code",
      "source": "free_agency['Player'] = free_agency['Player'].str.replace('.', '')",
      "execution_count": 73,
      "outputs": []
    },
    {
      "metadata": {
        "trusted": true
      },
      "cell_type": "code",
      "source": "salary_2017_2018 = pd.read_csv('Web-Scrapping Scripts/Hoopshype.com NBA Salaries 2017-2018.csv')\nsalary_2017_2018.head()",
      "execution_count": 50,
      "outputs": [
        {
          "output_type": "execute_result",
          "execution_count": 50,
          "data": {
            "text/html": "<div>\n<style scoped>\n    .dataframe tbody tr th:only-of-type {\n        vertical-align: middle;\n    }\n\n    .dataframe tbody tr th {\n        vertical-align: top;\n    }\n\n    .dataframe thead th {\n        text-align: right;\n    }\n</style>\n<table border=\"1\" class=\"dataframe\">\n  <thead>\n    <tr style=\"text-align: right;\">\n      <th></th>\n      <th>Unnamed: 0</th>\n      <th>Player</th>\n      <th>Actual_Salary</th>\n      <th>Adjusted_Salary</th>\n      <th>Year</th>\n    </tr>\n  </thead>\n  <tbody>\n    <tr>\n      <th>0</th>\n      <td>0</td>\n      <td>Stephen Curry</td>\n      <td>34682550</td>\n      <td>36266630</td>\n      <td>2017</td>\n    </tr>\n    <tr>\n      <th>1</th>\n      <td>1</td>\n      <td>LeBron James</td>\n      <td>33285709</td>\n      <td>34805990</td>\n      <td>2017</td>\n    </tr>\n    <tr>\n      <th>2</th>\n      <td>2</td>\n      <td>Paul Millsap</td>\n      <td>30769231</td>\n      <td>32174575</td>\n      <td>2017</td>\n    </tr>\n    <tr>\n      <th>3</th>\n      <td>3</td>\n      <td>Gordon Hayward</td>\n      <td>29727900</td>\n      <td>31085683</td>\n      <td>2017</td>\n    </tr>\n    <tr>\n      <th>4</th>\n      <td>4</td>\n      <td>Blake Griffin</td>\n      <td>29512900</td>\n      <td>30860863</td>\n      <td>2017</td>\n    </tr>\n  </tbody>\n</table>\n</div>",
            "text/plain": "   Unnamed: 0          Player  Actual_Salary  Adjusted_Salary  Year\n0           0   Stephen Curry       34682550         36266630  2017\n1           1    LeBron James       33285709         34805990  2017\n2           2    Paul Millsap       30769231         32174575  2017\n3           3  Gordon Hayward       29727900         31085683  2017\n4           4   Blake Griffin       29512900         30860863  2017"
          },
          "metadata": {}
        }
      ]
    },
    {
      "metadata": {
        "trusted": true
      },
      "cell_type": "code",
      "source": "salary_2019 = pd.read_csv('Web-Scrapping Scripts/Hoopshype.com NBA Salaries 2019.csv')\nsalary_2019.head()",
      "execution_count": 34,
      "outputs": [
        {
          "output_type": "execute_result",
          "execution_count": 34,
          "data": {
            "text/html": "<div>\n<style scoped>\n    .dataframe tbody tr th:only-of-type {\n        vertical-align: middle;\n    }\n\n    .dataframe tbody tr th {\n        vertical-align: top;\n    }\n\n    .dataframe thead th {\n        text-align: right;\n    }\n</style>\n<table border=\"1\" class=\"dataframe\">\n  <thead>\n    <tr style=\"text-align: right;\">\n      <th></th>\n      <th>Unnamed: 0</th>\n      <th>Player</th>\n      <th>Salary</th>\n      <th>Year</th>\n    </tr>\n  </thead>\n  <tbody>\n    <tr>\n      <th>0</th>\n      <td>0</td>\n      <td>Stephen Curry</td>\n      <td>40231758</td>\n      <td>2019</td>\n    </tr>\n    <tr>\n      <th>1</th>\n      <td>1</td>\n      <td>Russell Westbrook</td>\n      <td>38506482</td>\n      <td>2019</td>\n    </tr>\n    <tr>\n      <th>2</th>\n      <td>2</td>\n      <td>Chris Paul</td>\n      <td>38506482</td>\n      <td>2019</td>\n    </tr>\n    <tr>\n      <th>3</th>\n      <td>3</td>\n      <td>James Harden</td>\n      <td>38199000</td>\n      <td>2019</td>\n    </tr>\n    <tr>\n      <th>4</th>\n      <td>4</td>\n      <td>John Wall</td>\n      <td>38199000</td>\n      <td>2019</td>\n    </tr>\n  </tbody>\n</table>\n</div>",
            "text/plain": "   Unnamed: 0             Player    Salary  Year\n0           0      Stephen Curry  40231758  2019\n1           1  Russell Westbrook  38506482  2019\n2           2         Chris Paul  38506482  2019\n3           3       James Harden  38199000  2019\n4           4          John Wall  38199000  2019"
          },
          "metadata": {}
        }
      ]
    },
    {
      "metadata": {
        "trusted": true
      },
      "cell_type": "code",
      "source": "free_agency.merge(salary_2017_2018[['Player', 'Actual_Salary', 'Year']], how = 'left', on = ['Player', 'Year'])",
      "execution_count": 57,
      "outputs": [
        {
          "output_type": "execute_result",
          "execution_count": 57,
          "data": {
            "text/html": "<div>\n<style scoped>\n    .dataframe tbody tr th:only-of-type {\n        vertical-align: middle;\n    }\n\n    .dataframe tbody tr th {\n        vertical-align: top;\n    }\n\n    .dataframe thead th {\n        text-align: right;\n    }\n</style>\n<table border=\"1\" class=\"dataframe\">\n  <thead>\n    <tr style=\"text-align: right;\">\n      <th></th>\n      <th>Unnamed: 0</th>\n      <th>Player</th>\n      <th>Stats</th>\n      <th>Terms</th>\n      <th>Year</th>\n      <th>Actual_Salary</th>\n    </tr>\n  </thead>\n  <tbody>\n    <tr>\n      <th>0</th>\n      <td>0</td>\n      <td>Stephen Curry</td>\n      <td>25.3 Pts, 4.5 Reb, 6.6 Ast</td>\n      <td>Reportedly agreed to 5-yr/$201M deal with Warr...</td>\n      <td>2017</td>\n      <td>34682550.0</td>\n    </tr>\n    <tr>\n      <th>1</th>\n      <td>1</td>\n      <td>Kevin Durant</td>\n      <td>25.1 Pts, 8.3 Reb, 4.8 Ast</td>\n      <td>Reportedly agreed to 2-yr/$53M deal with Warriors</td>\n      <td>2017</td>\n      <td>25000000.0</td>\n    </tr>\n    <tr>\n      <th>2</th>\n      <td>2</td>\n      <td>Gordon Hayward</td>\n      <td>21.9 Pts, 5.4 Reb, 3.5 Ast</td>\n      <td>Signed 4-yr/$128M deal with Celtics</td>\n      <td>2017</td>\n      <td>29727900.0</td>\n    </tr>\n    <tr>\n      <th>3</th>\n      <td>3</td>\n      <td>Kyle Lowry</td>\n      <td>22.4 Pts, 4.8 Reb, 7.0 Ast</td>\n      <td>Signed 3-yr/$100M deal with Raptors</td>\n      <td>2017</td>\n      <td>28903704.0</td>\n    </tr>\n    <tr>\n      <th>4</th>\n      <td>4</td>\n      <td>Otto Porter</td>\n      <td>13.4 Pts, 6.4 Reb, 1.5 Ast</td>\n      <td>Signed 4-yr/$106M deal with Wizards</td>\n      <td>2017</td>\n      <td>24773250.0</td>\n    </tr>\n    <tr>\n      <th>5</th>\n      <td>5</td>\n      <td>Jeff Teague</td>\n      <td>15.3 Pts, 4.0 Reb, 7.8 Ast</td>\n      <td>Signed 3-yr/$57M deal with Timberwolves</td>\n      <td>2017</td>\n      <td>19000000.0</td>\n    </tr>\n    <tr>\n      <th>6</th>\n      <td>6</td>\n      <td>Blake Griffin</td>\n      <td>21.6 Pts, 8.1 Reb, 4.9 Ast</td>\n      <td>Signed 5-yr/$173M deal with Clippers</td>\n      <td>2017</td>\n      <td>29512900.0</td>\n    </tr>\n    <tr>\n      <th>7</th>\n      <td>7</td>\n      <td>Andre Iguodala</td>\n      <td>7.6 Pts, 4.0 Reb, 3.4 Ast</td>\n      <td>Signed 3-yr/$48M deal with Warriors</td>\n      <td>2017</td>\n      <td>14814815.0</td>\n    </tr>\n    <tr>\n      <th>8</th>\n      <td>8</td>\n      <td>Danilo Gallinari</td>\n      <td>18.2 Pts, 5.2 Reb, 2.1 Ast</td>\n      <td>Traded to Clippers as part of sign and trade (...</td>\n      <td>2017</td>\n      <td>20559599.0</td>\n    </tr>\n    <tr>\n      <th>9</th>\n      <td>9</td>\n      <td>Pau Gasol</td>\n      <td>12.4 Pts, 7.8 Reb, 2.3 Ast</td>\n      <td>Signed 3-yr/$48M deal with Spurs</td>\n      <td>2017</td>\n      <td>16000000.0</td>\n    </tr>\n    <tr>\n      <th>10</th>\n      <td>10</td>\n      <td>Paul Millsap</td>\n      <td>18.1 Pts, 7.7 Reb, 3.7 Ast</td>\n      <td>Signed 3-yr/$90M deal with Nuggets</td>\n      <td>2017</td>\n      <td>30769231.0</td>\n    </tr>\n    <tr>\n      <th>11</th>\n      <td>11</td>\n      <td>Mason Plumlee</td>\n      <td>10.4 Pts, 7.5 Reb, 3.5 Ast</td>\n      <td>Signed 3-yr/$41M deal with Nuggets</td>\n      <td>2017</td>\n      <td>14041096.0</td>\n    </tr>\n    <tr>\n      <th>12</th>\n      <td>12</td>\n      <td>George Hill</td>\n      <td>16.9 Pts, 3.4 Reb, 4.2 Ast</td>\n      <td>Signed 3-yr/$57M deal with Kings</td>\n      <td>2017</td>\n      <td>20000000.0</td>\n    </tr>\n    <tr>\n      <th>13</th>\n      <td>13</td>\n      <td>JaMychal Green</td>\n      <td>8.9 Pts, 7.1 Reb, 1.1 Ast</td>\n      <td>Signed 2-yr/$27M deal with Grizzlies</td>\n      <td>2017</td>\n      <td>8533333.0</td>\n    </tr>\n    <tr>\n      <th>14</th>\n      <td>14</td>\n      <td>David Lee</td>\n      <td>7.3 Pts, 5.6 Reb, 1.6 Ast</td>\n      <td>NaN</td>\n      <td>2017</td>\n      <td>NaN</td>\n    </tr>\n    <tr>\n      <th>15</th>\n      <td>15</td>\n      <td>Dewayne Dedmon</td>\n      <td>5.1 Pts, 6.5 Reb, 0.6 Ast</td>\n      <td>Signed 2-yr/$14M deal with Hawks</td>\n      <td>2017</td>\n      <td>6900000.0</td>\n    </tr>\n    <tr>\n      <th>16</th>\n      <td>16</td>\n      <td>Serge Ibaka</td>\n      <td>14.8 Pts, 6.8 Reb, 0.9 Ast</td>\n      <td>Signed 3-yr/$65M deal with Raptors</td>\n      <td>2017</td>\n      <td>20061729.0</td>\n    </tr>\n    <tr>\n      <th>17</th>\n      <td>17</td>\n      <td>James Johnson</td>\n      <td>12.8 Pts, 4.9 Reb, 3.6 Ast</td>\n      <td>Signed 4-yr/$60M deal with Heat</td>\n      <td>2017</td>\n      <td>13734000.0</td>\n    </tr>\n    <tr>\n      <th>18</th>\n      <td>18</td>\n      <td>Patty Mills</td>\n      <td>9.5 Pts, 1.8 Reb, 3.5 Ast</td>\n      <td>Signed 4-yr/$50M deal with Spurs</td>\n      <td>2017</td>\n      <td>NaN</td>\n    </tr>\n    <tr>\n      <th>19</th>\n      <td>19</td>\n      <td>Joe Ingles</td>\n      <td>7.1 Pts, 3.2 Reb, 2.7 Ast</td>\n      <td>Signed 4-yr/$52M deal with Jazz</td>\n      <td>2017</td>\n      <td>13636364.0</td>\n    </tr>\n    <tr>\n      <th>20</th>\n      <td>20</td>\n      <td>Amir Johnson</td>\n      <td>6.5 Pts, 4.6 Reb, 1.8 Ast</td>\n      <td>Signed 1-yr/$11M deal with 76ers</td>\n      <td>2017</td>\n      <td>11000000.0</td>\n    </tr>\n    <tr>\n      <th>21</th>\n      <td>21</td>\n      <td>Tim Hardaway</td>\n      <td>14.5 Pts, 2.8 Reb, 2.3 Ast</td>\n      <td>Signed 4-yr/$71M deal with Knicks</td>\n      <td>2017</td>\n      <td>NaN</td>\n    </tr>\n    <tr>\n      <th>22</th>\n      <td>22</td>\n      <td>J.J. Redick</td>\n      <td>15.0 Pts, 2.2 Reb, 1.4 Ast</td>\n      <td>Signed 1-yr/$23M deal with 76ers</td>\n      <td>2017</td>\n      <td>NaN</td>\n    </tr>\n    <tr>\n      <th>23</th>\n      <td>23</td>\n      <td>Zaza Pachulia</td>\n      <td>6.1 Pts, 5.9 Reb, 1.9 Ast</td>\n      <td>Signed 1-yr/$3.5M deal with Warriors</td>\n      <td>2017</td>\n      <td>3477600.0</td>\n    </tr>\n    <tr>\n      <th>24</th>\n      <td>24</td>\n      <td>Kentavious Caldwell-Pope</td>\n      <td>13.8 Pts, 3.3 Reb, 2.5 Ast</td>\n      <td>Reportedly agreed to 1-yr/$18M deal with Lakers</td>\n      <td>2017</td>\n      <td>17745894.0</td>\n    </tr>\n    <tr>\n      <th>25</th>\n      <td>25</td>\n      <td>Andre Roberson</td>\n      <td>6.6 Pts, 5.1 Reb, 1.0 Ast</td>\n      <td>Signed 3-yr/$30M deal with Thunder</td>\n      <td>2017</td>\n      <td>9259260.0</td>\n    </tr>\n    <tr>\n      <th>26</th>\n      <td>26</td>\n      <td>Marreese Speights</td>\n      <td>8.7 Pts, 4.5 Reb, 0.8 Ast</td>\n      <td>Signed deal with Magic</td>\n      <td>2017</td>\n      <td>2116955.0</td>\n    </tr>\n    <tr>\n      <th>27</th>\n      <td>27</td>\n      <td>Nenê Hilário</td>\n      <td>9.1 Pts, 4.2 Reb, 1.0 Ast</td>\n      <td>Signed 3-yr/$11M deal with Rockets</td>\n      <td>2017</td>\n      <td>NaN</td>\n    </tr>\n    <tr>\n      <th>28</th>\n      <td>28</td>\n      <td>Ersan İlyasova</td>\n      <td>13.1 Pts, 5.9 Reb, 1.7 Ast</td>\n      <td>Signed 1-yr/$6M deal with Hawks</td>\n      <td>2017</td>\n      <td>NaN</td>\n    </tr>\n    <tr>\n      <th>29</th>\n      <td>29</td>\n      <td>Kelly Olynyk</td>\n      <td>9.0 Pts, 4.8 Reb, 2.0 Ast</td>\n      <td>Signed 4-yr/$50M deal with Heat</td>\n      <td>2017</td>\n      <td>12007169.0</td>\n    </tr>\n    <tr>\n      <th>...</th>\n      <td>...</td>\n      <td>...</td>\n      <td>...</td>\n      <td>...</td>\n      <td>...</td>\n      <td>...</td>\n    </tr>\n    <tr>\n      <th>556</th>\n      <td>228</td>\n      <td>Theo Pinson</td>\n      <td>4.5 Pts, 2.0 Reb, 1.2 Ast</td>\n      <td>Signed 2-yr $3.14M contract</td>\n      <td>2019</td>\n      <td>NaN</td>\n    </tr>\n    <tr>\n      <th>557</th>\n      <td>229</td>\n      <td>Brandon Sampson</td>\n      <td>5.1 Pts, 1.1 Reb, 0.7 Ast</td>\n      <td>NaN</td>\n      <td>2019</td>\n      <td>NaN</td>\n    </tr>\n    <tr>\n      <th>558</th>\n      <td>230</td>\n      <td>Jordan Sibert</td>\n      <td>3.0 Pts, 0.0 Reb, 0.0 Ast</td>\n      <td>Signed Exhibit 10 contract</td>\n      <td>2019</td>\n      <td>NaN</td>\n    </tr>\n    <tr>\n      <th>559</th>\n      <td>231</td>\n      <td>Kobi Simmons</td>\n      <td>0.0 Pts, 0.0 Reb, 0.0 Ast</td>\n      <td>Signed Exhibit 10 contract</td>\n      <td>2019</td>\n      <td>NaN</td>\n    </tr>\n    <tr>\n      <th>560</th>\n      <td>232</td>\n      <td>Sindarius Thornwell</td>\n      <td>1.0 Pts, 0.7 Reb, 0.3 Ast</td>\n      <td>Signed 1-yr $1.62M contract</td>\n      <td>2019</td>\n      <td>NaN</td>\n    </tr>\n    <tr>\n      <th>561</th>\n      <td>233</td>\n      <td>Tyler Ulis</td>\n      <td>0.0 Pts, 0.0 Reb, 0.0 Ast</td>\n      <td>Signed 1-yr $1.62M contract</td>\n      <td>2019</td>\n      <td>NaN</td>\n    </tr>\n    <tr>\n      <th>562</th>\n      <td>234</td>\n      <td>Quincy Acy</td>\n      <td>1.7 Pts, 2.5 Reb, 0.8 Ast</td>\n      <td>Will reportedly play in Israel</td>\n      <td>2019</td>\n      <td>NaN</td>\n    </tr>\n    <tr>\n      <th>563</th>\n      <td>235</td>\n      <td>Rawle Alkins</td>\n      <td>3.7 Pts, 2.6 Reb, 1.3 Ast</td>\n      <td>NaN</td>\n      <td>2019</td>\n      <td>NaN</td>\n    </tr>\n    <tr>\n      <th>564</th>\n      <td>236</td>\n      <td>Ron Baker</td>\n      <td>0.9 Pts, 0.7 Reb, 1.0 Ast</td>\n      <td>Will reportedly play in Russia</td>\n      <td>2019</td>\n      <td>NaN</td>\n    </tr>\n    <tr>\n      <th>565</th>\n      <td>237</td>\n      <td>Ian Clark</td>\n      <td>6.7 Pts, 1.5 Reb, 1.6 Ast</td>\n      <td>Will reportedly play in China</td>\n      <td>2019</td>\n      <td>NaN</td>\n    </tr>\n    <tr>\n      <th>566</th>\n      <td>238</td>\n      <td>Daniel Hamilton</td>\n      <td>3.0 Pts, 2.5 Reb, 1.2 Ast</td>\n      <td>Signed Exhibit 10 contract</td>\n      <td>2019</td>\n      <td>NaN</td>\n    </tr>\n    <tr>\n      <th>567</th>\n      <td>239</td>\n      <td>Andrew Harrison</td>\n      <td>3.2 Pts, 1.2 Reb, 1.4 Ast</td>\n      <td>Signed training camp deal</td>\n      <td>2019</td>\n      <td>NaN</td>\n    </tr>\n    <tr>\n      <th>568</th>\n      <td>240</td>\n      <td>Udonis Haslem</td>\n      <td>2.5 Pts, 2.7 Reb, 0.2 Ast</td>\n      <td>Signed 1-yr minimum salary contract</td>\n      <td>2019</td>\n      <td>NaN</td>\n    </tr>\n    <tr>\n      <th>569</th>\n      <td>241</td>\n      <td>Mario Hezonja</td>\n      <td>8.8 Pts, 4.1 Reb, 1.5 Ast</td>\n      <td>Signed 2-yr minimum salary contract</td>\n      <td>2019</td>\n      <td>NaN</td>\n    </tr>\n    <tr>\n      <th>570</th>\n      <td>242</td>\n      <td>Isaac Humphries</td>\n      <td>3.0 Pts, 2.2 Reb, 0.0 Ast</td>\n      <td>Signed Exhibit 10 contract</td>\n      <td>2019</td>\n      <td>NaN</td>\n    </tr>\n    <tr>\n      <th>571</th>\n      <td>243</td>\n      <td>Donatas Motiejūnas</td>\n      <td>2.0 Pts, 1.0 Reb, 0.3 Ast</td>\n      <td>Will reportedly play in China</td>\n      <td>2019</td>\n      <td>NaN</td>\n    </tr>\n    <tr>\n      <th>572</th>\n      <td>244</td>\n      <td>Malachi Richardson</td>\n      <td>1.4 Pts, 0.6 Reb, 0.0 Ast</td>\n      <td>Will reportedly play in Israel</td>\n      <td>2019</td>\n      <td>NaN</td>\n    </tr>\n    <tr>\n      <th>573</th>\n      <td>245</td>\n      <td>Miloš Teodosić</td>\n      <td>3.2 Pts, 1.1 Reb, 2.1 Ast</td>\n      <td>Will reportedly play in Italy</td>\n      <td>2019</td>\n      <td>NaN</td>\n    </tr>\n    <tr>\n      <th>574</th>\n      <td>246</td>\n      <td>Deng Adel</td>\n      <td>1.7 Pts, 1.0 Reb, 0.3 Ast</td>\n      <td>Signed Exhibit 10 contract</td>\n      <td>2019</td>\n      <td>NaN</td>\n    </tr>\n    <tr>\n      <th>575</th>\n      <td>247</td>\n      <td>Ryan Anderson</td>\n      <td>2.5 Pts, 2.2 Reb, 0.8 Ast</td>\n      <td>Signed 1-yr $2.56M contract</td>\n      <td>2019</td>\n      <td>NaN</td>\n    </tr>\n    <tr>\n      <th>576</th>\n      <td>248</td>\n      <td>Dairis Bertāns</td>\n      <td>2.8 Pts, 0.8 Reb, 0.8 Ast</td>\n      <td>Will reportedly play in Russia</td>\n      <td>2019</td>\n      <td>NaN</td>\n    </tr>\n    <tr>\n      <th>577</th>\n      <td>249</td>\n      <td>Marquese Chriss</td>\n      <td>4.2 Pts, 3.3 Reb, 0.5 Ast</td>\n      <td>Signed 1-yr $1.67M contract</td>\n      <td>2019</td>\n      <td>NaN</td>\n    </tr>\n    <tr>\n      <th>578</th>\n      <td>250</td>\n      <td>Jawun Evans</td>\n      <td>0.8 Pts, 1.5 Reb, 1.3 Ast</td>\n      <td>NaN</td>\n      <td>2019</td>\n      <td>NaN</td>\n    </tr>\n    <tr>\n      <th>579</th>\n      <td>251</td>\n      <td>Jimmer Fredette</td>\n      <td>3.7 Pts, 1.2 Reb, 1.3 Ast</td>\n      <td>Will reportedly play in Greece</td>\n      <td>2019</td>\n      <td>NaN</td>\n    </tr>\n    <tr>\n      <th>580</th>\n      <td>252</td>\n      <td>J.R. Smith</td>\n      <td>6.7 Pts, 1.6 Reb, 1.9 Ast</td>\n      <td>NaN</td>\n      <td>2019</td>\n      <td>NaN</td>\n    </tr>\n    <tr>\n      <th>581</th>\n      <td>253</td>\n      <td>Wade Baldwin</td>\n      <td>1.9 Pts, 0.9 Reb, 0.8 Ast</td>\n      <td>Will reportedly play in Greece</td>\n      <td>2019</td>\n      <td>NaN</td>\n    </tr>\n    <tr>\n      <th>582</th>\n      <td>254</td>\n      <td>Wayne Selden</td>\n      <td>6.9 Pts, 2.4 Reb, 1.5 Ast</td>\n      <td>Will reportedly play in China</td>\n      <td>2019</td>\n      <td>NaN</td>\n    </tr>\n    <tr>\n      <th>583</th>\n      <td>255</td>\n      <td>Jared Terrell</td>\n      <td>2.2 Pts, 0.4 Reb, 0.9 Ast</td>\n      <td>Will reportedly play in Israel</td>\n      <td>2019</td>\n      <td>NaN</td>\n    </tr>\n    <tr>\n      <th>584</th>\n      <td>256</td>\n      <td>Isaiah Thomas</td>\n      <td>8.1 Pts, 1.1 Reb, 1.9 Ast</td>\n      <td>Signed 1-yr $2.32M contract</td>\n      <td>2019</td>\n      <td>NaN</td>\n    </tr>\n    <tr>\n      <th>585</th>\n      <td>257</td>\n      <td>Antonio Blakeney</td>\n      <td>7.3 Pts, 1.9 Reb, 0.7 Ast</td>\n      <td>Will reportedly play in China</td>\n      <td>2019</td>\n      <td>NaN</td>\n    </tr>\n  </tbody>\n</table>\n<p>586 rows × 6 columns</p>\n</div>",
            "text/plain": "     Unnamed: 0                    Player                       Stats  \\\n0             0             Stephen Curry  25.3 Pts, 4.5 Reb, 6.6 Ast   \n1             1              Kevin Durant  25.1 Pts, 8.3 Reb, 4.8 Ast   \n2             2            Gordon Hayward  21.9 Pts, 5.4 Reb, 3.5 Ast   \n3             3                Kyle Lowry  22.4 Pts, 4.8 Reb, 7.0 Ast   \n4             4               Otto Porter  13.4 Pts, 6.4 Reb, 1.5 Ast   \n5             5               Jeff Teague  15.3 Pts, 4.0 Reb, 7.8 Ast   \n6             6             Blake Griffin  21.6 Pts, 8.1 Reb, 4.9 Ast   \n7             7            Andre Iguodala   7.6 Pts, 4.0 Reb, 3.4 Ast   \n8             8          Danilo Gallinari  18.2 Pts, 5.2 Reb, 2.1 Ast   \n9             9                 Pau Gasol  12.4 Pts, 7.8 Reb, 2.3 Ast   \n10           10              Paul Millsap  18.1 Pts, 7.7 Reb, 3.7 Ast   \n11           11             Mason Plumlee  10.4 Pts, 7.5 Reb, 3.5 Ast   \n12           12               George Hill  16.9 Pts, 3.4 Reb, 4.2 Ast   \n13           13            JaMychal Green   8.9 Pts, 7.1 Reb, 1.1 Ast   \n14           14                 David Lee   7.3 Pts, 5.6 Reb, 1.6 Ast   \n15           15            Dewayne Dedmon   5.1 Pts, 6.5 Reb, 0.6 Ast   \n16           16               Serge Ibaka  14.8 Pts, 6.8 Reb, 0.9 Ast   \n17           17             James Johnson  12.8 Pts, 4.9 Reb, 3.6 Ast   \n18           18               Patty Mills   9.5 Pts, 1.8 Reb, 3.5 Ast   \n19           19                Joe Ingles   7.1 Pts, 3.2 Reb, 2.7 Ast   \n20           20              Amir Johnson   6.5 Pts, 4.6 Reb, 1.8 Ast   \n21           21              Tim Hardaway  14.5 Pts, 2.8 Reb, 2.3 Ast   \n22           22               J.J. Redick  15.0 Pts, 2.2 Reb, 1.4 Ast   \n23           23             Zaza Pachulia   6.1 Pts, 5.9 Reb, 1.9 Ast   \n24           24  Kentavious Caldwell-Pope  13.8 Pts, 3.3 Reb, 2.5 Ast   \n25           25            Andre Roberson   6.6 Pts, 5.1 Reb, 1.0 Ast   \n26           26         Marreese Speights   8.7 Pts, 4.5 Reb, 0.8 Ast   \n27           27              Nenê Hilário   9.1 Pts, 4.2 Reb, 1.0 Ast   \n28           28            Ersan İlyasova  13.1 Pts, 5.9 Reb, 1.7 Ast   \n29           29              Kelly Olynyk   9.0 Pts, 4.8 Reb, 2.0 Ast   \n..          ...                       ...                         ...   \n556         228               Theo Pinson   4.5 Pts, 2.0 Reb, 1.2 Ast   \n557         229           Brandon Sampson   5.1 Pts, 1.1 Reb, 0.7 Ast   \n558         230             Jordan Sibert   3.0 Pts, 0.0 Reb, 0.0 Ast   \n559         231              Kobi Simmons   0.0 Pts, 0.0 Reb, 0.0 Ast   \n560         232       Sindarius Thornwell   1.0 Pts, 0.7 Reb, 0.3 Ast   \n561         233                Tyler Ulis   0.0 Pts, 0.0 Reb, 0.0 Ast   \n562         234                Quincy Acy   1.7 Pts, 2.5 Reb, 0.8 Ast   \n563         235              Rawle Alkins   3.7 Pts, 2.6 Reb, 1.3 Ast   \n564         236                 Ron Baker   0.9 Pts, 0.7 Reb, 1.0 Ast   \n565         237                 Ian Clark   6.7 Pts, 1.5 Reb, 1.6 Ast   \n566         238           Daniel Hamilton   3.0 Pts, 2.5 Reb, 1.2 Ast   \n567         239           Andrew Harrison   3.2 Pts, 1.2 Reb, 1.4 Ast   \n568         240             Udonis Haslem   2.5 Pts, 2.7 Reb, 0.2 Ast   \n569         241             Mario Hezonja   8.8 Pts, 4.1 Reb, 1.5 Ast   \n570         242           Isaac Humphries   3.0 Pts, 2.2 Reb, 0.0 Ast   \n571         243        Donatas Motiejūnas   2.0 Pts, 1.0 Reb, 0.3 Ast   \n572         244        Malachi Richardson   1.4 Pts, 0.6 Reb, 0.0 Ast   \n573         245            Miloš Teodosić   3.2 Pts, 1.1 Reb, 2.1 Ast   \n574         246                 Deng Adel   1.7 Pts, 1.0 Reb, 0.3 Ast   \n575         247             Ryan Anderson   2.5 Pts, 2.2 Reb, 0.8 Ast   \n576         248            Dairis Bertāns   2.8 Pts, 0.8 Reb, 0.8 Ast   \n577         249           Marquese Chriss   4.2 Pts, 3.3 Reb, 0.5 Ast   \n578         250               Jawun Evans   0.8 Pts, 1.5 Reb, 1.3 Ast   \n579         251           Jimmer Fredette   3.7 Pts, 1.2 Reb, 1.3 Ast   \n580         252                J.R. Smith   6.7 Pts, 1.6 Reb, 1.9 Ast   \n581         253              Wade Baldwin   1.9 Pts, 0.9 Reb, 0.8 Ast   \n582         254              Wayne Selden   6.9 Pts, 2.4 Reb, 1.5 Ast   \n583         255             Jared Terrell   2.2 Pts, 0.4 Reb, 0.9 Ast   \n584         256             Isaiah Thomas   8.1 Pts, 1.1 Reb, 1.9 Ast   \n585         257          Antonio Blakeney   7.3 Pts, 1.9 Reb, 0.7 Ast   \n\n                                                 Terms  Year  Actual_Salary  \n0    Reportedly agreed to 5-yr/$201M deal with Warr...  2017     34682550.0  \n1    Reportedly agreed to 2-yr/$53M deal with Warriors  2017     25000000.0  \n2                  Signed 4-yr/$128M deal with Celtics  2017     29727900.0  \n3                  Signed 3-yr/$100M deal with Raptors  2017     28903704.0  \n4                  Signed 4-yr/$106M deal with Wizards  2017     24773250.0  \n5              Signed 3-yr/$57M deal with Timberwolves  2017     19000000.0  \n6                 Signed 5-yr/$173M deal with Clippers  2017     29512900.0  \n7                  Signed 3-yr/$48M deal with Warriors  2017     14814815.0  \n8    Traded to Clippers as part of sign and trade (...  2017     20559599.0  \n9                     Signed 3-yr/$48M deal with Spurs  2017     16000000.0  \n10                  Signed 3-yr/$90M deal with Nuggets  2017     30769231.0  \n11                  Signed 3-yr/$41M deal with Nuggets  2017     14041096.0  \n12                    Signed 3-yr/$57M deal with Kings  2017     20000000.0  \n13                Signed 2-yr/$27M deal with Grizzlies  2017      8533333.0  \n14                                                 NaN  2017            NaN  \n15                    Signed 2-yr/$14M deal with Hawks  2017      6900000.0  \n16                  Signed 3-yr/$65M deal with Raptors  2017     20061729.0  \n17                     Signed 4-yr/$60M deal with Heat  2017     13734000.0  \n18                    Signed 4-yr/$50M deal with Spurs  2017            NaN  \n19                     Signed 4-yr/$52M deal with Jazz  2017     13636364.0  \n20                    Signed 1-yr/$11M deal with 76ers  2017     11000000.0  \n21                   Signed 4-yr/$71M deal with Knicks  2017            NaN  \n22                    Signed 1-yr/$23M deal with 76ers  2017            NaN  \n23                Signed 1-yr/$3.5M deal with Warriors  2017      3477600.0  \n24     Reportedly agreed to 1-yr/$18M deal with Lakers  2017     17745894.0  \n25                  Signed 3-yr/$30M deal with Thunder  2017      9259260.0  \n26                              Signed deal with Magic  2017      2116955.0  \n27                  Signed 3-yr/$11M deal with Rockets  2017            NaN  \n28                     Signed 1-yr/$6M deal with Hawks  2017            NaN  \n29                     Signed 4-yr/$50M deal with Heat  2017     12007169.0  \n..                                                 ...   ...            ...  \n556                        Signed 2-yr $3.14M contract  2019            NaN  \n557                                                NaN  2019            NaN  \n558                         Signed Exhibit 10 contract  2019            NaN  \n559                         Signed Exhibit 10 contract  2019            NaN  \n560                        Signed 1-yr $1.62M contract  2019            NaN  \n561                        Signed 1-yr $1.62M contract  2019            NaN  \n562                     Will reportedly play in Israel  2019            NaN  \n563                                                NaN  2019            NaN  \n564                     Will reportedly play in Russia  2019            NaN  \n565                      Will reportedly play in China  2019            NaN  \n566                         Signed Exhibit 10 contract  2019            NaN  \n567                          Signed training camp deal  2019            NaN  \n568                Signed 1-yr minimum salary contract  2019            NaN  \n569                Signed 2-yr minimum salary contract  2019            NaN  \n570                         Signed Exhibit 10 contract  2019            NaN  \n571                      Will reportedly play in China  2019            NaN  \n572                     Will reportedly play in Israel  2019            NaN  \n573                      Will reportedly play in Italy  2019            NaN  \n574                         Signed Exhibit 10 contract  2019            NaN  \n575                        Signed 1-yr $2.56M contract  2019            NaN  \n576                     Will reportedly play in Russia  2019            NaN  \n577                        Signed 1-yr $1.67M contract  2019            NaN  \n578                                                NaN  2019            NaN  \n579                     Will reportedly play in Greece  2019            NaN  \n580                                                NaN  2019            NaN  \n581                     Will reportedly play in Greece  2019            NaN  \n582                      Will reportedly play in China  2019            NaN  \n583                     Will reportedly play in Israel  2019            NaN  \n584                        Signed 1-yr $2.32M contract  2019            NaN  \n585                      Will reportedly play in China  2019            NaN  \n\n[586 rows x 6 columns]"
          },
          "metadata": {}
        }
      ]
    },
    {
      "metadata": {
        "trusted": true
      },
      "cell_type": "code",
      "source": "inconsistent_in_stats = []\nfor i, k in enumerate(free_agency.merge(salary_2017_2018, how = 'left', on = 'Player')['Player']):\n    inconsistent_in_stats += [k] if free_agency.merge(salary_2017_2018, how = 'left', on = 'Player')['Actual_Salary'].isnull()[i] else []\n    \ninconsistent_in_stats",
      "execution_count": 74,
      "outputs": [
        {
          "output_type": "execute_result",
          "execution_count": 74,
          "data": {
            "text/plain": "['David Lee',\n 'Patty Mills',\n 'Tim Hardaway',\n 'Nene Hilario',\n 'Brandon Bass',\n 'Roy Hibbert',\n 'Kris Humphries',\n 'Beno Udrih',\n 'Anthony Morrow',\n 'Boris Diaw',\n 'Thomas Robinson',\n 'James Jones',\n 'Luis Scola',\n 'Sergio Rodriguez',\n 'Rakeem Christmas',\n 'Marcus Thornton',\n 'Joel Anthony',\n 'Maurice Ndour',\n 'Chris Andersen',\n 'Randy Foye',\n 'Brian Roberts',\n 'Jarrod Uthoff',\n 'Alan Anderson',\n 'Ryan Kelly',\n 'Mike Miller',\n 'Damjan Rudez',\n 'Tiago Splitter',\n 'Sasha Vujacic',\n 'Jordan Hill',\n 'Kyle Wiltjer',\n 'Stephen Zimmerman',\n 'Norris Cole',\n 'Rodney Stuckey',\n 'Jared Sullinger',\n 'Metta World Peace',\n 'Glenn Robinson',\n 'Joe Young',\n 'Gary Payton',\n 'Ish Smith',\n 'Nene Hilario',\n 'JJ Barea',\n 'Glenn Robinson',\n 'Cameron Reynolds',\n 'Ray Spalding',\n 'Walt Lemon',\n 'Vince Edwards']"
          },
          "metadata": {}
        }
      ]
    },
    {
      "metadata": {
        "trusted": true
      },
      "cell_type": "code",
      "source": "stats[stats['Player'] == 'J.J. Redick']",
      "execution_count": 63,
      "outputs": [
        {
          "output_type": "execute_result",
          "execution_count": 63,
          "data": {
            "text/html": "<div>\n<style scoped>\n    .dataframe tbody tr th:only-of-type {\n        vertical-align: middle;\n    }\n\n    .dataframe tbody tr th {\n        vertical-align: top;\n    }\n\n    .dataframe thead th {\n        text-align: right;\n    }\n</style>\n<table border=\"1\" class=\"dataframe\">\n  <thead>\n    <tr style=\"text-align: right;\">\n      <th></th>\n      <th>Player</th>\n      <th>Pos</th>\n      <th>Age</th>\n      <th>Tm</th>\n      <th>G</th>\n      <th>GS</th>\n      <th>MP</th>\n      <th>FG</th>\n      <th>FGA</th>\n      <th>FG%</th>\n      <th>3P</th>\n      <th>3PA</th>\n      <th>3P%</th>\n      <th>2P</th>\n      <th>2PA</th>\n      <th>2P%</th>\n      <th>eFT%</th>\n      <th>FT</th>\n      <th>FTA</th>\n      <th>FT%</th>\n      <th>ORB</th>\n      <th>DRB</th>\n      <th>TRB</th>\n      <th>AST</th>\n      <th>STL</th>\n      <th>BLK</th>\n      <th>TOV</th>\n      <th>PF</th>\n      <th>PTS</th>\n      <th>Year</th>\n      <th>All Star</th>\n      <th>Total All Star</th>\n      <th>MVP</th>\n      <th>Rookie of Year</th>\n      <th>DPOY</th>\n      <th>6th man of Year</th>\n      <th>Most Improved</th>\n      <th>Finals MVP</th>\n      <th>Total MVP</th>\n      <th>Total Rookie of Year</th>\n      <th>Total DPOY</th>\n      <th>Total 6th man of Year</th>\n      <th>Total Most Improved</th>\n      <th>Total Finals MVP</th>\n      <th>All NBA 1st Team</th>\n      <th>All NBA 2nd Team</th>\n      <th>All NBA 3rd Team</th>\n      <th>Total All NBA 1st Team</th>\n      <th>Total All NBA 2nd Team</th>\n      <th>Total All NBA 3rd Team</th>\n      <th>All Rookie 1st Team</th>\n      <th>All Rookie 2nd Team</th>\n      <th>Total All Rookie 1st Team</th>\n      <th>Total All Rookie 2nd Team</th>\n      <th>All Defensive 1st Team</th>\n      <th>All Defensive 2nd Team</th>\n      <th>Total All Defensive 1st Team</th>\n      <th>Total All Defensive 2nd Team</th>\n    </tr>\n  </thead>\n  <tbody>\n    <tr>\n      <th>240</th>\n      <td>J.J. Redick</td>\n      <td>SG</td>\n      <td>32.0</td>\n      <td>LAC</td>\n      <td>78.0</td>\n      <td>78.0</td>\n      <td>28.2</td>\n      <td>5.1</td>\n      <td>11.4</td>\n      <td>0.445</td>\n      <td>2.6</td>\n      <td>6.0</td>\n      <td>0.429</td>\n      <td>2.5</td>\n      <td>5.4</td>\n      <td>0.462</td>\n      <td>0.558</td>\n      <td>2.3</td>\n      <td>2.6</td>\n      <td>0.891</td>\n      <td>0.1</td>\n      <td>2.1</td>\n      <td>2.2</td>\n      <td>1.4</td>\n      <td>0.7</td>\n      <td>0.2</td>\n      <td>1.3</td>\n      <td>1.6</td>\n      <td>15.0</td>\n      <td>2017</td>\n      <td>0.0</td>\n      <td>0.0</td>\n      <td>0.0</td>\n      <td>0.0</td>\n      <td>0.0</td>\n      <td>0.0</td>\n      <td>0.0</td>\n      <td>0.0</td>\n      <td>0.0</td>\n      <td>0.0</td>\n      <td>0.0</td>\n      <td>0.0</td>\n      <td>0.0</td>\n      <td>0.0</td>\n      <td>0.0</td>\n      <td>0.0</td>\n      <td>0.0</td>\n      <td>0.0</td>\n      <td>0.0</td>\n      <td>0.0</td>\n      <td>0.0</td>\n      <td>0.0</td>\n      <td>0.0</td>\n      <td>0.0</td>\n      <td>0.0</td>\n      <td>0.0</td>\n      <td>0.0</td>\n      <td>0.0</td>\n    </tr>\n    <tr>\n      <th>707</th>\n      <td>J.J. Redick</td>\n      <td>SG</td>\n      <td>33.0</td>\n      <td>PHI</td>\n      <td>70.0</td>\n      <td>70.0</td>\n      <td>30.2</td>\n      <td>5.8</td>\n      <td>12.6</td>\n      <td>0.460</td>\n      <td>2.8</td>\n      <td>6.6</td>\n      <td>0.420</td>\n      <td>3.0</td>\n      <td>6.0</td>\n      <td>0.504</td>\n      <td>0.569</td>\n      <td>2.8</td>\n      <td>3.1</td>\n      <td>0.904</td>\n      <td>0.1</td>\n      <td>2.4</td>\n      <td>2.5</td>\n      <td>3.0</td>\n      <td>0.5</td>\n      <td>0.1</td>\n      <td>1.5</td>\n      <td>1.8</td>\n      <td>17.1</td>\n      <td>2018</td>\n      <td>0.0</td>\n      <td>0.0</td>\n      <td>0.0</td>\n      <td>0.0</td>\n      <td>0.0</td>\n      <td>0.0</td>\n      <td>0.0</td>\n      <td>0.0</td>\n      <td>0.0</td>\n      <td>0.0</td>\n      <td>0.0</td>\n      <td>0.0</td>\n      <td>0.0</td>\n      <td>0.0</td>\n      <td>0.0</td>\n      <td>0.0</td>\n      <td>0.0</td>\n      <td>0.0</td>\n      <td>0.0</td>\n      <td>0.0</td>\n      <td>0.0</td>\n      <td>0.0</td>\n      <td>0.0</td>\n      <td>0.0</td>\n      <td>0.0</td>\n      <td>0.0</td>\n      <td>0.0</td>\n      <td>0.0</td>\n    </tr>\n    <tr>\n      <th>1171</th>\n      <td>J.J. Redick</td>\n      <td>SG</td>\n      <td>34.0</td>\n      <td>PHI</td>\n      <td>76.0</td>\n      <td>63.0</td>\n      <td>31.3</td>\n      <td>5.9</td>\n      <td>13.5</td>\n      <td>0.440</td>\n      <td>3.2</td>\n      <td>8.0</td>\n      <td>0.397</td>\n      <td>2.8</td>\n      <td>5.6</td>\n      <td>0.502</td>\n      <td>0.557</td>\n      <td>3.0</td>\n      <td>3.4</td>\n      <td>0.894</td>\n      <td>0.3</td>\n      <td>2.2</td>\n      <td>2.4</td>\n      <td>2.7</td>\n      <td>0.4</td>\n      <td>0.2</td>\n      <td>1.3</td>\n      <td>1.7</td>\n      <td>18.1</td>\n      <td>2019</td>\n      <td>0.0</td>\n      <td>0.0</td>\n      <td>0.0</td>\n      <td>0.0</td>\n      <td>0.0</td>\n      <td>0.0</td>\n      <td>0.0</td>\n      <td>0.0</td>\n      <td>0.0</td>\n      <td>0.0</td>\n      <td>0.0</td>\n      <td>0.0</td>\n      <td>0.0</td>\n      <td>0.0</td>\n      <td>0.0</td>\n      <td>0.0</td>\n      <td>0.0</td>\n      <td>0.0</td>\n      <td>0.0</td>\n      <td>0.0</td>\n      <td>0.0</td>\n      <td>0.0</td>\n      <td>0.0</td>\n      <td>0.0</td>\n      <td>0.0</td>\n      <td>0.0</td>\n      <td>0.0</td>\n      <td>0.0</td>\n    </tr>\n  </tbody>\n</table>\n</div>",
            "text/plain": "           Player Pos   Age   Tm     G    GS    MP   FG   FGA    FG%   3P  \\\n240   J.J. Redick  SG  32.0  LAC  78.0  78.0  28.2  5.1  11.4  0.445  2.6   \n707   J.J. Redick  SG  33.0  PHI  70.0  70.0  30.2  5.8  12.6  0.460  2.8   \n1171  J.J. Redick  SG  34.0  PHI  76.0  63.0  31.3  5.9  13.5  0.440  3.2   \n\n      3PA    3P%   2P  2PA    2P%   eFT%   FT  FTA    FT%  ORB  DRB  TRB  AST  \\\n240   6.0  0.429  2.5  5.4  0.462  0.558  2.3  2.6  0.891  0.1  2.1  2.2  1.4   \n707   6.6  0.420  3.0  6.0  0.504  0.569  2.8  3.1  0.904  0.1  2.4  2.5  3.0   \n1171  8.0  0.397  2.8  5.6  0.502  0.557  3.0  3.4  0.894  0.3  2.2  2.4  2.7   \n\n      STL  BLK  TOV   PF   PTS  Year  All Star  Total All Star  MVP  \\\n240   0.7  0.2  1.3  1.6  15.0  2017       0.0             0.0  0.0   \n707   0.5  0.1  1.5  1.8  17.1  2018       0.0             0.0  0.0   \n1171  0.4  0.2  1.3  1.7  18.1  2019       0.0             0.0  0.0   \n\n      Rookie of Year  DPOY  6th man of Year  Most Improved  Finals MVP  \\\n240              0.0   0.0              0.0            0.0         0.0   \n707              0.0   0.0              0.0            0.0         0.0   \n1171             0.0   0.0              0.0            0.0         0.0   \n\n      Total MVP  Total Rookie of Year  Total DPOY  Total 6th man of Year  \\\n240         0.0                   0.0         0.0                    0.0   \n707         0.0                   0.0         0.0                    0.0   \n1171        0.0                   0.0         0.0                    0.0   \n\n      Total Most Improved  Total Finals MVP  All NBA 1st Team  \\\n240                   0.0               0.0               0.0   \n707                   0.0               0.0               0.0   \n1171                  0.0               0.0               0.0   \n\n      All NBA 2nd Team  All NBA 3rd Team  Total All NBA 1st Team  \\\n240                0.0               0.0                     0.0   \n707                0.0               0.0                     0.0   \n1171               0.0               0.0                     0.0   \n\n      Total All NBA 2nd Team  Total All NBA 3rd Team  All Rookie 1st Team  \\\n240                      0.0                     0.0                  0.0   \n707                      0.0                     0.0                  0.0   \n1171                     0.0                     0.0                  0.0   \n\n      All Rookie 2nd Team  Total All Rookie 1st Team  \\\n240                   0.0                        0.0   \n707                   0.0                        0.0   \n1171                  0.0                        0.0   \n\n      Total All Rookie 2nd Team  All Defensive 1st Team  \\\n240                         0.0                     0.0   \n707                         0.0                     0.0   \n1171                        0.0                     0.0   \n\n      All Defensive 2nd Team  Total All Defensive 1st Team  \\\n240                      0.0                           0.0   \n707                      0.0                           0.0   \n1171                     0.0                           0.0   \n\n      Total All Defensive 2nd Team  \n240                            0.0  \n707                            0.0  \n1171                           0.0  "
          },
          "metadata": {}
        }
      ]
    },
    {
      "metadata": {
        "trusted": true
      },
      "cell_type": "code",
      "source": "free_agency[free_agency['Player'] == 'Stephen Curry']",
      "execution_count": 44,
      "outputs": [
        {
          "output_type": "execute_result",
          "execution_count": 44,
          "data": {
            "text/html": "<div>\n<style scoped>\n    .dataframe tbody tr th:only-of-type {\n        vertical-align: middle;\n    }\n\n    .dataframe tbody tr th {\n        vertical-align: top;\n    }\n\n    .dataframe thead th {\n        text-align: right;\n    }\n</style>\n<table border=\"1\" class=\"dataframe\">\n  <thead>\n    <tr style=\"text-align: right;\">\n      <th></th>\n      <th>Unnamed: 0</th>\n      <th>Player</th>\n      <th>Terms</th>\n      <th>Year</th>\n    </tr>\n  </thead>\n  <tbody>\n    <tr>\n      <th>0</th>\n      <td>0</td>\n      <td>Stephen Curry</td>\n      <td>Reportedly agreed to 5-yr/$201M deal with Warr...</td>\n      <td>2017</td>\n    </tr>\n  </tbody>\n</table>\n</div>",
            "text/plain": "   Unnamed: 0         Player  \\\n0           0  Stephen Curry   \n\n                                               Terms  Year  \n0  Reportedly agreed to 5-yr/$201M deal with Warr...  2017  "
          },
          "metadata": {}
        }
      ]
    },
    {
      "metadata": {
        "trusted": true
      },
      "cell_type": "code",
      "source": "salary_2017_2018['Year'].unique()",
      "execution_count": 39,
      "outputs": [
        {
          "output_type": "execute_result",
          "execution_count": 39,
          "data": {
            "text/plain": "array([2017, 2018])"
          },
          "metadata": {}
        }
      ]
    },
    {
      "metadata": {
        "trusted": true
      },
      "cell_type": "code",
      "source": "salary_2017_2018[salary_2017_2018['Player'] == 'Stephen Curry']",
      "execution_count": 49,
      "outputs": [
        {
          "output_type": "execute_result",
          "execution_count": 49,
          "data": {
            "text/html": "<div>\n<style scoped>\n    .dataframe tbody tr th:only-of-type {\n        vertical-align: middle;\n    }\n\n    .dataframe tbody tr th {\n        vertical-align: top;\n    }\n\n    .dataframe thead th {\n        text-align: right;\n    }\n</style>\n<table border=\"1\" class=\"dataframe\">\n  <thead>\n    <tr style=\"text-align: right;\">\n      <th></th>\n      <th>Unnamed: 0</th>\n      <th>Player</th>\n      <th>Actual_Salary</th>\n      <th>Adjusted_Salary</th>\n      <th>Year</th>\n    </tr>\n  </thead>\n  <tbody>\n    <tr>\n      <th>0</th>\n      <td>0</td>\n      <td>Stephen Curry</td>\n      <td>34682550</td>\n      <td>36266630</td>\n      <td>2017</td>\n    </tr>\n    <tr>\n      <th>586</th>\n      <td>0</td>\n      <td>Stephen Curry</td>\n      <td>34682550</td>\n      <td>36266630</td>\n      <td>2017</td>\n    </tr>\n    <tr>\n      <th>1172</th>\n      <td>0</td>\n      <td>Stephen Curry</td>\n      <td>37457154</td>\n      <td>38074629</td>\n      <td>2018</td>\n    </tr>\n  </tbody>\n</table>\n</div>",
            "text/plain": "      Unnamed: 0         Player  Actual_Salary  Adjusted_Salary  Year\n0              0  Stephen Curry       34682550         36266630  2017\n586            0  Stephen Curry       34682550         36266630  2017\n1172           0  Stephen Curry       37457154         38074629  2018"
          },
          "metadata": {}
        }
      ]
    },
    {
      "metadata": {
        "trusted": true
      },
      "cell_type": "code",
      "source": "",
      "execution_count": null,
      "outputs": []
    }
  ],
  "metadata": {
    "kernelspec": {
      "name": "python36",
      "display_name": "Python 3.6",
      "language": "python"
    },
    "language_info": {
      "mimetype": "text/x-python",
      "nbconvert_exporter": "python",
      "name": "python",
      "pygments_lexer": "ipython3",
      "version": "3.6.6",
      "file_extension": ".py",
      "codemirror_mode": {
        "version": 3,
        "name": "ipython"
      }
    }
  },
  "nbformat": 4,
  "nbformat_minor": 2
}